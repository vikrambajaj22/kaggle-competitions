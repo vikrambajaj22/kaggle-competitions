{
 "cells": [
  {
   "cell_type": "markdown",
   "id": "cf9e4097",
   "metadata": {
    "papermill": {
     "duration": 0.020288,
     "end_time": "2022-06-20T18:30:04.243421",
     "exception": false,
     "start_time": "2022-06-20T18:30:04.223133",
     "status": "completed"
    },
    "tags": []
   },
   "source": [
    "## U.S. Patent Phrase to Phrase Matching\n",
    "### Help Identify Similar Phrases in U.S. Patents\n",
    "https://www.kaggle.com/competitions/us-patent-phrase-to-phrase-matching/overview\n",
    "\n",
    "Match patent phrases given the context (patent category). Result scores should be one of:\n",
    "- 1.0: Very close match. This is typically an exact match except possibly for differences in conjugation, quantity (e.g. singular vs. plural), and addition or removal of stopwords (e.g. “the”, “and”, “or”)\n",
    "- 0.75: Close synonym, e.g. “mobile phone” vs. “cellphone”. This also includes abbreviations, e.g. \"TCP\" -> \"transmission control protocol\"\n",
    "- 0.5: Synonyms which don’t have the same meaning (same function, same properties). This includes broad-narrow (hyponym) and narrow-broad (hypernym) matches\n",
    "- 0.25: Somewhat related, e.g. the two phrases are in the same high level domain but are not synonyms. This also includes antonyms\n",
    "- 0.0: Unrelated"
   ]
  },
  {
   "cell_type": "code",
   "execution_count": 1,
   "id": "a7503a57",
   "metadata": {
    "execution": {
     "iopub.execute_input": "2022-06-20T18:30:04.281151Z",
     "iopub.status.busy": "2022-06-20T18:30:04.280604Z",
     "iopub.status.idle": "2022-06-20T18:30:04.293212Z",
     "shell.execute_reply": "2022-06-20T18:30:04.292489Z"
    },
    "papermill": {
     "duration": 0.033467,
     "end_time": "2022-06-20T18:30:04.295119",
     "exception": false,
     "start_time": "2022-06-20T18:30:04.261652",
     "status": "completed"
    },
    "tags": []
   },
   "outputs": [],
   "source": [
    "import os\n",
    "\n",
    "IS_KAGGLE = os.environ.get('KAGGLE_KERNEL_RUN_TYPE')\n",
    "\n",
    "if IS_KAGGLE:\n",
    "    INPUT_DIR = '../input/us-patent-phrase-to-phrase-matching'\n",
    "    DATA_OUTPUT_DIR = '.'\n",
    "    MODEL_OUTPUT_DIR = '.'\n",
    "else:\n",
    "    # running locally\n",
    "    INPUT_DIR = 'data'\n",
    "    DATA_OUTPUT_DIR = 'data'\n",
    "    MODEL_OUTPUT_DIR = '.'"
   ]
  },
  {
   "cell_type": "code",
   "execution_count": 2,
   "id": "40f28f7d",
   "metadata": {
    "execution": {
     "iopub.execute_input": "2022-06-20T18:30:04.332385Z",
     "iopub.status.busy": "2022-06-20T18:30:04.331909Z",
     "iopub.status.idle": "2022-06-20T18:30:04.336531Z",
     "shell.execute_reply": "2022-06-20T18:30:04.335675Z"
    },
    "papermill": {
     "duration": 0.025704,
     "end_time": "2022-06-20T18:30:04.339392",
     "exception": false,
     "start_time": "2022-06-20T18:30:04.313688",
     "status": "completed"
    },
    "tags": []
   },
   "outputs": [
    {
     "name": "stdout",
     "output_type": "stream",
     "text": [
      "../input/us-patent-phrase-to-phrase-matching . .\n"
     ]
    }
   ],
   "source": [
    "print(INPUT_DIR, DATA_OUTPUT_DIR, MODEL_OUTPUT_DIR)"
   ]
  },
  {
   "cell_type": "markdown",
   "id": "7f195235",
   "metadata": {
    "papermill": {
     "duration": 0.017911,
     "end_time": "2022-06-20T18:30:04.375059",
     "exception": false,
     "start_time": "2022-06-20T18:30:04.357148",
     "status": "completed"
    },
    "tags": []
   },
   "source": [
    "## Data Exploration"
   ]
  },
  {
   "cell_type": "code",
   "execution_count": 3,
   "id": "398bb286",
   "metadata": {
    "execution": {
     "iopub.execute_input": "2022-06-20T18:30:04.413001Z",
     "iopub.status.busy": "2022-06-20T18:30:04.412341Z",
     "iopub.status.idle": "2022-06-20T18:30:04.416798Z",
     "shell.execute_reply": "2022-06-20T18:30:04.416057Z"
    },
    "papermill": {
     "duration": 0.026161,
     "end_time": "2022-06-20T18:30:04.418772",
     "exception": false,
     "start_time": "2022-06-20T18:30:04.392611",
     "status": "completed"
    },
    "tags": []
   },
   "outputs": [],
   "source": [
    "import pandas as pd"
   ]
  },
  {
   "cell_type": "code",
   "execution_count": 4,
   "id": "c9556e97",
   "metadata": {
    "execution": {
     "iopub.execute_input": "2022-06-20T18:30:04.455523Z",
     "iopub.status.busy": "2022-06-20T18:30:04.455230Z",
     "iopub.status.idle": "2022-06-20T18:30:04.546713Z",
     "shell.execute_reply": "2022-06-20T18:30:04.545749Z"
    },
    "papermill": {
     "duration": 0.112388,
     "end_time": "2022-06-20T18:30:04.549013",
     "exception": false,
     "start_time": "2022-06-20T18:30:04.436625",
     "status": "completed"
    },
    "tags": []
   },
   "outputs": [],
   "source": [
    "train_df = pd.read_csv(os.path.join(INPUT_DIR, 'train.csv'))\n",
    "test_df = pd.read_csv(os.path.join(INPUT_DIR, 'test.csv'))"
   ]
  },
  {
   "cell_type": "code",
   "execution_count": 5,
   "id": "3b240f49",
   "metadata": {
    "execution": {
     "iopub.execute_input": "2022-06-20T18:30:04.587533Z",
     "iopub.status.busy": "2022-06-20T18:30:04.586856Z",
     "iopub.status.idle": "2022-06-20T18:30:04.607969Z",
     "shell.execute_reply": "2022-06-20T18:30:04.607025Z"
    },
    "papermill": {
     "duration": 0.042627,
     "end_time": "2022-06-20T18:30:04.610371",
     "exception": false,
     "start_time": "2022-06-20T18:30:04.567744",
     "status": "completed"
    },
    "tags": []
   },
   "outputs": [
    {
     "data": {
      "text/html": [
       "<div>\n",
       "<style scoped>\n",
       "    .dataframe tbody tr th:only-of-type {\n",
       "        vertical-align: middle;\n",
       "    }\n",
       "\n",
       "    .dataframe tbody tr th {\n",
       "        vertical-align: top;\n",
       "    }\n",
       "\n",
       "    .dataframe thead th {\n",
       "        text-align: right;\n",
       "    }\n",
       "</style>\n",
       "<table border=\"1\" class=\"dataframe\">\n",
       "  <thead>\n",
       "    <tr style=\"text-align: right;\">\n",
       "      <th></th>\n",
       "      <th>id</th>\n",
       "      <th>anchor</th>\n",
       "      <th>target</th>\n",
       "      <th>context</th>\n",
       "      <th>score</th>\n",
       "    </tr>\n",
       "  </thead>\n",
       "  <tbody>\n",
       "    <tr>\n",
       "      <th>0</th>\n",
       "      <td>37d61fd2272659b1</td>\n",
       "      <td>abatement</td>\n",
       "      <td>abatement of pollution</td>\n",
       "      <td>A47</td>\n",
       "      <td>0.50</td>\n",
       "    </tr>\n",
       "    <tr>\n",
       "      <th>1</th>\n",
       "      <td>7b9652b17b68b7a4</td>\n",
       "      <td>abatement</td>\n",
       "      <td>act of abating</td>\n",
       "      <td>A47</td>\n",
       "      <td>0.75</td>\n",
       "    </tr>\n",
       "    <tr>\n",
       "      <th>2</th>\n",
       "      <td>36d72442aefd8232</td>\n",
       "      <td>abatement</td>\n",
       "      <td>active catalyst</td>\n",
       "      <td>A47</td>\n",
       "      <td>0.25</td>\n",
       "    </tr>\n",
       "    <tr>\n",
       "      <th>3</th>\n",
       "      <td>5296b0c19e1ce60e</td>\n",
       "      <td>abatement</td>\n",
       "      <td>eliminating process</td>\n",
       "      <td>A47</td>\n",
       "      <td>0.50</td>\n",
       "    </tr>\n",
       "    <tr>\n",
       "      <th>4</th>\n",
       "      <td>54c1e3b9184cb5b6</td>\n",
       "      <td>abatement</td>\n",
       "      <td>forest region</td>\n",
       "      <td>A47</td>\n",
       "      <td>0.00</td>\n",
       "    </tr>\n",
       "  </tbody>\n",
       "</table>\n",
       "</div>"
      ],
      "text/plain": [
       "                 id     anchor                  target context  score\n",
       "0  37d61fd2272659b1  abatement  abatement of pollution     A47   0.50\n",
       "1  7b9652b17b68b7a4  abatement          act of abating     A47   0.75\n",
       "2  36d72442aefd8232  abatement         active catalyst     A47   0.25\n",
       "3  5296b0c19e1ce60e  abatement     eliminating process     A47   0.50\n",
       "4  54c1e3b9184cb5b6  abatement           forest region     A47   0.00"
      ]
     },
     "execution_count": 5,
     "metadata": {},
     "output_type": "execute_result"
    }
   ],
   "source": [
    "train_df.head()"
   ]
  },
  {
   "cell_type": "code",
   "execution_count": 6,
   "id": "bbb7fcc3",
   "metadata": {
    "execution": {
     "iopub.execute_input": "2022-06-20T18:30:04.649263Z",
     "iopub.status.busy": "2022-06-20T18:30:04.648873Z",
     "iopub.status.idle": "2022-06-20T18:30:04.653870Z",
     "shell.execute_reply": "2022-06-20T18:30:04.652895Z"
    },
    "papermill": {
     "duration": 0.027385,
     "end_time": "2022-06-20T18:30:04.657214",
     "exception": false,
     "start_time": "2022-06-20T18:30:04.629829",
     "status": "completed"
    },
    "tags": []
   },
   "outputs": [
    {
     "name": "stdout",
     "output_type": "stream",
     "text": [
      "training records: 36473\n"
     ]
    }
   ],
   "source": [
    "print('training records: {}'.format(len(train_df)))"
   ]
  },
  {
   "cell_type": "code",
   "execution_count": 7,
   "id": "7a7a54d7",
   "metadata": {
    "execution": {
     "iopub.execute_input": "2022-06-20T18:30:04.695555Z",
     "iopub.status.busy": "2022-06-20T18:30:04.695272Z",
     "iopub.status.idle": "2022-06-20T18:30:04.705687Z",
     "shell.execute_reply": "2022-06-20T18:30:04.704700Z"
    },
    "papermill": {
     "duration": 0.032265,
     "end_time": "2022-06-20T18:30:04.708341",
     "exception": false,
     "start_time": "2022-06-20T18:30:04.676076",
     "status": "completed"
    },
    "tags": []
   },
   "outputs": [
    {
     "data": {
      "text/html": [
       "<div>\n",
       "<style scoped>\n",
       "    .dataframe tbody tr th:only-of-type {\n",
       "        vertical-align: middle;\n",
       "    }\n",
       "\n",
       "    .dataframe tbody tr th {\n",
       "        vertical-align: top;\n",
       "    }\n",
       "\n",
       "    .dataframe thead th {\n",
       "        text-align: right;\n",
       "    }\n",
       "</style>\n",
       "<table border=\"1\" class=\"dataframe\">\n",
       "  <thead>\n",
       "    <tr style=\"text-align: right;\">\n",
       "      <th></th>\n",
       "      <th>id</th>\n",
       "      <th>anchor</th>\n",
       "      <th>target</th>\n",
       "      <th>context</th>\n",
       "    </tr>\n",
       "  </thead>\n",
       "  <tbody>\n",
       "    <tr>\n",
       "      <th>0</th>\n",
       "      <td>4112d61851461f60</td>\n",
       "      <td>opc drum</td>\n",
       "      <td>inorganic photoconductor drum</td>\n",
       "      <td>G02</td>\n",
       "    </tr>\n",
       "    <tr>\n",
       "      <th>1</th>\n",
       "      <td>09e418c93a776564</td>\n",
       "      <td>adjust gas flow</td>\n",
       "      <td>altering gas flow</td>\n",
       "      <td>F23</td>\n",
       "    </tr>\n",
       "    <tr>\n",
       "      <th>2</th>\n",
       "      <td>36baf228038e314b</td>\n",
       "      <td>lower trunnion</td>\n",
       "      <td>lower locating</td>\n",
       "      <td>B60</td>\n",
       "    </tr>\n",
       "    <tr>\n",
       "      <th>3</th>\n",
       "      <td>1f37ead645e7f0c8</td>\n",
       "      <td>cap component</td>\n",
       "      <td>upper portion</td>\n",
       "      <td>D06</td>\n",
       "    </tr>\n",
       "    <tr>\n",
       "      <th>4</th>\n",
       "      <td>71a5b6ad068d531f</td>\n",
       "      <td>neural stimulation</td>\n",
       "      <td>artificial neural network</td>\n",
       "      <td>H04</td>\n",
       "    </tr>\n",
       "  </tbody>\n",
       "</table>\n",
       "</div>"
      ],
      "text/plain": [
       "                 id              anchor                         target context\n",
       "0  4112d61851461f60            opc drum  inorganic photoconductor drum     G02\n",
       "1  09e418c93a776564     adjust gas flow              altering gas flow     F23\n",
       "2  36baf228038e314b      lower trunnion                 lower locating     B60\n",
       "3  1f37ead645e7f0c8       cap component                  upper portion     D06\n",
       "4  71a5b6ad068d531f  neural stimulation      artificial neural network     H04"
      ]
     },
     "execution_count": 7,
     "metadata": {},
     "output_type": "execute_result"
    }
   ],
   "source": [
    "test_df.head()"
   ]
  },
  {
   "cell_type": "code",
   "execution_count": 8,
   "id": "e25d45ce",
   "metadata": {
    "execution": {
     "iopub.execute_input": "2022-06-20T18:30:04.747126Z",
     "iopub.status.busy": "2022-06-20T18:30:04.746570Z",
     "iopub.status.idle": "2022-06-20T18:30:04.750908Z",
     "shell.execute_reply": "2022-06-20T18:30:04.749964Z"
    },
    "papermill": {
     "duration": 0.027017,
     "end_time": "2022-06-20T18:30:04.754037",
     "exception": false,
     "start_time": "2022-06-20T18:30:04.727020",
     "status": "completed"
    },
    "tags": []
   },
   "outputs": [
    {
     "name": "stdout",
     "output_type": "stream",
     "text": [
      "test records: 36\n"
     ]
    }
   ],
   "source": [
    "print('test records: {}'.format(len(test_df)))"
   ]
  },
  {
   "cell_type": "markdown",
   "id": "e31c3852",
   "metadata": {
    "papermill": {
     "duration": 0.018485,
     "end_time": "2022-06-20T18:30:04.791020",
     "exception": false,
     "start_time": "2022-06-20T18:30:04.772535",
     "status": "completed"
    },
    "tags": []
   },
   "source": [
    "## Data Pre-Processing"
   ]
  },
  {
   "cell_type": "code",
   "execution_count": 9,
   "id": "f63b2676",
   "metadata": {
    "execution": {
     "iopub.execute_input": "2022-06-20T18:30:04.829271Z",
     "iopub.status.busy": "2022-06-20T18:30:04.828894Z",
     "iopub.status.idle": "2022-06-20T18:30:06.197105Z",
     "shell.execute_reply": "2022-06-20T18:30:06.196330Z"
    },
    "papermill": {
     "duration": 1.38945,
     "end_time": "2022-06-20T18:30:06.199182",
     "exception": false,
     "start_time": "2022-06-20T18:30:04.809732",
     "status": "completed"
    },
    "tags": []
   },
   "outputs": [],
   "source": [
    "import nltk\n",
    "import string\n",
    "from nltk.corpus import stopwords, wordnet\n",
    "from nltk.stem.wordnet import WordNetLemmatizer"
   ]
  },
  {
   "cell_type": "code",
   "execution_count": 10,
   "id": "c2ebfb8f",
   "metadata": {
    "execution": {
     "iopub.execute_input": "2022-06-20T18:30:06.235683Z",
     "iopub.status.busy": "2022-06-20T18:30:06.234933Z",
     "iopub.status.idle": "2022-06-20T18:30:06.239003Z",
     "shell.execute_reply": "2022-06-20T18:30:06.238296Z"
    },
    "papermill": {
     "duration": 0.024323,
     "end_time": "2022-06-20T18:30:06.240788",
     "exception": false,
     "start_time": "2022-06-20T18:30:06.216465",
     "status": "completed"
    },
    "tags": []
   },
   "outputs": [],
   "source": [
    "lemmatizer = WordNetLemmatizer()"
   ]
  },
  {
   "cell_type": "code",
   "execution_count": 11,
   "id": "6b313f66",
   "metadata": {
    "execution": {
     "iopub.execute_input": "2022-06-20T18:30:06.276543Z",
     "iopub.status.busy": "2022-06-20T18:30:06.276189Z",
     "iopub.status.idle": "2022-06-20T18:30:06.281284Z",
     "shell.execute_reply": "2022-06-20T18:30:06.280460Z"
    },
    "papermill": {
     "duration": 0.025308,
     "end_time": "2022-06-20T18:30:06.283190",
     "exception": false,
     "start_time": "2022-06-20T18:30:06.257882",
     "status": "completed"
    },
    "tags": []
   },
   "outputs": [],
   "source": [
    "def get_wordnet_pos(treebank_tag):\n",
    "    if treebank_tag.startswith('J'):\n",
    "        return wordnet.ADJ\n",
    "    elif treebank_tag.startswith('V'):\n",
    "        return wordnet.VERB\n",
    "    elif treebank_tag.startswith('N'):\n",
    "        return wordnet.NOUN\n",
    "    elif treebank_tag.startswith('R'):\n",
    "        return wordnet.ADV\n",
    "    else:\n",
    "        return wordnet.NOUN"
   ]
  },
  {
   "cell_type": "code",
   "execution_count": 12,
   "id": "57f6b7e5",
   "metadata": {
    "execution": {
     "iopub.execute_input": "2022-06-20T18:30:06.318863Z",
     "iopub.status.busy": "2022-06-20T18:30:06.318350Z",
     "iopub.status.idle": "2022-06-20T18:30:06.325539Z",
     "shell.execute_reply": "2022-06-20T18:30:06.324604Z"
    },
    "papermill": {
     "duration": 0.026949,
     "end_time": "2022-06-20T18:30:06.327195",
     "exception": false,
     "start_time": "2022-06-20T18:30:06.300246",
     "status": "completed"
    },
    "tags": []
   },
   "outputs": [],
   "source": [
    "def pre_process(text):\n",
    "    '''\n",
    "    convert to lowercase, remove punctuation, stop words, perform lemmatization\n",
    "    '''\n",
    "    text = text.lower()\n",
    "    punctuation = string.punctuation\n",
    "    text = ''.join(ch for ch in text if ch not in punctuation)\n",
    "    \n",
    "    text_without_stopwords = ' '.join(word for word in text.split(' ') if word not in stopwords.words('english'))\n",
    "    if text_without_stopwords.strip():  # at least one word remains after stop word removal\n",
    "        text = text_without_stopwords\n",
    "    \n",
    "    # part of speech tagging prior to lemmatization improves results\n",
    "    pos = nltk.pos_tag(text.split())  # list of (word, pos_tag) tuples\n",
    "    # replace pos_tag with WordNet POS tags, needed by the WordNetLemmatizer\n",
    "    pos = [(w[0], get_wordnet_pos(w[1])) for w in pos]\n",
    "    \n",
    "    lemmatized = ' '.join(lemmatizer.lemmatize(w[0], w[1]) for w in pos)\n",
    "    \n",
    "    return lemmatized"
   ]
  },
  {
   "cell_type": "code",
   "execution_count": 13,
   "id": "c4e6991b",
   "metadata": {
    "execution": {
     "iopub.execute_input": "2022-06-20T18:30:06.361897Z",
     "iopub.status.busy": "2022-06-20T18:30:06.361321Z",
     "iopub.status.idle": "2022-06-20T18:30:51.020346Z",
     "shell.execute_reply": "2022-06-20T18:30:51.019556Z"
    },
    "papermill": {
     "duration": 44.67861,
     "end_time": "2022-06-20T18:30:51.022541",
     "exception": false,
     "start_time": "2022-06-20T18:30:06.343931",
     "status": "completed"
    },
    "tags": []
   },
   "outputs": [],
   "source": [
    "train_anchors = [pre_process(a) for a in train_df.anchor]\n",
    "train_targets = [pre_process(a) for a in train_df.target]\n",
    "test_anchors = [pre_process(a) for a in test_df.anchor]\n",
    "test_targets = [pre_process(a) for a in test_df.target]"
   ]
  },
  {
   "cell_type": "code",
   "execution_count": 14,
   "id": "8821df9f",
   "metadata": {
    "execution": {
     "iopub.execute_input": "2022-06-20T18:30:51.058262Z",
     "iopub.status.busy": "2022-06-20T18:30:51.057979Z",
     "iopub.status.idle": "2022-06-20T18:30:51.222717Z",
     "shell.execute_reply": "2022-06-20T18:30:51.221926Z"
    },
    "papermill": {
     "duration": 0.184596,
     "end_time": "2022-06-20T18:30:51.224748",
     "exception": false,
     "start_time": "2022-06-20T18:30:51.040152",
     "status": "completed"
    },
    "tags": []
   },
   "outputs": [],
   "source": [
    "train_df_processed = train_df.copy()\n",
    "train_df_processed['anchor'] = train_anchors\n",
    "train_df_processed['target'] = train_targets\n",
    "train_df_processed.to_csv(os.path.join(DATA_OUTPUT_DIR, 'train_df_processed.csv'), index=False)\n",
    "\n",
    "test_df_processed = test_df.copy()\n",
    "test_df_processed['anchor'] = test_anchors\n",
    "test_df_processed['target'] = test_targets\n",
    "test_df_processed.to_csv(os.path.join(DATA_OUTPUT_DIR, 'test_df_processed.csv'), index=False)"
   ]
  },
  {
   "cell_type": "code",
   "execution_count": 15,
   "id": "4f5d4225",
   "metadata": {
    "execution": {
     "iopub.execute_input": "2022-06-20T18:30:51.260331Z",
     "iopub.status.busy": "2022-06-20T18:30:51.260021Z",
     "iopub.status.idle": "2022-06-20T18:30:51.263651Z",
     "shell.execute_reply": "2022-06-20T18:30:51.262933Z"
    },
    "papermill": {
     "duration": 0.023346,
     "end_time": "2022-06-20T18:30:51.265384",
     "exception": false,
     "start_time": "2022-06-20T18:30:51.242038",
     "status": "completed"
    },
    "tags": []
   },
   "outputs": [],
   "source": [
    "# train_anchors_original = list(train_df['anchor'])\n",
    "# train_targets_original = list(train_df['target'])\n",
    "\n",
    "# print('anchors')\n",
    "# for i in range(len(train_anchors)):\n",
    "#     if train_anchors_original[i] != train_anchors[i]:\n",
    "#         print(train_anchors_original[i], ',', train_anchors[i])\n",
    "\n",
    "# print()\n",
    "\n",
    "# print('targets')\n",
    "# for i in range(len(train_targets)):\n",
    "#     if train_targets_original[i] != train_targets[i]:\n",
    "#         print(train_targets_original[i], ',', train_targets[i])"
   ]
  },
  {
   "cell_type": "markdown",
   "id": "3a1fe8a5",
   "metadata": {
    "papermill": {
     "duration": 0.016732,
     "end_time": "2022-06-20T18:30:51.299630",
     "exception": false,
     "start_time": "2022-06-20T18:30:51.282898",
     "status": "completed"
    },
    "tags": []
   },
   "source": [
    "## Get Patent Symbol Descriptions\n",
    "\n",
    "Ran the below in BigQuery on Google Cloud:\n",
    "\n",
    "```\n",
    "SELECT symbol, titleFull FROM `patents-public-data.cpc.definition_202201`\n",
    "```\n",
    "\n",
    "Exported as a BigQuery table in own project and saved as CSV in Google Drive. Downloaded here as data/patent_symbol_descriptions.csv"
   ]
  },
  {
   "cell_type": "code",
   "execution_count": 16,
   "id": "51e07433",
   "metadata": {
    "execution": {
     "iopub.execute_input": "2022-06-20T18:30:51.334803Z",
     "iopub.status.busy": "2022-06-20T18:30:51.334485Z",
     "iopub.status.idle": "2022-06-20T18:30:52.088958Z",
     "shell.execute_reply": "2022-06-20T18:30:52.088120Z"
    },
    "papermill": {
     "duration": 0.774688,
     "end_time": "2022-06-20T18:30:52.091161",
     "exception": false,
     "start_time": "2022-06-20T18:30:51.316473",
     "status": "completed"
    },
    "tags": []
   },
   "outputs": [],
   "source": [
    "if IS_KAGGLE:\n",
    "    patent_symbol_descriptions = pd.read_csv('../input/d/datasets/vikrambajaj/us-patent-phrase-to-phrase-matching/patent_symbol_descriptions.csv')\n",
    "else:\n",
    "    patent_symbol_descriptions = pd.read_csv(os.path.join(INPUT_DIR, 'patent_symbol_descriptions.csv'))"
   ]
  },
  {
   "cell_type": "code",
   "execution_count": 17,
   "id": "c65c391e",
   "metadata": {
    "execution": {
     "iopub.execute_input": "2022-06-20T18:30:52.128157Z",
     "iopub.status.busy": "2022-06-20T18:30:52.127318Z",
     "iopub.status.idle": "2022-06-20T18:30:52.491250Z",
     "shell.execute_reply": "2022-06-20T18:30:52.490267Z"
    },
    "papermill": {
     "duration": 0.383907,
     "end_time": "2022-06-20T18:30:52.493175",
     "exception": false,
     "start_time": "2022-06-20T18:30:52.109268",
     "status": "completed"
    },
    "tags": []
   },
   "outputs": [
    {
     "data": {
      "text/html": [
       "<div>\n",
       "<style scoped>\n",
       "    .dataframe tbody tr th:only-of-type {\n",
       "        vertical-align: middle;\n",
       "    }\n",
       "\n",
       "    .dataframe tbody tr th {\n",
       "        vertical-align: top;\n",
       "    }\n",
       "\n",
       "    .dataframe thead th {\n",
       "        text-align: right;\n",
       "    }\n",
       "</style>\n",
       "<table border=\"1\" class=\"dataframe\">\n",
       "  <thead>\n",
       "    <tr style=\"text-align: right;\">\n",
       "      <th></th>\n",
       "      <th>symbol</th>\n",
       "      <th>titleFull</th>\n",
       "    </tr>\n",
       "  </thead>\n",
       "  <tbody>\n",
       "    <tr>\n",
       "      <th>count</th>\n",
       "      <td>260690</td>\n",
       "      <td>260690</td>\n",
       "    </tr>\n",
       "    <tr>\n",
       "      <th>unique</th>\n",
       "      <td>260690</td>\n",
       "      <td>232207</td>\n",
       "    </tr>\n",
       "    <tr>\n",
       "      <th>top</th>\n",
       "      <td>A01B</td>\n",
       "      <td>Details</td>\n",
       "    </tr>\n",
       "    <tr>\n",
       "      <th>freq</th>\n",
       "      <td>1</td>\n",
       "      <td>283</td>\n",
       "    </tr>\n",
       "  </tbody>\n",
       "</table>\n",
       "</div>"
      ],
      "text/plain": [
       "        symbol titleFull\n",
       "count   260690    260690\n",
       "unique  260690    232207\n",
       "top       A01B   Details\n",
       "freq         1       283"
      ]
     },
     "execution_count": 17,
     "metadata": {},
     "output_type": "execute_result"
    }
   ],
   "source": [
    "patent_symbol_descriptions.describe()"
   ]
  },
  {
   "cell_type": "code",
   "execution_count": 18,
   "id": "3debbe9b",
   "metadata": {
    "execution": {
     "iopub.execute_input": "2022-06-20T18:30:52.529916Z",
     "iopub.status.busy": "2022-06-20T18:30:52.529609Z",
     "iopub.status.idle": "2022-06-20T18:30:52.537703Z",
     "shell.execute_reply": "2022-06-20T18:30:52.537001Z"
    },
    "papermill": {
     "duration": 0.028227,
     "end_time": "2022-06-20T18:30:52.539577",
     "exception": false,
     "start_time": "2022-06-20T18:30:52.511350",
     "status": "completed"
    },
    "tags": []
   },
   "outputs": [
    {
     "data": {
      "text/html": [
       "<div>\n",
       "<style scoped>\n",
       "    .dataframe tbody tr th:only-of-type {\n",
       "        vertical-align: middle;\n",
       "    }\n",
       "\n",
       "    .dataframe tbody tr th {\n",
       "        vertical-align: top;\n",
       "    }\n",
       "\n",
       "    .dataframe thead th {\n",
       "        text-align: right;\n",
       "    }\n",
       "</style>\n",
       "<table border=\"1\" class=\"dataframe\">\n",
       "  <thead>\n",
       "    <tr style=\"text-align: right;\">\n",
       "      <th></th>\n",
       "      <th>symbol</th>\n",
       "      <th>titleFull</th>\n",
       "    </tr>\n",
       "  </thead>\n",
       "  <tbody>\n",
       "    <tr>\n",
       "      <th>0</th>\n",
       "      <td>A01B</td>\n",
       "      <td>SOIL WORKING IN AGRICULTURE OR FORESTRY; PARTS...</td>\n",
       "    </tr>\n",
       "    <tr>\n",
       "      <th>1</th>\n",
       "      <td>A01C</td>\n",
       "      <td>PLANTING; SOWING; FERTILISING</td>\n",
       "    </tr>\n",
       "    <tr>\n",
       "      <th>2</th>\n",
       "      <td>A01D</td>\n",
       "      <td>HARVESTING; MOWING</td>\n",
       "    </tr>\n",
       "    <tr>\n",
       "      <th>3</th>\n",
       "      <td>A01F</td>\n",
       "      <td>PROCESSING OF HARVESTED PRODUCE; HAY OR STRAW ...</td>\n",
       "    </tr>\n",
       "    <tr>\n",
       "      <th>4</th>\n",
       "      <td>A01G</td>\n",
       "      <td>HORTICULTURE; CULTIVATION OF VEGETABLES, FLOWE...</td>\n",
       "    </tr>\n",
       "  </tbody>\n",
       "</table>\n",
       "</div>"
      ],
      "text/plain": [
       "  symbol                                          titleFull\n",
       "0   A01B  SOIL WORKING IN AGRICULTURE OR FORESTRY; PARTS...\n",
       "1   A01C                      PLANTING; SOWING; FERTILISING\n",
       "2   A01D                                 HARVESTING; MOWING\n",
       "3   A01F  PROCESSING OF HARVESTED PRODUCE; HAY OR STRAW ...\n",
       "4   A01G  HORTICULTURE; CULTIVATION OF VEGETABLES, FLOWE..."
      ]
     },
     "execution_count": 18,
     "metadata": {},
     "output_type": "execute_result"
    }
   ],
   "source": [
    "patent_symbol_descriptions.head()"
   ]
  },
  {
   "cell_type": "code",
   "execution_count": 19,
   "id": "b16a4723",
   "metadata": {
    "execution": {
     "iopub.execute_input": "2022-06-20T18:30:52.576191Z",
     "iopub.status.busy": "2022-06-20T18:30:52.575600Z",
     "iopub.status.idle": "2022-06-20T18:31:21.282156Z",
     "shell.execute_reply": "2022-06-20T18:31:21.281338Z"
    },
    "papermill": {
     "duration": 28.727474,
     "end_time": "2022-06-20T18:31:21.284258",
     "exception": false,
     "start_time": "2022-06-20T18:30:52.556784",
     "status": "completed"
    },
    "tags": []
   },
   "outputs": [],
   "source": [
    "# converting to map for easy replacement\n",
    "symbol_description_map = {}\n",
    "\n",
    "for i in range(len(patent_symbol_descriptions)):\n",
    "    symbol_description_map[patent_symbol_descriptions.iloc[i]['symbol']] = patent_symbol_descriptions.iloc[i]['titleFull'].lower()"
   ]
  },
  {
   "cell_type": "code",
   "execution_count": 20,
   "id": "9e1639df",
   "metadata": {
    "execution": {
     "iopub.execute_input": "2022-06-20T18:31:21.320290Z",
     "iopub.status.busy": "2022-06-20T18:31:21.320001Z",
     "iopub.status.idle": "2022-06-20T18:31:21.851168Z",
     "shell.execute_reply": "2022-06-20T18:31:21.850309Z"
    },
    "papermill": {
     "duration": 0.551245,
     "end_time": "2022-06-20T18:31:21.853253",
     "exception": false,
     "start_time": "2022-06-20T18:31:21.302008",
     "status": "completed"
    },
    "tags": []
   },
   "outputs": [],
   "source": [
    "import json\n",
    "\n",
    "with open(os.path.join(DATA_OUTPUT_DIR, './patent_symbol_description_map.json'), 'w', encoding='utf-8') as f:\n",
    "    json.dump(symbol_description_map, f, indent=4)"
   ]
  },
  {
   "cell_type": "code",
   "execution_count": 21,
   "id": "4398d9b2",
   "metadata": {
    "execution": {
     "iopub.execute_input": "2022-06-20T18:31:21.889581Z",
     "iopub.status.busy": "2022-06-20T18:31:21.889226Z",
     "iopub.status.idle": "2022-06-20T18:31:21.902158Z",
     "shell.execute_reply": "2022-06-20T18:31:21.901248Z"
    },
    "papermill": {
     "duration": 0.033159,
     "end_time": "2022-06-20T18:31:21.904089",
     "exception": false,
     "start_time": "2022-06-20T18:31:21.870930",
     "status": "completed"
    },
    "tags": []
   },
   "outputs": [],
   "source": [
    "train_df_processed['context'] = [symbol_description_map[context] for context in list(train_df_processed['context'])]\n",
    "test_df_processed['context'] = [symbol_description_map[context] for context in list(test_df_processed['context'])]"
   ]
  },
  {
   "cell_type": "code",
   "execution_count": 22,
   "id": "5cdc32ad",
   "metadata": {
    "execution": {
     "iopub.execute_input": "2022-06-20T18:31:21.940103Z",
     "iopub.status.busy": "2022-06-20T18:31:21.939790Z",
     "iopub.status.idle": "2022-06-20T18:31:22.227533Z",
     "shell.execute_reply": "2022-06-20T18:31:22.226800Z"
    },
    "papermill": {
     "duration": 0.307696,
     "end_time": "2022-06-20T18:31:22.229287",
     "exception": false,
     "start_time": "2022-06-20T18:31:21.921591",
     "status": "completed"
    },
    "tags": []
   },
   "outputs": [],
   "source": [
    "# preprocessing the context column in the same way as the phrases\n",
    "unique_train_contexts = list(set(train_df_processed.context))\n",
    "unique_test_contexts = list(set(train_df_processed.context))\n",
    "\n",
    "processed_unique_train_contexts = {c: pre_process(c) for c in unique_train_contexts}\n",
    "processed_unique_test_contexts = {c: pre_process(c) for c in unique_test_contexts}"
   ]
  },
  {
   "cell_type": "code",
   "execution_count": 23,
   "id": "6c4f8d45",
   "metadata": {
    "execution": {
     "iopub.execute_input": "2022-06-20T18:31:22.264993Z",
     "iopub.status.busy": "2022-06-20T18:31:22.264729Z",
     "iopub.status.idle": "2022-06-20T18:31:22.276803Z",
     "shell.execute_reply": "2022-06-20T18:31:22.276145Z"
    },
    "papermill": {
     "duration": 0.03188,
     "end_time": "2022-06-20T18:31:22.278574",
     "exception": false,
     "start_time": "2022-06-20T18:31:22.246694",
     "status": "completed"
    },
    "tags": []
   },
   "outputs": [],
   "source": [
    "train_df_processed.context = [processed_unique_train_contexts[c] for c in list(train_df_processed.context)]\n",
    "test_df_processed.context = [processed_unique_test_contexts[c] for c in list(test_df_processed.context)]"
   ]
  },
  {
   "cell_type": "code",
   "execution_count": 24,
   "id": "25fe1ee3",
   "metadata": {
    "execution": {
     "iopub.execute_input": "2022-06-20T18:31:22.314558Z",
     "iopub.status.busy": "2022-06-20T18:31:22.313997Z",
     "iopub.status.idle": "2022-06-20T18:31:22.574735Z",
     "shell.execute_reply": "2022-06-20T18:31:22.573658Z"
    },
    "papermill": {
     "duration": 0.281189,
     "end_time": "2022-06-20T18:31:22.577427",
     "exception": false,
     "start_time": "2022-06-20T18:31:22.296238",
     "status": "completed"
    },
    "tags": []
   },
   "outputs": [],
   "source": [
    "train_df_processed.to_csv(os.path.join(DATA_OUTPUT_DIR, 'train_df_processed.csv'), index=False)\n",
    "test_df_processed.to_csv(os.path.join(DATA_OUTPUT_DIR, 'test_df_processed.csv'), index=False)"
   ]
  },
  {
   "cell_type": "code",
   "execution_count": 25,
   "id": "6935abee",
   "metadata": {
    "execution": {
     "iopub.execute_input": "2022-06-20T18:31:22.639296Z",
     "iopub.status.busy": "2022-06-20T18:31:22.638799Z",
     "iopub.status.idle": "2022-06-20T18:31:22.657750Z",
     "shell.execute_reply": "2022-06-20T18:31:22.657038Z"
    },
    "papermill": {
     "duration": 0.050748,
     "end_time": "2022-06-20T18:31:22.659669",
     "exception": false,
     "start_time": "2022-06-20T18:31:22.608921",
     "status": "completed"
    },
    "tags": []
   },
   "outputs": [
    {
     "data": {
      "text/html": [
       "<div>\n",
       "<style scoped>\n",
       "    .dataframe tbody tr th:only-of-type {\n",
       "        vertical-align: middle;\n",
       "    }\n",
       "\n",
       "    .dataframe tbody tr th {\n",
       "        vertical-align: top;\n",
       "    }\n",
       "\n",
       "    .dataframe thead th {\n",
       "        text-align: right;\n",
       "    }\n",
       "</style>\n",
       "<table border=\"1\" class=\"dataframe\">\n",
       "  <thead>\n",
       "    <tr style=\"text-align: right;\">\n",
       "      <th></th>\n",
       "      <th>id</th>\n",
       "      <th>anchor</th>\n",
       "      <th>target</th>\n",
       "      <th>context</th>\n",
       "      <th>score</th>\n",
       "    </tr>\n",
       "  </thead>\n",
       "  <tbody>\n",
       "    <tr>\n",
       "      <th>0</th>\n",
       "      <td>37d61fd2272659b1</td>\n",
       "      <td>abatement</td>\n",
       "      <td>abatement pollution</td>\n",
       "      <td>furniture domestic article appliance coffee mi...</td>\n",
       "      <td>0.50</td>\n",
       "    </tr>\n",
       "    <tr>\n",
       "      <th>1</th>\n",
       "      <td>7b9652b17b68b7a4</td>\n",
       "      <td>abatement</td>\n",
       "      <td>act abate</td>\n",
       "      <td>furniture domestic article appliance coffee mi...</td>\n",
       "      <td>0.75</td>\n",
       "    </tr>\n",
       "    <tr>\n",
       "      <th>2</th>\n",
       "      <td>36d72442aefd8232</td>\n",
       "      <td>abatement</td>\n",
       "      <td>active catalyst</td>\n",
       "      <td>furniture domestic article appliance coffee mi...</td>\n",
       "      <td>0.25</td>\n",
       "    </tr>\n",
       "    <tr>\n",
       "      <th>3</th>\n",
       "      <td>5296b0c19e1ce60e</td>\n",
       "      <td>abatement</td>\n",
       "      <td>eliminate process</td>\n",
       "      <td>furniture domestic article appliance coffee mi...</td>\n",
       "      <td>0.50</td>\n",
       "    </tr>\n",
       "    <tr>\n",
       "      <th>4</th>\n",
       "      <td>54c1e3b9184cb5b6</td>\n",
       "      <td>abatement</td>\n",
       "      <td>forest region</td>\n",
       "      <td>furniture domestic article appliance coffee mi...</td>\n",
       "      <td>0.00</td>\n",
       "    </tr>\n",
       "  </tbody>\n",
       "</table>\n",
       "</div>"
      ],
      "text/plain": [
       "                 id     anchor               target  \\\n",
       "0  37d61fd2272659b1  abatement  abatement pollution   \n",
       "1  7b9652b17b68b7a4  abatement            act abate   \n",
       "2  36d72442aefd8232  abatement      active catalyst   \n",
       "3  5296b0c19e1ce60e  abatement    eliminate process   \n",
       "4  54c1e3b9184cb5b6  abatement        forest region   \n",
       "\n",
       "                                             context  score  \n",
       "0  furniture domestic article appliance coffee mi...   0.50  \n",
       "1  furniture domestic article appliance coffee mi...   0.75  \n",
       "2  furniture domestic article appliance coffee mi...   0.25  \n",
       "3  furniture domestic article appliance coffee mi...   0.50  \n",
       "4  furniture domestic article appliance coffee mi...   0.00  "
      ]
     },
     "execution_count": 25,
     "metadata": {},
     "output_type": "execute_result"
    }
   ],
   "source": [
    "train_df_processed.head()"
   ]
  },
  {
   "cell_type": "code",
   "execution_count": 26,
   "id": "c80eafd9",
   "metadata": {
    "execution": {
     "iopub.execute_input": "2022-06-20T18:31:22.717364Z",
     "iopub.status.busy": "2022-06-20T18:31:22.717021Z",
     "iopub.status.idle": "2022-06-20T18:31:22.733988Z",
     "shell.execute_reply": "2022-06-20T18:31:22.733328Z"
    },
    "papermill": {
     "duration": 0.047697,
     "end_time": "2022-06-20T18:31:22.735880",
     "exception": false,
     "start_time": "2022-06-20T18:31:22.688183",
     "status": "completed"
    },
    "tags": []
   },
   "outputs": [
    {
     "data": {
      "text/html": [
       "<div>\n",
       "<style scoped>\n",
       "    .dataframe tbody tr th:only-of-type {\n",
       "        vertical-align: middle;\n",
       "    }\n",
       "\n",
       "    .dataframe tbody tr th {\n",
       "        vertical-align: top;\n",
       "    }\n",
       "\n",
       "    .dataframe thead th {\n",
       "        text-align: right;\n",
       "    }\n",
       "</style>\n",
       "<table border=\"1\" class=\"dataframe\">\n",
       "  <thead>\n",
       "    <tr style=\"text-align: right;\">\n",
       "      <th></th>\n",
       "      <th>id</th>\n",
       "      <th>anchor</th>\n",
       "      <th>target</th>\n",
       "      <th>context</th>\n",
       "    </tr>\n",
       "  </thead>\n",
       "  <tbody>\n",
       "    <tr>\n",
       "      <th>0</th>\n",
       "      <td>4112d61851461f60</td>\n",
       "      <td>opc drum</td>\n",
       "      <td>inorganic photoconductor drum</td>\n",
       "      <td>optic</td>\n",
       "    </tr>\n",
       "    <tr>\n",
       "      <th>1</th>\n",
       "      <td>09e418c93a776564</td>\n",
       "      <td>adjust gas flow</td>\n",
       "      <td>alter gas flow</td>\n",
       "      <td>combustion apparatus combustion process</td>\n",
       "    </tr>\n",
       "    <tr>\n",
       "      <th>2</th>\n",
       "      <td>36baf228038e314b</td>\n",
       "      <td>low trunnion</td>\n",
       "      <td>low locating</td>\n",
       "      <td>vehicle general</td>\n",
       "    </tr>\n",
       "    <tr>\n",
       "      <th>3</th>\n",
       "      <td>1f37ead645e7f0c8</td>\n",
       "      <td>cap component</td>\n",
       "      <td>upper portion</td>\n",
       "      <td>treatment textile like launder flexible materi...</td>\n",
       "    </tr>\n",
       "    <tr>\n",
       "      <th>4</th>\n",
       "      <td>71a5b6ad068d531f</td>\n",
       "      <td>neural stimulation</td>\n",
       "      <td>artificial neural network</td>\n",
       "      <td>electric communication technique</td>\n",
       "    </tr>\n",
       "  </tbody>\n",
       "</table>\n",
       "</div>"
      ],
      "text/plain": [
       "                 id              anchor                         target  \\\n",
       "0  4112d61851461f60            opc drum  inorganic photoconductor drum   \n",
       "1  09e418c93a776564     adjust gas flow                 alter gas flow   \n",
       "2  36baf228038e314b        low trunnion                   low locating   \n",
       "3  1f37ead645e7f0c8       cap component                  upper portion   \n",
       "4  71a5b6ad068d531f  neural stimulation      artificial neural network   \n",
       "\n",
       "                                             context  \n",
       "0                                              optic  \n",
       "1            combustion apparatus combustion process  \n",
       "2                                    vehicle general  \n",
       "3  treatment textile like launder flexible materi...  \n",
       "4                   electric communication technique  "
      ]
     },
     "execution_count": 26,
     "metadata": {},
     "output_type": "execute_result"
    }
   ],
   "source": [
    "test_df_processed.head()"
   ]
  },
  {
   "cell_type": "code",
   "execution_count": 27,
   "id": "4df8ba3b",
   "metadata": {
    "execution": {
     "iopub.execute_input": "2022-06-20T18:31:22.794634Z",
     "iopub.status.busy": "2022-06-20T18:31:22.794278Z",
     "iopub.status.idle": "2022-06-20T18:31:22.810738Z",
     "shell.execute_reply": "2022-06-20T18:31:22.809988Z"
    },
    "papermill": {
     "duration": 0.04874,
     "end_time": "2022-06-20T18:31:22.812950",
     "exception": false,
     "start_time": "2022-06-20T18:31:22.764210",
     "status": "completed"
    },
    "tags": []
   },
   "outputs": [],
   "source": [
    "labels = list(set(train_df_processed.score))"
   ]
  },
  {
   "cell_type": "code",
   "execution_count": 28,
   "id": "98d4d652",
   "metadata": {
    "execution": {
     "iopub.execute_input": "2022-06-20T18:31:22.872179Z",
     "iopub.status.busy": "2022-06-20T18:31:22.871876Z",
     "iopub.status.idle": "2022-06-20T18:31:22.877346Z",
     "shell.execute_reply": "2022-06-20T18:31:22.876476Z"
    },
    "papermill": {
     "duration": 0.037146,
     "end_time": "2022-06-20T18:31:22.879744",
     "exception": false,
     "start_time": "2022-06-20T18:31:22.842598",
     "status": "completed"
    },
    "tags": []
   },
   "outputs": [
    {
     "data": {
      "text/plain": [
       "[0.5, 0.75, 1.0, 0.25, 0.0]"
      ]
     },
     "execution_count": 28,
     "metadata": {},
     "output_type": "execute_result"
    }
   ],
   "source": [
    "labels"
   ]
  },
  {
   "cell_type": "markdown",
   "id": "966c81ce",
   "metadata": {
    "papermill": {
     "duration": 0.028353,
     "end_time": "2022-06-20T18:31:22.937442",
     "exception": false,
     "start_time": "2022-06-20T18:31:22.909089",
     "status": "completed"
    },
    "tags": []
   },
   "source": [
    "The labels are a fixed set of values. Discretizing them into classes. PyTorch needs labels to start from 0."
   ]
  },
  {
   "cell_type": "code",
   "execution_count": 29,
   "id": "05a1ce5f",
   "metadata": {
    "execution": {
     "iopub.execute_input": "2022-06-20T18:31:22.995017Z",
     "iopub.status.busy": "2022-06-20T18:31:22.994741Z",
     "iopub.status.idle": "2022-06-20T18:31:22.998773Z",
     "shell.execute_reply": "2022-06-20T18:31:22.997921Z"
    },
    "papermill": {
     "duration": 0.036325,
     "end_time": "2022-06-20T18:31:23.002617",
     "exception": false,
     "start_time": "2022-06-20T18:31:22.966292",
     "status": "completed"
    },
    "tags": []
   },
   "outputs": [],
   "source": [
    "label_map = {0.0: 0, 0.25: 1, 0.5: 2, 0.75: 3, 1.0: 4}"
   ]
  },
  {
   "cell_type": "code",
   "execution_count": 30,
   "id": "55f4f76d",
   "metadata": {
    "execution": {
     "iopub.execute_input": "2022-06-20T18:31:23.042032Z",
     "iopub.status.busy": "2022-06-20T18:31:23.041782Z",
     "iopub.status.idle": "2022-06-20T18:31:23.045531Z",
     "shell.execute_reply": "2022-06-20T18:31:23.044825Z"
    },
    "papermill": {
     "duration": 0.024041,
     "end_time": "2022-06-20T18:31:23.047197",
     "exception": false,
     "start_time": "2022-06-20T18:31:23.023156",
     "status": "completed"
    },
    "tags": []
   },
   "outputs": [],
   "source": [
    "label_desc = {0: 'dissimilar', 1: 'somewhat-related', 2: 'hyponym-hypernym', 3: 'close-synonym', 4: 'very-close-exact-match'}"
   ]
  },
  {
   "cell_type": "code",
   "execution_count": 31,
   "id": "878fbfbe",
   "metadata": {
    "execution": {
     "iopub.execute_input": "2022-06-20T18:31:23.085070Z",
     "iopub.status.busy": "2022-06-20T18:31:23.084769Z",
     "iopub.status.idle": "2022-06-20T18:31:23.110017Z",
     "shell.execute_reply": "2022-06-20T18:31:23.109174Z"
    },
    "papermill": {
     "duration": 0.046217,
     "end_time": "2022-06-20T18:31:23.111682",
     "exception": false,
     "start_time": "2022-06-20T18:31:23.065465",
     "status": "completed"
    },
    "tags": []
   },
   "outputs": [],
   "source": [
    "train_df_processed['score'] = [label_map[s] for s in list(train_df_processed.score)]"
   ]
  },
  {
   "cell_type": "code",
   "execution_count": 32,
   "id": "8c87a801",
   "metadata": {
    "execution": {
     "iopub.execute_input": "2022-06-20T18:31:23.150137Z",
     "iopub.status.busy": "2022-06-20T18:31:23.149404Z",
     "iopub.status.idle": "2022-06-20T18:31:23.325526Z",
     "shell.execute_reply": "2022-06-20T18:31:23.324620Z"
    },
    "papermill": {
     "duration": 0.197044,
     "end_time": "2022-06-20T18:31:23.327301",
     "exception": false,
     "start_time": "2022-06-20T18:31:23.130257",
     "status": "completed"
    },
    "tags": []
   },
   "outputs": [],
   "source": [
    "train_df_processed.to_csv(os.path.join(DATA_OUTPUT_DIR, 'train_df_processed.csv'), index=False)"
   ]
  },
  {
   "cell_type": "code",
   "execution_count": 33,
   "id": "bda45569",
   "metadata": {
    "execution": {
     "iopub.execute_input": "2022-06-20T18:31:23.363814Z",
     "iopub.status.busy": "2022-06-20T18:31:23.363342Z",
     "iopub.status.idle": "2022-06-20T18:31:23.430441Z",
     "shell.execute_reply": "2022-06-20T18:31:23.429604Z"
    },
    "papermill": {
     "duration": 0.087216,
     "end_time": "2022-06-20T18:31:23.432299",
     "exception": false,
     "start_time": "2022-06-20T18:31:23.345083",
     "status": "completed"
    },
    "tags": []
   },
   "outputs": [],
   "source": [
    "# load csv if kernel restarts\n",
    "train_df_processed = pd.read_csv(os.path.join(DATA_OUTPUT_DIR, 'train_df_processed.csv'))\n",
    "test_df_processed = pd.read_csv(os.path.join(DATA_OUTPUT_DIR, 'test_df_processed.csv'))"
   ]
  },
  {
   "cell_type": "code",
   "execution_count": 34,
   "id": "d31d6d2e",
   "metadata": {
    "execution": {
     "iopub.execute_input": "2022-06-20T18:31:23.472895Z",
     "iopub.status.busy": "2022-06-20T18:31:23.472145Z",
     "iopub.status.idle": "2022-06-20T18:31:23.485089Z",
     "shell.execute_reply": "2022-06-20T18:31:23.484438Z"
    },
    "papermill": {
     "duration": 0.036873,
     "end_time": "2022-06-20T18:31:23.486888",
     "exception": false,
     "start_time": "2022-06-20T18:31:23.450015",
     "status": "completed"
    },
    "tags": []
   },
   "outputs": [],
   "source": [
    "# train-val split (80-20)\n",
    "from sklearn.model_selection import train_test_split\n",
    "\n",
    "X = train_df_processed.iloc[:, 1:-1]\n",
    "y = train_df_processed.iloc[:, -1]\n",
    "\n",
    "# split into train and val\n",
    "X_train, X_val, y_train, y_val = train_test_split(X, y, test_size=0.2, random_state=42)\n",
    "\n",
    "X_test = test_df_processed.iloc[:, 1:]\n",
    "y_test = []"
   ]
  },
  {
   "cell_type": "code",
   "execution_count": 35,
   "id": "de0c9c78",
   "metadata": {
    "execution": {
     "iopub.execute_input": "2022-06-20T18:31:23.524184Z",
     "iopub.status.busy": "2022-06-20T18:31:23.523617Z",
     "iopub.status.idle": "2022-06-20T18:31:23.535322Z",
     "shell.execute_reply": "2022-06-20T18:31:23.534533Z"
    },
    "papermill": {
     "duration": 0.032815,
     "end_time": "2022-06-20T18:31:23.537371",
     "exception": false,
     "start_time": "2022-06-20T18:31:23.504556",
     "status": "completed"
    },
    "tags": []
   },
   "outputs": [
    {
     "data": {
      "text/html": [
       "<div>\n",
       "<style scoped>\n",
       "    .dataframe tbody tr th:only-of-type {\n",
       "        vertical-align: middle;\n",
       "    }\n",
       "\n",
       "    .dataframe tbody tr th {\n",
       "        vertical-align: top;\n",
       "    }\n",
       "\n",
       "    .dataframe thead th {\n",
       "        text-align: right;\n",
       "    }\n",
       "</style>\n",
       "<table border=\"1\" class=\"dataframe\">\n",
       "  <thead>\n",
       "    <tr style=\"text-align: right;\">\n",
       "      <th></th>\n",
       "      <th>anchor</th>\n",
       "      <th>target</th>\n",
       "      <th>context</th>\n",
       "    </tr>\n",
       "  </thead>\n",
       "  <tbody>\n",
       "    <tr>\n",
       "      <th>1715</th>\n",
       "      <td>antigen composition</td>\n",
       "      <td>antigen immunoassay</td>\n",
       "      <td>measure test</td>\n",
       "    </tr>\n",
       "    <tr>\n",
       "      <th>26508</th>\n",
       "      <td>pulp apparatus</td>\n",
       "      <td>image forming apparatus</td>\n",
       "      <td>treatment textile like launder flexible materi...</td>\n",
       "    </tr>\n",
       "    <tr>\n",
       "      <th>15967</th>\n",
       "      <td>hydrocarbyl substitute succinic</td>\n",
       "      <td>substitute succinic anhydride</td>\n",
       "      <td>petroleum gas coke industry technical gas cont...</td>\n",
       "    </tr>\n",
       "    <tr>\n",
       "      <th>17306</th>\n",
       "      <td>intermediate connection</td>\n",
       "      <td>intermediate eye color</td>\n",
       "      <td>print line machine typewriter stamp</td>\n",
       "    </tr>\n",
       "    <tr>\n",
       "      <th>1741</th>\n",
       "      <td>antigen composition</td>\n",
       "      <td>poetic composition</td>\n",
       "      <td>measure test</td>\n",
       "    </tr>\n",
       "    <tr>\n",
       "      <th>...</th>\n",
       "      <td>...</td>\n",
       "      <td>...</td>\n",
       "      <td>...</td>\n",
       "    </tr>\n",
       "    <tr>\n",
       "      <th>16850</th>\n",
       "      <td>inner peripheral</td>\n",
       "      <td>inner peripheral side</td>\n",
       "      <td>information storage</td>\n",
       "    </tr>\n",
       "    <tr>\n",
       "      <th>6265</th>\n",
       "      <td>committee</td>\n",
       "      <td>approval area</td>\n",
       "      <td>checkingdevices</td>\n",
       "    </tr>\n",
       "    <tr>\n",
       "      <th>11284</th>\n",
       "      <td>embed groove</td>\n",
       "      <td>elongate groove</td>\n",
       "      <td>combustion apparatus combustion process</td>\n",
       "    </tr>\n",
       "    <tr>\n",
       "      <th>860</th>\n",
       "      <td>aesthetic effect</td>\n",
       "      <td>aesthetic value</td>\n",
       "      <td>sport game amusement</td>\n",
       "    </tr>\n",
       "    <tr>\n",
       "      <th>15795</th>\n",
       "      <td>hybrid system</td>\n",
       "      <td>torque generator</td>\n",
       "      <td>land vehicle travel otherwise rail</td>\n",
       "    </tr>\n",
       "  </tbody>\n",
       "</table>\n",
       "<p>29178 rows × 3 columns</p>\n",
       "</div>"
      ],
      "text/plain": [
       "                                anchor                         target  \\\n",
       "1715               antigen composition            antigen immunoassay   \n",
       "26508                   pulp apparatus        image forming apparatus   \n",
       "15967  hydrocarbyl substitute succinic  substitute succinic anhydride   \n",
       "17306          intermediate connection         intermediate eye color   \n",
       "1741               antigen composition             poetic composition   \n",
       "...                                ...                            ...   \n",
       "16850                 inner peripheral          inner peripheral side   \n",
       "6265                         committee                  approval area   \n",
       "11284                     embed groove                elongate groove   \n",
       "860                   aesthetic effect                aesthetic value   \n",
       "15795                    hybrid system               torque generator   \n",
       "\n",
       "                                                 context  \n",
       "1715                                        measure test  \n",
       "26508  treatment textile like launder flexible materi...  \n",
       "15967  petroleum gas coke industry technical gas cont...  \n",
       "17306                print line machine typewriter stamp  \n",
       "1741                                        measure test  \n",
       "...                                                  ...  \n",
       "16850                                information storage  \n",
       "6265                                     checkingdevices  \n",
       "11284            combustion apparatus combustion process  \n",
       "860                                 sport game amusement  \n",
       "15795                 land vehicle travel otherwise rail  \n",
       "\n",
       "[29178 rows x 3 columns]"
      ]
     },
     "execution_count": 35,
     "metadata": {},
     "output_type": "execute_result"
    }
   ],
   "source": [
    "X_train"
   ]
  },
  {
   "cell_type": "code",
   "execution_count": 36,
   "id": "5e8a65ff",
   "metadata": {
    "execution": {
     "iopub.execute_input": "2022-06-20T18:31:23.575092Z",
     "iopub.status.busy": "2022-06-20T18:31:23.574786Z",
     "iopub.status.idle": "2022-06-20T18:31:23.585326Z",
     "shell.execute_reply": "2022-06-20T18:31:23.584536Z"
    },
    "papermill": {
     "duration": 0.030961,
     "end_time": "2022-06-20T18:31:23.587106",
     "exception": false,
     "start_time": "2022-06-20T18:31:23.556145",
     "status": "completed"
    },
    "tags": []
   },
   "outputs": [
    {
     "data": {
      "text/html": [
       "<div>\n",
       "<style scoped>\n",
       "    .dataframe tbody tr th:only-of-type {\n",
       "        vertical-align: middle;\n",
       "    }\n",
       "\n",
       "    .dataframe tbody tr th {\n",
       "        vertical-align: top;\n",
       "    }\n",
       "\n",
       "    .dataframe thead th {\n",
       "        text-align: right;\n",
       "    }\n",
       "</style>\n",
       "<table border=\"1\" class=\"dataframe\">\n",
       "  <thead>\n",
       "    <tr style=\"text-align: right;\">\n",
       "      <th></th>\n",
       "      <th>anchor</th>\n",
       "      <th>target</th>\n",
       "      <th>context</th>\n",
       "    </tr>\n",
       "  </thead>\n",
       "  <tbody>\n",
       "    <tr>\n",
       "      <th>33511</th>\n",
       "      <td>transmit alarm</td>\n",
       "      <td>display indicator</td>\n",
       "      <td>signal</td>\n",
       "    </tr>\n",
       "    <tr>\n",
       "      <th>18670</th>\n",
       "      <td>lock formation</td>\n",
       "      <td>retain element</td>\n",
       "      <td>vehicle general</td>\n",
       "    </tr>\n",
       "    <tr>\n",
       "      <th>18049</th>\n",
       "      <td>lateral power</td>\n",
       "      <td>transducer</td>\n",
       "      <td>basic electric element</td>\n",
       "    </tr>\n",
       "    <tr>\n",
       "      <th>31660</th>\n",
       "      <td>spreader body</td>\n",
       "      <td>spreader</td>\n",
       "      <td>agriculture forestry animal husbandry hunt tra...</td>\n",
       "    </tr>\n",
       "    <tr>\n",
       "      <th>15573</th>\n",
       "      <td>high gradient magnetic separator</td>\n",
       "      <td>magnetic filtration</td>\n",
       "      <td>separation solid material use liquid use pneum...</td>\n",
       "    </tr>\n",
       "    <tr>\n",
       "      <th>...</th>\n",
       "      <td>...</td>\n",
       "      <td>...</td>\n",
       "      <td>...</td>\n",
       "    </tr>\n",
       "    <tr>\n",
       "      <th>5040</th>\n",
       "      <td>cervical support</td>\n",
       "      <td>gel pack</td>\n",
       "      <td>furniture domestic article appliance coffee mi...</td>\n",
       "    </tr>\n",
       "    <tr>\n",
       "      <th>33907</th>\n",
       "      <td>trommel screen</td>\n",
       "      <td>trommel screen</td>\n",
       "      <td>separation solid material use liquid use pneum...</td>\n",
       "    </tr>\n",
       "    <tr>\n",
       "      <th>9090</th>\n",
       "      <td>different conductivity</td>\n",
       "      <td>conductive</td>\n",
       "      <td>basic electronic circuitry</td>\n",
       "    </tr>\n",
       "    <tr>\n",
       "      <th>25999</th>\n",
       "      <td>prolog</td>\n",
       "      <td>slide window</td>\n",
       "      <td>basic electronic circuitry</td>\n",
       "    </tr>\n",
       "    <tr>\n",
       "      <th>22135</th>\n",
       "      <td>operator identification information</td>\n",
       "      <td>risk identification</td>\n",
       "      <td>electric communication technique</td>\n",
       "    </tr>\n",
       "  </tbody>\n",
       "</table>\n",
       "<p>7295 rows × 3 columns</p>\n",
       "</div>"
      ],
      "text/plain": [
       "                                    anchor               target  \\\n",
       "33511                       transmit alarm    display indicator   \n",
       "18670                       lock formation       retain element   \n",
       "18049                        lateral power           transducer   \n",
       "31660                        spreader body             spreader   \n",
       "15573     high gradient magnetic separator  magnetic filtration   \n",
       "...                                    ...                  ...   \n",
       "5040                      cervical support             gel pack   \n",
       "33907                       trommel screen       trommel screen   \n",
       "9090                different conductivity           conductive   \n",
       "25999                               prolog         slide window   \n",
       "22135  operator identification information  risk identification   \n",
       "\n",
       "                                                 context  \n",
       "33511                                             signal  \n",
       "18670                                    vehicle general  \n",
       "18049                             basic electric element  \n",
       "31660  agriculture forestry animal husbandry hunt tra...  \n",
       "15573  separation solid material use liquid use pneum...  \n",
       "...                                                  ...  \n",
       "5040   furniture domestic article appliance coffee mi...  \n",
       "33907  separation solid material use liquid use pneum...  \n",
       "9090                          basic electronic circuitry  \n",
       "25999                         basic electronic circuitry  \n",
       "22135                   electric communication technique  \n",
       "\n",
       "[7295 rows x 3 columns]"
      ]
     },
     "execution_count": 36,
     "metadata": {},
     "output_type": "execute_result"
    }
   ],
   "source": [
    "X_val"
   ]
  },
  {
   "cell_type": "code",
   "execution_count": 37,
   "id": "9734a28d",
   "metadata": {
    "execution": {
     "iopub.execute_input": "2022-06-20T18:31:23.625519Z",
     "iopub.status.busy": "2022-06-20T18:31:23.625257Z",
     "iopub.status.idle": "2022-06-20T18:31:23.637082Z",
     "shell.execute_reply": "2022-06-20T18:31:23.636268Z"
    },
    "papermill": {
     "duration": 0.033184,
     "end_time": "2022-06-20T18:31:23.638999",
     "exception": false,
     "start_time": "2022-06-20T18:31:23.605815",
     "status": "completed"
    },
    "tags": []
   },
   "outputs": [
    {
     "data": {
      "text/html": [
       "<div>\n",
       "<style scoped>\n",
       "    .dataframe tbody tr th:only-of-type {\n",
       "        vertical-align: middle;\n",
       "    }\n",
       "\n",
       "    .dataframe tbody tr th {\n",
       "        vertical-align: top;\n",
       "    }\n",
       "\n",
       "    .dataframe thead th {\n",
       "        text-align: right;\n",
       "    }\n",
       "</style>\n",
       "<table border=\"1\" class=\"dataframe\">\n",
       "  <thead>\n",
       "    <tr style=\"text-align: right;\">\n",
       "      <th></th>\n",
       "      <th>anchor</th>\n",
       "      <th>target</th>\n",
       "      <th>context</th>\n",
       "    </tr>\n",
       "  </thead>\n",
       "  <tbody>\n",
       "    <tr>\n",
       "      <th>0</th>\n",
       "      <td>opc drum</td>\n",
       "      <td>inorganic photoconductor drum</td>\n",
       "      <td>optic</td>\n",
       "    </tr>\n",
       "    <tr>\n",
       "      <th>1</th>\n",
       "      <td>adjust gas flow</td>\n",
       "      <td>alter gas flow</td>\n",
       "      <td>combustion apparatus combustion process</td>\n",
       "    </tr>\n",
       "    <tr>\n",
       "      <th>2</th>\n",
       "      <td>low trunnion</td>\n",
       "      <td>low locating</td>\n",
       "      <td>vehicle general</td>\n",
       "    </tr>\n",
       "    <tr>\n",
       "      <th>3</th>\n",
       "      <td>cap component</td>\n",
       "      <td>upper portion</td>\n",
       "      <td>treatment textile like launder flexible materi...</td>\n",
       "    </tr>\n",
       "    <tr>\n",
       "      <th>4</th>\n",
       "      <td>neural stimulation</td>\n",
       "      <td>artificial neural network</td>\n",
       "      <td>electric communication technique</td>\n",
       "    </tr>\n",
       "    <tr>\n",
       "      <th>5</th>\n",
       "      <td>dry corn</td>\n",
       "      <td>dry corn starch</td>\n",
       "      <td>biochemistry beer spirit wine vinegar microbio...</td>\n",
       "    </tr>\n",
       "    <tr>\n",
       "      <th>6</th>\n",
       "      <td>tunnel capacitor</td>\n",
       "      <td>capacitor housing</td>\n",
       "      <td>information storage</td>\n",
       "    </tr>\n",
       "    <tr>\n",
       "      <th>7</th>\n",
       "      <td>angular contact bearing</td>\n",
       "      <td>contact therapy radiation</td>\n",
       "      <td>machine tool metalworking otherwise provide</td>\n",
       "    </tr>\n",
       "    <tr>\n",
       "      <th>8</th>\n",
       "      <td>produce liquid hydrocarbon</td>\n",
       "      <td>produce treat stream</td>\n",
       "      <td>petroleum gas coke industry technical gas cont...</td>\n",
       "    </tr>\n",
       "    <tr>\n",
       "      <th>9</th>\n",
       "      <td>diesel fuel tank</td>\n",
       "      <td>diesel fuel tank</td>\n",
       "      <td>combustion engine hotgas combustionproduct eng...</td>\n",
       "    </tr>\n",
       "    <tr>\n",
       "      <th>10</th>\n",
       "      <td>chemical activity</td>\n",
       "      <td>dielectric characteristic</td>\n",
       "      <td>physical chemical process apparatus general</td>\n",
       "    </tr>\n",
       "    <tr>\n",
       "      <th>11</th>\n",
       "      <td>transmit platform</td>\n",
       "      <td>direct receiving</td>\n",
       "      <td>electric communication technique</td>\n",
       "    </tr>\n",
       "    <tr>\n",
       "      <th>12</th>\n",
       "      <td>oil tanker</td>\n",
       "      <td>oil carrier</td>\n",
       "      <td>ship waterborne vessel relate equipment</td>\n",
       "    </tr>\n",
       "    <tr>\n",
       "      <th>13</th>\n",
       "      <td>generate layer</td>\n",
       "      <td>generate layer</td>\n",
       "      <td>optic</td>\n",
       "    </tr>\n",
       "    <tr>\n",
       "      <th>14</th>\n",
       "      <td>slip segment</td>\n",
       "      <td>slip portion</td>\n",
       "      <td>cast powder metallurgy</td>\n",
       "    </tr>\n",
       "    <tr>\n",
       "      <th>15</th>\n",
       "      <td>el display</td>\n",
       "      <td>illumination</td>\n",
       "      <td>optic</td>\n",
       "    </tr>\n",
       "    <tr>\n",
       "      <th>16</th>\n",
       "      <td>overflow device</td>\n",
       "      <td>oil filler</td>\n",
       "      <td>building</td>\n",
       "    </tr>\n",
       "    <tr>\n",
       "      <th>17</th>\n",
       "      <td>beam travel direction</td>\n",
       "      <td>concrete beam</td>\n",
       "      <td>electric technique otherwise provide</td>\n",
       "    </tr>\n",
       "    <tr>\n",
       "      <th>18</th>\n",
       "      <td>el display</td>\n",
       "      <td>electroluminescent</td>\n",
       "      <td>coat metallic material coat material metallic ...</td>\n",
       "    </tr>\n",
       "    <tr>\n",
       "      <th>19</th>\n",
       "      <td>equipment unit</td>\n",
       "      <td>power detection</td>\n",
       "      <td>generation conversion distribution electric power</td>\n",
       "    </tr>\n",
       "    <tr>\n",
       "      <th>20</th>\n",
       "      <td>halocarbyl</td>\n",
       "      <td>halogen addition reaction</td>\n",
       "      <td>organic chemistry</td>\n",
       "    </tr>\n",
       "    <tr>\n",
       "      <th>21</th>\n",
       "      <td>perfluoroalkyl group</td>\n",
       "      <td>hydroxy</td>\n",
       "      <td>sport game amusement</td>\n",
       "    </tr>\n",
       "    <tr>\n",
       "      <th>22</th>\n",
       "      <td>speed control mean</td>\n",
       "      <td>control loop</td>\n",
       "      <td>control regulating</td>\n",
       "    </tr>\n",
       "    <tr>\n",
       "      <th>23</th>\n",
       "      <td>arm design</td>\n",
       "      <td>steel plate</td>\n",
       "      <td>engineering element unit general measure produ...</td>\n",
       "    </tr>\n",
       "    <tr>\n",
       "      <th>24</th>\n",
       "      <td>hybrid bearing</td>\n",
       "      <td>bearing system</td>\n",
       "      <td>positive displacement machine liquid pump liqu...</td>\n",
       "    </tr>\n",
       "    <tr>\n",
       "      <th>25</th>\n",
       "      <td>end pin</td>\n",
       "      <td>end day</td>\n",
       "      <td>haberdashery jewellery</td>\n",
       "    </tr>\n",
       "    <tr>\n",
       "      <th>26</th>\n",
       "      <td>organic start</td>\n",
       "      <td>organic farming</td>\n",
       "      <td>railway</td>\n",
       "    </tr>\n",
       "    <tr>\n",
       "      <th>27</th>\n",
       "      <td>make slab</td>\n",
       "      <td>make cake</td>\n",
       "      <td>building</td>\n",
       "    </tr>\n",
       "    <tr>\n",
       "      <th>28</th>\n",
       "      <td>seal teeth</td>\n",
       "      <td>teeth whiten</td>\n",
       "      <td>machine engine general engine plant general st...</td>\n",
       "    </tr>\n",
       "    <tr>\n",
       "      <th>29</th>\n",
       "      <td>carry platform</td>\n",
       "      <td>carry platform</td>\n",
       "      <td>vehicle general</td>\n",
       "    </tr>\n",
       "    <tr>\n",
       "      <th>30</th>\n",
       "      <td>poll</td>\n",
       "      <td>pool device</td>\n",
       "      <td>mechanical metalworking without essentially re...</td>\n",
       "    </tr>\n",
       "    <tr>\n",
       "      <th>31</th>\n",
       "      <td>upper clamp arm</td>\n",
       "      <td>end visual</td>\n",
       "      <td>medical veterinary science hygiene</td>\n",
       "    </tr>\n",
       "    <tr>\n",
       "      <th>32</th>\n",
       "      <td>clock storage</td>\n",
       "      <td>clock storage device</td>\n",
       "      <td>measure test</td>\n",
       "    </tr>\n",
       "    <tr>\n",
       "      <th>33</th>\n",
       "      <td>couple factor</td>\n",
       "      <td>turn impedance</td>\n",
       "      <td>measure test</td>\n",
       "    </tr>\n",
       "    <tr>\n",
       "      <th>34</th>\n",
       "      <td>different conductivity</td>\n",
       "      <td>carrier polarity</td>\n",
       "      <td>basic electronic circuitry</td>\n",
       "    </tr>\n",
       "    <tr>\n",
       "      <th>35</th>\n",
       "      <td>hybrid bearing</td>\n",
       "      <td>corrosion resistant</td>\n",
       "      <td>engineering element unit general measure produ...</td>\n",
       "    </tr>\n",
       "  </tbody>\n",
       "</table>\n",
       "</div>"
      ],
      "text/plain": [
       "                        anchor                         target  \\\n",
       "0                     opc drum  inorganic photoconductor drum   \n",
       "1              adjust gas flow                 alter gas flow   \n",
       "2                 low trunnion                   low locating   \n",
       "3                cap component                  upper portion   \n",
       "4           neural stimulation      artificial neural network   \n",
       "5                     dry corn                dry corn starch   \n",
       "6             tunnel capacitor              capacitor housing   \n",
       "7      angular contact bearing      contact therapy radiation   \n",
       "8   produce liquid hydrocarbon           produce treat stream   \n",
       "9             diesel fuel tank               diesel fuel tank   \n",
       "10           chemical activity      dielectric characteristic   \n",
       "11           transmit platform               direct receiving   \n",
       "12                  oil tanker                    oil carrier   \n",
       "13              generate layer                 generate layer   \n",
       "14                slip segment                   slip portion   \n",
       "15                  el display                   illumination   \n",
       "16             overflow device                     oil filler   \n",
       "17       beam travel direction                  concrete beam   \n",
       "18                  el display             electroluminescent   \n",
       "19              equipment unit                power detection   \n",
       "20                  halocarbyl      halogen addition reaction   \n",
       "21        perfluoroalkyl group                        hydroxy   \n",
       "22          speed control mean                   control loop   \n",
       "23                  arm design                    steel plate   \n",
       "24              hybrid bearing                 bearing system   \n",
       "25                     end pin                        end day   \n",
       "26               organic start                organic farming   \n",
       "27                   make slab                      make cake   \n",
       "28                  seal teeth                   teeth whiten   \n",
       "29              carry platform                 carry platform   \n",
       "30                        poll                    pool device   \n",
       "31             upper clamp arm                     end visual   \n",
       "32               clock storage           clock storage device   \n",
       "33               couple factor                 turn impedance   \n",
       "34      different conductivity               carrier polarity   \n",
       "35              hybrid bearing            corrosion resistant   \n",
       "\n",
       "                                              context  \n",
       "0                                               optic  \n",
       "1             combustion apparatus combustion process  \n",
       "2                                     vehicle general  \n",
       "3   treatment textile like launder flexible materi...  \n",
       "4                    electric communication technique  \n",
       "5   biochemistry beer spirit wine vinegar microbio...  \n",
       "6                                 information storage  \n",
       "7         machine tool metalworking otherwise provide  \n",
       "8   petroleum gas coke industry technical gas cont...  \n",
       "9   combustion engine hotgas combustionproduct eng...  \n",
       "10        physical chemical process apparatus general  \n",
       "11                   electric communication technique  \n",
       "12            ship waterborne vessel relate equipment  \n",
       "13                                              optic  \n",
       "14                             cast powder metallurgy  \n",
       "15                                              optic  \n",
       "16                                           building  \n",
       "17               electric technique otherwise provide  \n",
       "18  coat metallic material coat material metallic ...  \n",
       "19  generation conversion distribution electric power  \n",
       "20                                  organic chemistry  \n",
       "21                               sport game amusement  \n",
       "22                                 control regulating  \n",
       "23  engineering element unit general measure produ...  \n",
       "24  positive displacement machine liquid pump liqu...  \n",
       "25                             haberdashery jewellery  \n",
       "26                                            railway  \n",
       "27                                           building  \n",
       "28  machine engine general engine plant general st...  \n",
       "29                                    vehicle general  \n",
       "30  mechanical metalworking without essentially re...  \n",
       "31                 medical veterinary science hygiene  \n",
       "32                                       measure test  \n",
       "33                                       measure test  \n",
       "34                         basic electronic circuitry  \n",
       "35  engineering element unit general measure produ...  "
      ]
     },
     "execution_count": 37,
     "metadata": {},
     "output_type": "execute_result"
    }
   ],
   "source": [
    "X_test"
   ]
  },
  {
   "cell_type": "code",
   "execution_count": 38,
   "id": "60b7f095",
   "metadata": {
    "execution": {
     "iopub.execute_input": "2022-06-20T18:31:23.678124Z",
     "iopub.status.busy": "2022-06-20T18:31:23.677784Z",
     "iopub.status.idle": "2022-06-20T18:31:23.684876Z",
     "shell.execute_reply": "2022-06-20T18:31:23.683949Z"
    },
    "papermill": {
     "duration": 0.028522,
     "end_time": "2022-06-20T18:31:23.686816",
     "exception": false,
     "start_time": "2022-06-20T18:31:23.658294",
     "status": "completed"
    },
    "tags": []
   },
   "outputs": [
    {
     "data": {
      "text/plain": [
       "1715     2\n",
       "26508    0\n",
       "15967    1\n",
       "17306    0\n",
       "1741     0\n",
       "        ..\n",
       "16850    3\n",
       "6265     0\n",
       "11284    2\n",
       "860      2\n",
       "15795    1\n",
       "Name: score, Length: 29178, dtype: int64"
      ]
     },
     "execution_count": 38,
     "metadata": {},
     "output_type": "execute_result"
    }
   ],
   "source": [
    "y_train"
   ]
  },
  {
   "cell_type": "code",
   "execution_count": 39,
   "id": "be6132d2",
   "metadata": {
    "execution": {
     "iopub.execute_input": "2022-06-20T18:31:23.725198Z",
     "iopub.status.busy": "2022-06-20T18:31:23.724901Z",
     "iopub.status.idle": "2022-06-20T18:31:23.731257Z",
     "shell.execute_reply": "2022-06-20T18:31:23.730440Z"
    },
    "papermill": {
     "duration": 0.028501,
     "end_time": "2022-06-20T18:31:23.733881",
     "exception": false,
     "start_time": "2022-06-20T18:31:23.705380",
     "status": "completed"
    },
    "tags": []
   },
   "outputs": [
    {
     "data": {
      "text/plain": [
       "33511    0\n",
       "18670    1\n",
       "18049    1\n",
       "31660    3\n",
       "15573    2\n",
       "        ..\n",
       "5040     1\n",
       "33907    4\n",
       "9090     2\n",
       "25999    0\n",
       "22135    0\n",
       "Name: score, Length: 7295, dtype: int64"
      ]
     },
     "execution_count": 39,
     "metadata": {},
     "output_type": "execute_result"
    }
   ],
   "source": [
    "y_val"
   ]
  },
  {
   "cell_type": "code",
   "execution_count": 40,
   "id": "6d163002",
   "metadata": {
    "execution": {
     "iopub.execute_input": "2022-06-20T18:31:23.772865Z",
     "iopub.status.busy": "2022-06-20T18:31:23.772603Z",
     "iopub.status.idle": "2022-06-20T18:31:23.777558Z",
     "shell.execute_reply": "2022-06-20T18:31:23.776738Z"
    },
    "papermill": {
     "duration": 0.027304,
     "end_time": "2022-06-20T18:31:23.780099",
     "exception": false,
     "start_time": "2022-06-20T18:31:23.752795",
     "status": "completed"
    },
    "tags": []
   },
   "outputs": [
    {
     "data": {
      "text/plain": [
       "[]"
      ]
     },
     "execution_count": 40,
     "metadata": {},
     "output_type": "execute_result"
    }
   ],
   "source": [
    "y_test  # to be predicted for submission.csv"
   ]
  },
  {
   "cell_type": "markdown",
   "id": "cd383d23",
   "metadata": {
    "papermill": {
     "duration": 0.019349,
     "end_time": "2022-06-20T18:31:23.818259",
     "exception": false,
     "start_time": "2022-06-20T18:31:23.798910",
     "status": "completed"
    },
    "tags": []
   },
   "source": [
    "## Model Training"
   ]
  },
  {
   "cell_type": "markdown",
   "id": "7ba242b6",
   "metadata": {
    "papermill": {
     "duration": 0.018577,
     "end_time": "2022-06-20T18:31:23.855949",
     "exception": false,
     "start_time": "2022-06-20T18:31:23.837372",
     "status": "completed"
    },
    "tags": []
   },
   "source": [
    "### Extracting Embeddings and Creating Dataset\n",
    "https://huggingface.co/AI-Growth-Lab/PatentSBERTa"
   ]
  },
  {
   "cell_type": "code",
   "execution_count": 41,
   "id": "b1630a11",
   "metadata": {
    "execution": {
     "iopub.execute_input": "2022-06-20T18:31:23.894623Z",
     "iopub.status.busy": "2022-06-20T18:31:23.894082Z",
     "iopub.status.idle": "2022-06-20T18:31:25.396090Z",
     "shell.execute_reply": "2022-06-20T18:31:25.395309Z"
    },
    "papermill": {
     "duration": 1.523338,
     "end_time": "2022-06-20T18:31:25.398096",
     "exception": false,
     "start_time": "2022-06-20T18:31:23.874758",
     "status": "completed"
    },
    "tags": []
   },
   "outputs": [],
   "source": [
    "import torch\n",
    "import os"
   ]
  },
  {
   "cell_type": "code",
   "execution_count": 42,
   "id": "1d9442a7",
   "metadata": {
    "execution": {
     "iopub.execute_input": "2022-06-20T18:31:25.438311Z",
     "iopub.status.busy": "2022-06-20T18:31:25.437881Z",
     "iopub.status.idle": "2022-06-20T18:31:25.517103Z",
     "shell.execute_reply": "2022-06-20T18:31:25.516356Z"
    },
    "papermill": {
     "duration": 0.10162,
     "end_time": "2022-06-20T18:31:25.519109",
     "exception": false,
     "start_time": "2022-06-20T18:31:25.417489",
     "status": "completed"
    },
    "tags": []
   },
   "outputs": [
    {
     "name": "stdout",
     "output_type": "stream",
     "text": [
      "cuda:0\n"
     ]
    }
   ],
   "source": [
    "device = torch.device(\"cuda:0\" if torch.cuda.is_available() else \"cpu\")\n",
    "print(device)"
   ]
  },
  {
   "cell_type": "code",
   "execution_count": 43,
   "id": "90d5c9a5",
   "metadata": {
    "execution": {
     "iopub.execute_input": "2022-06-20T18:31:25.558931Z",
     "iopub.status.busy": "2022-06-20T18:31:25.558656Z",
     "iopub.status.idle": "2022-06-20T18:31:58.337537Z",
     "shell.execute_reply": "2022-06-20T18:31:58.336371Z"
    },
    "papermill": {
     "duration": 32.801056,
     "end_time": "2022-06-20T18:31:58.339978",
     "exception": false,
     "start_time": "2022-06-20T18:31:25.538922",
     "status": "completed"
    },
    "tags": []
   },
   "outputs": [
    {
     "name": "stdout",
     "output_type": "stream",
     "text": [
      "Processing ./sentence-transformers-2.2.0/sentence-transformers-2.2.0\r\n",
      "  Preparing metadata (setup.py) ... \u001b[?25l-\b \bdone\r\n",
      "\u001b[?25hRequirement already satisfied: transformers<5.0.0,>=4.6.0 in /opt/conda/lib/python3.7/site-packages (from sentence-transformers==2.2.0) (4.18.0)\r\n",
      "Requirement already satisfied: tqdm in /opt/conda/lib/python3.7/site-packages (from sentence-transformers==2.2.0) (4.64.0)\r\n",
      "Requirement already satisfied: torch>=1.6.0 in /opt/conda/lib/python3.7/site-packages (from sentence-transformers==2.2.0) (1.11.0)\r\n",
      "Requirement already satisfied: torchvision in /opt/conda/lib/python3.7/site-packages (from sentence-transformers==2.2.0) (0.12.0)\r\n",
      "Requirement already satisfied: numpy in /opt/conda/lib/python3.7/site-packages (from sentence-transformers==2.2.0) (1.21.6)\r\n",
      "Requirement already satisfied: scikit-learn in /opt/conda/lib/python3.7/site-packages (from sentence-transformers==2.2.0) (1.0.2)\r\n",
      "Requirement already satisfied: scipy in /opt/conda/lib/python3.7/site-packages (from sentence-transformers==2.2.0) (1.7.3)\r\n",
      "Requirement already satisfied: nltk in /opt/conda/lib/python3.7/site-packages (from sentence-transformers==2.2.0) (3.2.4)\r\n",
      "Requirement already satisfied: sentencepiece in /opt/conda/lib/python3.7/site-packages (from sentence-transformers==2.2.0) (0.1.96)\r\n",
      "Requirement already satisfied: huggingface-hub in /opt/conda/lib/python3.7/site-packages (from sentence-transformers==2.2.0) (0.5.1)\r\n",
      "Requirement already satisfied: typing-extensions in /opt/conda/lib/python3.7/site-packages (from torch>=1.6.0->sentence-transformers==2.2.0) (4.2.0)\r\n",
      "Requirement already satisfied: tokenizers!=0.11.3,<0.13,>=0.11.1 in /opt/conda/lib/python3.7/site-packages (from transformers<5.0.0,>=4.6.0->sentence-transformers==2.2.0) (0.12.1)\r\n",
      "Requirement already satisfied: packaging>=20.0 in /opt/conda/lib/python3.7/site-packages (from transformers<5.0.0,>=4.6.0->sentence-transformers==2.2.0) (21.3)\r\n",
      "Requirement already satisfied: regex!=2019.12.17 in /opt/conda/lib/python3.7/site-packages (from transformers<5.0.0,>=4.6.0->sentence-transformers==2.2.0) (2021.11.10)\r\n",
      "Requirement already satisfied: requests in /opt/conda/lib/python3.7/site-packages (from transformers<5.0.0,>=4.6.0->sentence-transformers==2.2.0) (2.27.1)\r\n",
      "Requirement already satisfied: filelock in /opt/conda/lib/python3.7/site-packages (from transformers<5.0.0,>=4.6.0->sentence-transformers==2.2.0) (3.6.0)\r\n",
      "Requirement already satisfied: pyyaml>=5.1 in /opt/conda/lib/python3.7/site-packages (from transformers<5.0.0,>=4.6.0->sentence-transformers==2.2.0) (6.0)\r\n",
      "Requirement already satisfied: sacremoses in /opt/conda/lib/python3.7/site-packages (from transformers<5.0.0,>=4.6.0->sentence-transformers==2.2.0) (0.0.53)\r\n",
      "Requirement already satisfied: importlib-metadata in /opt/conda/lib/python3.7/site-packages (from transformers<5.0.0,>=4.6.0->sentence-transformers==2.2.0) (4.11.4)\r\n",
      "Requirement already satisfied: six in /opt/conda/lib/python3.7/site-packages (from nltk->sentence-transformers==2.2.0) (1.16.0)\r\n",
      "Requirement already satisfied: joblib>=0.11 in /opt/conda/lib/python3.7/site-packages (from scikit-learn->sentence-transformers==2.2.0) (1.1.0)\r\n",
      "Requirement already satisfied: threadpoolctl>=2.0.0 in /opt/conda/lib/python3.7/site-packages (from scikit-learn->sentence-transformers==2.2.0) (3.1.0)\r\n",
      "Requirement already satisfied: pillow!=8.3.*,>=5.3.0 in /opt/conda/lib/python3.7/site-packages (from torchvision->sentence-transformers==2.2.0) (9.1.0)\r\n",
      "Requirement already satisfied: pyparsing!=3.0.5,>=2.0.2 in /opt/conda/lib/python3.7/site-packages (from packaging>=20.0->transformers<5.0.0,>=4.6.0->sentence-transformers==2.2.0) (3.0.9)\r\n",
      "Requirement already satisfied: zipp>=0.5 in /opt/conda/lib/python3.7/site-packages (from importlib-metadata->transformers<5.0.0,>=4.6.0->sentence-transformers==2.2.0) (3.8.0)\r\n",
      "Requirement already satisfied: idna<4,>=2.5 in /opt/conda/lib/python3.7/site-packages (from requests->transformers<5.0.0,>=4.6.0->sentence-transformers==2.2.0) (3.3)\r\n",
      "Requirement already satisfied: charset-normalizer~=2.0.0 in /opt/conda/lib/python3.7/site-packages (from requests->transformers<5.0.0,>=4.6.0->sentence-transformers==2.2.0) (2.0.12)\r\n",
      "Requirement already satisfied: certifi>=2017.4.17 in /opt/conda/lib/python3.7/site-packages (from requests->transformers<5.0.0,>=4.6.0->sentence-transformers==2.2.0) (2022.5.18.1)\r\n",
      "Requirement already satisfied: urllib3<1.27,>=1.21.1 in /opt/conda/lib/python3.7/site-packages (from requests->transformers<5.0.0,>=4.6.0->sentence-transformers==2.2.0) (1.26.9)\r\n",
      "Requirement already satisfied: click in /opt/conda/lib/python3.7/site-packages (from sacremoses->transformers<5.0.0,>=4.6.0->sentence-transformers==2.2.0) (8.0.4)\r\n",
      "Building wheels for collected packages: sentence-transformers\r\n",
      "  Building wheel for sentence-transformers (setup.py) ... \u001b[?25l-\b \b\\\b \bdone\r\n",
      "\u001b[?25h  Created wheel for sentence-transformers: filename=sentence_transformers-2.2.0-py3-none-any.whl size=120747 sha256=134c1f410e017b1ae563573ffb1fc9b10fb577c4727008180baadf8ba2a31340\r\n",
      "  Stored in directory: /root/.cache/pip/wheels/6f/77/99/692662615373359c8bd6d65a64cb2afe2ae4fd598c57be6ebe\r\n",
      "Successfully built sentence-transformers\r\n",
      "Installing collected packages: sentence-transformers\r\n",
      "Successfully installed sentence-transformers-2.2.0\r\n",
      "\u001b[33mWARNING: Running pip as the 'root' user can result in broken permissions and conflicting behaviour with the system package manager. It is recommended to use a virtual environment instead: https://pip.pypa.io/warnings/venv\u001b[0m\u001b[33m\r\n",
      "\u001b[0m\u001b[33mWARNING: There was an error checking the latest version of pip.\u001b[0m\u001b[33m\r\n",
      "\u001b[0m"
     ]
    }
   ],
   "source": [
    "if IS_KAGGLE:\n",
    "    !cp -r ../input/d/datasets/vikrambajaj/us-patent-phrase-to-phrase-matching/sentence-transformers-2.2.0/ ./\n",
    "    !pip install ./sentence-transformers-2.2.0/sentence-transformers-2.2.0/"
   ]
  },
  {
   "cell_type": "code",
   "execution_count": 44,
   "id": "04b97b2f",
   "metadata": {
    "execution": {
     "iopub.execute_input": "2022-06-20T18:31:58.382928Z",
     "iopub.status.busy": "2022-06-20T18:31:58.382569Z",
     "iopub.status.idle": "2022-06-20T18:32:11.550081Z",
     "shell.execute_reply": "2022-06-20T18:32:11.549264Z"
    },
    "papermill": {
     "duration": 13.191375,
     "end_time": "2022-06-20T18:32:11.551913",
     "exception": false,
     "start_time": "2022-06-20T18:31:58.360538",
     "status": "completed"
    },
    "tags": []
   },
   "outputs": [
    {
     "data": {
      "text/plain": [
       "SentenceTransformer(\n",
       "  (0): Transformer({'max_seq_length': 512, 'do_lower_case': False}) with Transformer model: MPNetModel \n",
       "  (1): Pooling({'word_embedding_dimension': 768, 'pooling_mode_cls_token': True, 'pooling_mode_mean_tokens': False, 'pooling_mode_max_tokens': False, 'pooling_mode_mean_sqrt_len_tokens': False})\n",
       ")"
      ]
     },
     "execution_count": 44,
     "metadata": {},
     "output_type": "execute_result"
    }
   ],
   "source": [
    "if IS_KAGGLE:\n",
    "    model = torch.load('../input/d/datasets/vikrambajaj/us-patent-phrase-to-phrase-matching/PatentSBERTa.pt')\n",
    "else:\n",
    "    from sentence_transformers import SentenceTransformer\n",
    "    model = SentenceTransformer('AI-Growth-Lab/PatentSBERTa')\n",
    "model.to(device)\n",
    "model.eval()"
   ]
  },
  {
   "cell_type": "code",
   "execution_count": 45,
   "id": "fb62d05e",
   "metadata": {
    "execution": {
     "iopub.execute_input": "2022-06-20T18:32:11.594034Z",
     "iopub.status.busy": "2022-06-20T18:32:11.593741Z",
     "iopub.status.idle": "2022-06-20T18:32:11.598803Z",
     "shell.execute_reply": "2022-06-20T18:32:11.598095Z"
    },
    "papermill": {
     "duration": 0.028029,
     "end_time": "2022-06-20T18:32:11.600372",
     "exception": false,
     "start_time": "2022-06-20T18:32:11.572343",
     "status": "completed"
    },
    "tags": []
   },
   "outputs": [],
   "source": [
    "def get_df_embeddings(df):\n",
    "    new_df = pd.DataFrame()\n",
    "    new_df['anchor'] = model.encode(df['anchor'].values).tolist()\n",
    "    new_df['target'] = model.encode(df['target'].values).tolist()\n",
    "    new_df['context'] = model.encode(df['context'].values).tolist()\n",
    "    \n",
    "    return new_df"
   ]
  },
  {
   "cell_type": "code",
   "execution_count": 46,
   "id": "f5060950",
   "metadata": {
    "execution": {
     "iopub.execute_input": "2022-06-20T18:32:11.641859Z",
     "iopub.status.busy": "2022-06-20T18:32:11.641613Z",
     "iopub.status.idle": "2022-06-20T18:33:14.846450Z",
     "shell.execute_reply": "2022-06-20T18:33:14.845426Z"
    },
    "papermill": {
     "duration": 63.229153,
     "end_time": "2022-06-20T18:33:14.849425",
     "exception": false,
     "start_time": "2022-06-20T18:32:11.620272",
     "status": "completed"
    },
    "tags": []
   },
   "outputs": [
    {
     "data": {
      "application/vnd.jupyter.widget-view+json": {
       "model_id": "3e9e3ada7a7d413c9fcd483f52f3c909",
       "version_major": 2,
       "version_minor": 0
      },
      "text/plain": [
       "Batches:   0%|          | 0/912 [00:00<?, ?it/s]"
      ]
     },
     "metadata": {},
     "output_type": "display_data"
    },
    {
     "data": {
      "application/vnd.jupyter.widget-view+json": {
       "model_id": "6d12b485d497422e8254a1aaa7a7d6d8",
       "version_major": 2,
       "version_minor": 0
      },
      "text/plain": [
       "Batches:   0%|          | 0/912 [00:00<?, ?it/s]"
      ]
     },
     "metadata": {},
     "output_type": "display_data"
    },
    {
     "data": {
      "application/vnd.jupyter.widget-view+json": {
       "model_id": "2cc5dc05a59d41f3a902c4e8260bbd1f",
       "version_major": 2,
       "version_minor": 0
      },
      "text/plain": [
       "Batches:   0%|          | 0/912 [00:00<?, ?it/s]"
      ]
     },
     "metadata": {},
     "output_type": "display_data"
    },
    {
     "data": {
      "application/vnd.jupyter.widget-view+json": {
       "model_id": "b77a1130e0d14fbda75b6095b5aa89b3",
       "version_major": 2,
       "version_minor": 0
      },
      "text/plain": [
       "Batches:   0%|          | 0/2 [00:00<?, ?it/s]"
      ]
     },
     "metadata": {},
     "output_type": "display_data"
    },
    {
     "data": {
      "application/vnd.jupyter.widget-view+json": {
       "model_id": "33b909c5e8844942938ca54a1187b15e",
       "version_major": 2,
       "version_minor": 0
      },
      "text/plain": [
       "Batches:   0%|          | 0/2 [00:00<?, ?it/s]"
      ]
     },
     "metadata": {},
     "output_type": "display_data"
    },
    {
     "data": {
      "application/vnd.jupyter.widget-view+json": {
       "model_id": "02076d9f44ea4ffa9bfb4e1aa9087a4f",
       "version_major": 2,
       "version_minor": 0
      },
      "text/plain": [
       "Batches:   0%|          | 0/2 [00:00<?, ?it/s]"
      ]
     },
     "metadata": {},
     "output_type": "display_data"
    },
    {
     "data": {
      "application/vnd.jupyter.widget-view+json": {
       "model_id": "04b4088e55824806a90826b1c6b2485b",
       "version_major": 2,
       "version_minor": 0
      },
      "text/plain": [
       "Batches:   0%|          | 0/228 [00:00<?, ?it/s]"
      ]
     },
     "metadata": {},
     "output_type": "display_data"
    },
    {
     "data": {
      "application/vnd.jupyter.widget-view+json": {
       "model_id": "0b18b879fe7447f98ccb1d4de4601720",
       "version_major": 2,
       "version_minor": 0
      },
      "text/plain": [
       "Batches:   0%|          | 0/228 [00:00<?, ?it/s]"
      ]
     },
     "metadata": {},
     "output_type": "display_data"
    },
    {
     "data": {
      "application/vnd.jupyter.widget-view+json": {
       "model_id": "d443d79df2b6407daef7512550075b7e",
       "version_major": 2,
       "version_minor": 0
      },
      "text/plain": [
       "Batches:   0%|          | 0/228 [00:00<?, ?it/s]"
      ]
     },
     "metadata": {},
     "output_type": "display_data"
    }
   ],
   "source": [
    "# generate embeddings, takes a while\n",
    "X_train = get_df_embeddings(X_train)\n",
    "X_test = get_df_embeddings(X_test)\n",
    "X_val = get_df_embeddings(X_val)\n",
    "\n",
    "X_train.to_json(os.path.join(DATA_OUTPUT_DIR, 'X_train.json'))\n",
    "X_test.to_json(os.path.join(DATA_OUTPUT_DIR, 'X_test.json'))\n",
    "X_val.to_json(os.path.join(DATA_OUTPUT_DIR, 'X_val.json'))"
   ]
  },
  {
   "cell_type": "code",
   "execution_count": 47,
   "id": "517405e4",
   "metadata": {
    "execution": {
     "iopub.execute_input": "2022-06-20T18:33:14.990770Z",
     "iopub.status.busy": "2022-06-20T18:33:14.990279Z",
     "iopub.status.idle": "2022-06-20T18:33:14.998580Z",
     "shell.execute_reply": "2022-06-20T18:33:14.997649Z"
    },
    "papermill": {
     "duration": 0.100813,
     "end_time": "2022-06-20T18:33:15.001454",
     "exception": false,
     "start_time": "2022-06-20T18:33:14.900641",
     "status": "completed"
    },
    "tags": []
   },
   "outputs": [],
   "source": [
    "y_train = y_train.tolist()"
   ]
  },
  {
   "cell_type": "code",
   "execution_count": 48,
   "id": "f0aa9934",
   "metadata": {
    "execution": {
     "iopub.execute_input": "2022-06-20T18:33:15.059040Z",
     "iopub.status.busy": "2022-06-20T18:33:15.058681Z",
     "iopub.status.idle": "2022-06-20T18:33:15.063185Z",
     "shell.execute_reply": "2022-06-20T18:33:15.062431Z"
    },
    "papermill": {
     "duration": 0.034,
     "end_time": "2022-06-20T18:33:15.065201",
     "exception": false,
     "start_time": "2022-06-20T18:33:15.031201",
     "status": "completed"
    },
    "tags": []
   },
   "outputs": [],
   "source": [
    "y_val = y_val.tolist()"
   ]
  },
  {
   "cell_type": "code",
   "execution_count": 49,
   "id": "26be38af",
   "metadata": {
    "execution": {
     "iopub.execute_input": "2022-06-20T18:33:15.111698Z",
     "iopub.status.busy": "2022-06-20T18:33:15.111422Z",
     "iopub.status.idle": "2022-06-20T18:33:45.727182Z",
     "shell.execute_reply": "2022-06-20T18:33:45.726331Z"
    },
    "papermill": {
     "duration": 30.642662,
     "end_time": "2022-06-20T18:33:45.730259",
     "exception": false,
     "start_time": "2022-06-20T18:33:15.087597",
     "status": "completed"
    },
    "tags": []
   },
   "outputs": [],
   "source": [
    "import numpy as np\n",
    "# load json if kernel restarted\n",
    "X_train = pd.read_json(os.path.join(DATA_OUTPUT_DIR, 'X_train.json'))\n",
    "X_test = pd.read_json(os.path.join(DATA_OUTPUT_DIR, 'X_test.json'))\n",
    "X_val = pd.read_json(os.path.join(DATA_OUTPUT_DIR, 'X_val.json'))\n",
    "\n",
    "X_train_features = np.array([np.concatenate((X_train.iloc[i]['anchor'], X_train.iloc[i]['target'], X_train.iloc[i]['context'])) for i in range(len(X_train))])\n",
    "X_val_features = np.array([np.concatenate((X_val.iloc[i]['anchor'], X_val.iloc[i]['target'], X_val.iloc[i]['context'])) for i in range(len(X_val))])\n",
    "X_test_features = np.array([np.concatenate((X_test.iloc[i]['anchor'], X_test.iloc[i]['target'], X_test.iloc[i]['context'])) for i in range(len(X_test))])"
   ]
  },
  {
   "cell_type": "code",
   "execution_count": 50,
   "id": "928cefd9",
   "metadata": {
    "execution": {
     "iopub.execute_input": "2022-06-20T18:33:45.804187Z",
     "iopub.status.busy": "2022-06-20T18:33:45.803677Z",
     "iopub.status.idle": "2022-06-20T18:33:45.810112Z",
     "shell.execute_reply": "2022-06-20T18:33:45.809208Z"
    },
    "papermill": {
     "duration": 0.047415,
     "end_time": "2022-06-20T18:33:45.814213",
     "exception": false,
     "start_time": "2022-06-20T18:33:45.766798",
     "status": "completed"
    },
    "tags": []
   },
   "outputs": [
    {
     "data": {
      "text/plain": [
       "(29178, 2304)"
      ]
     },
     "execution_count": 50,
     "metadata": {},
     "output_type": "execute_result"
    }
   ],
   "source": [
    "X_train_features.shape"
   ]
  },
  {
   "cell_type": "markdown",
   "id": "1ba16176",
   "metadata": {
    "papermill": {
     "duration": 0.034978,
     "end_time": "2022-06-20T18:33:45.884886",
     "exception": false,
     "start_time": "2022-06-20T18:33:45.849908",
     "status": "completed"
    },
    "tags": []
   },
   "source": [
    "## PCA for Dimensionality Reduction"
   ]
  },
  {
   "cell_type": "code",
   "execution_count": 51,
   "id": "de8e6bea",
   "metadata": {
    "execution": {
     "iopub.execute_input": "2022-06-20T18:33:45.956299Z",
     "iopub.status.busy": "2022-06-20T18:33:45.955895Z",
     "iopub.status.idle": "2022-06-20T18:33:46.931618Z",
     "shell.execute_reply": "2022-06-20T18:33:46.930797Z"
    },
    "papermill": {
     "duration": 1.013567,
     "end_time": "2022-06-20T18:33:46.933745",
     "exception": false,
     "start_time": "2022-06-20T18:33:45.920178",
     "status": "completed"
    },
    "tags": []
   },
   "outputs": [],
   "source": [
    "from sklearn.preprocessing import StandardScaler\n",
    "\n",
    "scaler = StandardScaler()\n",
    "X_train_features_scaled = scaler.fit_transform(X_train_features)\n",
    "X_val_features_scaled = scaler.transform(X_val_features)\n",
    "X_test_features_scaled = scaler.transform(X_test_features)"
   ]
  },
  {
   "cell_type": "code",
   "execution_count": 52,
   "id": "bfe0da6a",
   "metadata": {
    "execution": {
     "iopub.execute_input": "2022-06-20T18:33:46.979093Z",
     "iopub.status.busy": "2022-06-20T18:33:46.978275Z",
     "iopub.status.idle": "2022-06-20T19:39:42.256193Z",
     "shell.execute_reply": "2022-06-20T19:39:42.255023Z"
    },
    "papermill": {
     "duration": 3955.303696,
     "end_time": "2022-06-20T19:39:42.259267",
     "exception": false,
     "start_time": "2022-06-20T18:33:46.955571",
     "status": "completed"
    },
    "tags": []
   },
   "outputs": [],
   "source": [
    "from sklearn.decomposition import PCA\n",
    "\n",
    "pca = PCA(n_components='mle')\n",
    "X_train_features = pca.fit_transform(X_train_features_scaled)\n",
    "X_val_features = pca.transform(X_val_features_scaled)\n",
    "X_test_features = pca.transform(X_test_features_scaled)"
   ]
  },
  {
   "cell_type": "code",
   "execution_count": 53,
   "id": "bdf81500",
   "metadata": {
    "execution": {
     "iopub.execute_input": "2022-06-20T19:39:42.344439Z",
     "iopub.status.busy": "2022-06-20T19:39:42.343963Z",
     "iopub.status.idle": "2022-06-20T19:39:42.349308Z",
     "shell.execute_reply": "2022-06-20T19:39:42.348605Z"
    },
    "papermill": {
     "duration": 0.049889,
     "end_time": "2022-06-20T19:39:42.352805",
     "exception": false,
     "start_time": "2022-06-20T19:39:42.302916",
     "status": "completed"
    },
    "tags": []
   },
   "outputs": [
    {
     "name": "stdout",
     "output_type": "stream",
     "text": [
      "(29178, 1638) (7295, 1638) (36, 1638)\n"
     ]
    }
   ],
   "source": [
    "print(X_train_features.shape, X_val_features.shape, X_test_features.shape)"
   ]
  },
  {
   "cell_type": "markdown",
   "id": "7a04affc",
   "metadata": {
    "papermill": {
     "duration": 0.021459,
     "end_time": "2022-06-20T19:39:42.412606",
     "exception": false,
     "start_time": "2022-06-20T19:39:42.391147",
     "status": "completed"
    },
    "tags": []
   },
   "source": [
    "## Traditional (Non-Deep) Models"
   ]
  },
  {
   "cell_type": "markdown",
   "id": "c745dad1",
   "metadata": {
    "papermill": {
     "duration": 0.021938,
     "end_time": "2022-06-20T19:39:42.456307",
     "exception": false,
     "start_time": "2022-06-20T19:39:42.434369",
     "status": "completed"
    },
    "tags": []
   },
   "source": [
    "### Random Forest"
   ]
  },
  {
   "cell_type": "code",
   "execution_count": 54,
   "id": "29adb282",
   "metadata": {
    "execution": {
     "iopub.execute_input": "2022-06-20T19:39:42.501182Z",
     "iopub.status.busy": "2022-06-20T19:39:42.500846Z",
     "iopub.status.idle": "2022-06-20T19:39:42.504256Z",
     "shell.execute_reply": "2022-06-20T19:39:42.503468Z"
    },
    "papermill": {
     "duration": 0.029139,
     "end_time": "2022-06-20T19:39:42.507024",
     "exception": false,
     "start_time": "2022-06-20T19:39:42.477885",
     "status": "completed"
    },
    "tags": []
   },
   "outputs": [],
   "source": [
    "# from sklearn.ensemble import RandomForestClassifier\n",
    "# from joblib import load, dump"
   ]
  },
  {
   "cell_type": "code",
   "execution_count": 55,
   "id": "c4675d93",
   "metadata": {
    "execution": {
     "iopub.execute_input": "2022-06-20T19:39:42.552536Z",
     "iopub.status.busy": "2022-06-20T19:39:42.552167Z",
     "iopub.status.idle": "2022-06-20T19:39:42.555659Z",
     "shell.execute_reply": "2022-06-20T19:39:42.554913Z"
    },
    "papermill": {
     "duration": 0.028187,
     "end_time": "2022-06-20T19:39:42.557249",
     "exception": false,
     "start_time": "2022-06-20T19:39:42.529062",
     "status": "completed"
    },
    "tags": []
   },
   "outputs": [],
   "source": [
    "# rf = RandomForestClassifier(n_estimators = 10, criterion = 'entropy', random_state = 42)\n",
    "# rf.fit(X_train_features, y_train)"
   ]
  },
  {
   "cell_type": "code",
   "execution_count": 56,
   "id": "29041ad6",
   "metadata": {
    "execution": {
     "iopub.execute_input": "2022-06-20T19:39:42.603258Z",
     "iopub.status.busy": "2022-06-20T19:39:42.602735Z",
     "iopub.status.idle": "2022-06-20T19:39:42.606228Z",
     "shell.execute_reply": "2022-06-20T19:39:42.605540Z"
    },
    "papermill": {
     "duration": 0.028199,
     "end_time": "2022-06-20T19:39:42.608076",
     "exception": false,
     "start_time": "2022-06-20T19:39:42.579877",
     "status": "completed"
    },
    "tags": []
   },
   "outputs": [],
   "source": [
    "# y_pred = rf.predict(X_test_features)\n",
    "\n",
    "# submission_df = pd.DataFrame()\n",
    "# submission_df['id'] = test_df['id']\n",
    "# submission_df['score'] = y_pred\n",
    "\n",
    "# submission_df.to_csv(os.path.join(DATA_OUTPUT_DIR, 'submission.csv'), index=False)"
   ]
  },
  {
   "cell_type": "markdown",
   "id": "512068a8",
   "metadata": {
    "papermill": {
     "duration": 0.02175,
     "end_time": "2022-06-20T19:39:42.652515",
     "exception": false,
     "start_time": "2022-06-20T19:39:42.630765",
     "status": "completed"
    },
    "tags": []
   },
   "source": [
    "### XGBoost"
   ]
  },
  {
   "cell_type": "code",
   "execution_count": 57,
   "id": "71552ebb",
   "metadata": {
    "execution": {
     "iopub.execute_input": "2022-06-20T19:39:42.698238Z",
     "iopub.status.busy": "2022-06-20T19:39:42.697913Z",
     "iopub.status.idle": "2022-06-20T19:39:42.701414Z",
     "shell.execute_reply": "2022-06-20T19:39:42.700671Z"
    },
    "papermill": {
     "duration": 0.028594,
     "end_time": "2022-06-20T19:39:42.703038",
     "exception": false,
     "start_time": "2022-06-20T19:39:42.674444",
     "status": "completed"
    },
    "tags": []
   },
   "outputs": [],
   "source": [
    "# from xgboost.sklearn import XGBClassifier"
   ]
  },
  {
   "cell_type": "code",
   "execution_count": 58,
   "id": "96db5fdd",
   "metadata": {
    "execution": {
     "iopub.execute_input": "2022-06-20T19:39:42.748534Z",
     "iopub.status.busy": "2022-06-20T19:39:42.747886Z",
     "iopub.status.idle": "2022-06-20T19:39:42.751182Z",
     "shell.execute_reply": "2022-06-20T19:39:42.750458Z"
    },
    "papermill": {
     "duration": 0.028262,
     "end_time": "2022-06-20T19:39:42.752880",
     "exception": false,
     "start_time": "2022-06-20T19:39:42.724618",
     "status": "completed"
    },
    "tags": []
   },
   "outputs": [],
   "source": [
    "# xgb = XGBClassifier(objective='multi:softmax', num_class=len(labels), seed=42)\n",
    "# xgb.fit(X_train_features, y_train)"
   ]
  },
  {
   "cell_type": "code",
   "execution_count": 59,
   "id": "4e7a25de",
   "metadata": {
    "execution": {
     "iopub.execute_input": "2022-06-20T19:39:42.797585Z",
     "iopub.status.busy": "2022-06-20T19:39:42.797001Z",
     "iopub.status.idle": "2022-06-20T19:39:42.800380Z",
     "shell.execute_reply": "2022-06-20T19:39:42.799678Z"
    },
    "papermill": {
     "duration": 0.027553,
     "end_time": "2022-06-20T19:39:42.802034",
     "exception": false,
     "start_time": "2022-06-20T19:39:42.774481",
     "status": "completed"
    },
    "tags": []
   },
   "outputs": [],
   "source": [
    "# def get_accuracy(actual, predicted):\n",
    "#     match = 0\n",
    "#     for i in range(len(actual)):\n",
    "#         if actual[i] == predicted[i]:\n",
    "#             match += 1\n",
    "#     return round((match / len(actual)) * 100, 2)"
   ]
  },
  {
   "cell_type": "code",
   "execution_count": 60,
   "id": "74232819",
   "metadata": {
    "execution": {
     "iopub.execute_input": "2022-06-20T19:39:42.847524Z",
     "iopub.status.busy": "2022-06-20T19:39:42.846954Z",
     "iopub.status.idle": "2022-06-20T19:39:42.850255Z",
     "shell.execute_reply": "2022-06-20T19:39:42.849573Z"
    },
    "papermill": {
     "duration": 0.02752,
     "end_time": "2022-06-20T19:39:42.851902",
     "exception": false,
     "start_time": "2022-06-20T19:39:42.824382",
     "status": "completed"
    },
    "tags": []
   },
   "outputs": [],
   "source": [
    "# print('train set accuracy: {}'.format(get_accuracy(y_train, xgb.predict(X_train_features))))\n",
    "# print('val set accuracy: {}'.format(get_accuracy(y_val, xgb.predict(X_val_features))))"
   ]
  },
  {
   "cell_type": "code",
   "execution_count": 61,
   "id": "fc922d48",
   "metadata": {
    "execution": {
     "iopub.execute_input": "2022-06-20T19:39:42.897737Z",
     "iopub.status.busy": "2022-06-20T19:39:42.896751Z",
     "iopub.status.idle": "2022-06-20T19:39:42.900648Z",
     "shell.execute_reply": "2022-06-20T19:39:42.899900Z"
    },
    "papermill": {
     "duration": 0.02867,
     "end_time": "2022-06-20T19:39:42.902280",
     "exception": false,
     "start_time": "2022-06-20T19:39:42.873610",
     "status": "completed"
    },
    "tags": []
   },
   "outputs": [],
   "source": [
    "# y_pred = xgb.predict(X_test_features)\n",
    "\n",
    "# submission_df = pd.DataFrame()\n",
    "# submission_df['id'] = test_df['id']\n",
    "# submission_df['score'] = y_pred\n",
    "\n",
    "# submission_df.to_csv(os.path.join(DATA_OUTPUT_DIR, 'submission.csv'), index=False)"
   ]
  },
  {
   "cell_type": "markdown",
   "id": "5101f5d0",
   "metadata": {
    "papermill": {
     "duration": 0.022311,
     "end_time": "2022-06-20T19:39:42.947215",
     "exception": false,
     "start_time": "2022-06-20T19:39:42.924904",
     "status": "completed"
    },
    "tags": []
   },
   "source": [
    "## Training a Neural Network"
   ]
  },
  {
   "cell_type": "code",
   "execution_count": 62,
   "id": "a87c298e",
   "metadata": {
    "execution": {
     "iopub.execute_input": "2022-06-20T19:39:42.991637Z",
     "iopub.status.busy": "2022-06-20T19:39:42.991371Z",
     "iopub.status.idle": "2022-06-20T19:39:42.994864Z",
     "shell.execute_reply": "2022-06-20T19:39:42.994108Z"
    },
    "papermill": {
     "duration": 0.027612,
     "end_time": "2022-06-20T19:39:42.996557",
     "exception": false,
     "start_time": "2022-06-20T19:39:42.968945",
     "status": "completed"
    },
    "tags": []
   },
   "outputs": [],
   "source": [
    "from torch.utils.data import Dataset"
   ]
  },
  {
   "cell_type": "code",
   "execution_count": 63,
   "id": "fd5fa192",
   "metadata": {
    "execution": {
     "iopub.execute_input": "2022-06-20T19:39:43.042742Z",
     "iopub.status.busy": "2022-06-20T19:39:43.042245Z",
     "iopub.status.idle": "2022-06-20T19:39:43.047585Z",
     "shell.execute_reply": "2022-06-20T19:39:43.046894Z"
    },
    "papermill": {
     "duration": 0.029903,
     "end_time": "2022-06-20T19:39:43.049363",
     "exception": false,
     "start_time": "2022-06-20T19:39:43.019460",
     "status": "completed"
    },
    "tags": []
   },
   "outputs": [],
   "source": [
    "class PatentsDataset(Dataset):\n",
    "    def __init__(self, X, y):\n",
    "        self.X = X\n",
    "        self.y = y\n",
    "        \n",
    "    def __len__(self):\n",
    "        return len(self.X)\n",
    "    \n",
    "    def __getitem__(self, idx):\n",
    "        return torch.tensor(self.X[idx,:], dtype=torch.float32), torch.tensor(int(self.y[idx]), dtype=torch.long)"
   ]
  },
  {
   "cell_type": "code",
   "execution_count": 64,
   "id": "5ac90ba7",
   "metadata": {
    "execution": {
     "iopub.execute_input": "2022-06-20T19:39:43.094627Z",
     "iopub.status.busy": "2022-06-20T19:39:43.093991Z",
     "iopub.status.idle": "2022-06-20T19:39:43.097793Z",
     "shell.execute_reply": "2022-06-20T19:39:43.097120Z"
    },
    "papermill": {
     "duration": 0.028079,
     "end_time": "2022-06-20T19:39:43.099388",
     "exception": false,
     "start_time": "2022-06-20T19:39:43.071309",
     "status": "completed"
    },
    "tags": []
   },
   "outputs": [],
   "source": [
    "train_ds = PatentsDataset(X_train_features, y_train)\n",
    "val_ds = PatentsDataset(X_val_features, y_val)"
   ]
  },
  {
   "cell_type": "code",
   "execution_count": 65,
   "id": "c3344118",
   "metadata": {
    "execution": {
     "iopub.execute_input": "2022-06-20T19:39:43.147208Z",
     "iopub.status.busy": "2022-06-20T19:39:43.146588Z",
     "iopub.status.idle": "2022-06-20T19:39:43.155931Z",
     "shell.execute_reply": "2022-06-20T19:39:43.155072Z"
    },
    "papermill": {
     "duration": 0.035329,
     "end_time": "2022-06-20T19:39:43.157650",
     "exception": false,
     "start_time": "2022-06-20T19:39:43.122321",
     "status": "completed"
    },
    "tags": []
   },
   "outputs": [
    {
     "data": {
      "text/plain": [
       "(tensor([-7.8414e-01,  9.1548e+00,  1.7544e+01,  ..., -3.9770e-09,\n",
       "         -1.7226e-08,  5.5407e-09]),\n",
       " tensor(2))"
      ]
     },
     "execution_count": 65,
     "metadata": {},
     "output_type": "execute_result"
    }
   ],
   "source": [
    "train_ds[0]"
   ]
  },
  {
   "cell_type": "code",
   "execution_count": 66,
   "id": "6ba2192b",
   "metadata": {
    "execution": {
     "iopub.execute_input": "2022-06-20T19:39:43.205764Z",
     "iopub.status.busy": "2022-06-20T19:39:43.205024Z",
     "iopub.status.idle": "2022-06-20T19:39:43.210775Z",
     "shell.execute_reply": "2022-06-20T19:39:43.210063Z"
    },
    "papermill": {
     "duration": 0.031119,
     "end_time": "2022-06-20T19:39:43.212439",
     "exception": false,
     "start_time": "2022-06-20T19:39:43.181320",
     "status": "completed"
    },
    "tags": []
   },
   "outputs": [
    {
     "data": {
      "text/plain": [
       "torch.Size([1638])"
      ]
     },
     "execution_count": 66,
     "metadata": {},
     "output_type": "execute_result"
    }
   ],
   "source": [
    "train_ds[0][0].shape"
   ]
  },
  {
   "cell_type": "code",
   "execution_count": 67,
   "id": "9d55cbbc",
   "metadata": {
    "execution": {
     "iopub.execute_input": "2022-06-20T19:39:43.261087Z",
     "iopub.status.busy": "2022-06-20T19:39:43.260274Z",
     "iopub.status.idle": "2022-06-20T19:39:43.267843Z",
     "shell.execute_reply": "2022-06-20T19:39:43.267075Z"
    },
    "papermill": {
     "duration": 0.033315,
     "end_time": "2022-06-20T19:39:43.269542",
     "exception": false,
     "start_time": "2022-06-20T19:39:43.236227",
     "status": "completed"
    },
    "tags": []
   },
   "outputs": [
    {
     "data": {
      "text/plain": [
       "torch.Size([])"
      ]
     },
     "execution_count": 67,
     "metadata": {},
     "output_type": "execute_result"
    }
   ],
   "source": [
    "train_ds[0][1].shape"
   ]
  },
  {
   "cell_type": "markdown",
   "id": "96382cfb",
   "metadata": {
    "papermill": {
     "duration": 0.022954,
     "end_time": "2022-06-20T19:39:43.315510",
     "exception": false,
     "start_time": "2022-06-20T19:39:43.292556",
     "status": "completed"
    },
    "tags": []
   },
   "source": [
    "### Initialize Model"
   ]
  },
  {
   "cell_type": "code",
   "execution_count": 68,
   "id": "a05d4c93",
   "metadata": {
    "execution": {
     "iopub.execute_input": "2022-06-20T19:39:43.362902Z",
     "iopub.status.busy": "2022-06-20T19:39:43.362573Z",
     "iopub.status.idle": "2022-06-20T19:39:43.367223Z",
     "shell.execute_reply": "2022-06-20T19:39:43.366465Z"
    },
    "papermill": {
     "duration": 0.030593,
     "end_time": "2022-06-20T19:39:43.368970",
     "exception": false,
     "start_time": "2022-06-20T19:39:43.338377",
     "status": "completed"
    },
    "tags": []
   },
   "outputs": [],
   "source": [
    "EPOCHS = 300\n",
    "BATCH_SIZE = 16\n",
    "LEARNING_RATE = 0.001\n",
    "NUM_FEATURES = train_ds[0][0].size()[0]\n",
    "NUM_CLASSES = 5"
   ]
  },
  {
   "cell_type": "code",
   "execution_count": 69,
   "id": "f0a4ca67",
   "metadata": {
    "execution": {
     "iopub.execute_input": "2022-06-20T19:39:43.427597Z",
     "iopub.status.busy": "2022-06-20T19:39:43.427249Z",
     "iopub.status.idle": "2022-06-20T19:39:43.432089Z",
     "shell.execute_reply": "2022-06-20T19:39:43.431381Z"
    },
    "papermill": {
     "duration": 0.039949,
     "end_time": "2022-06-20T19:39:43.433727",
     "exception": false,
     "start_time": "2022-06-20T19:39:43.393778",
     "status": "completed"
    },
    "tags": []
   },
   "outputs": [],
   "source": [
    "from torch.utils.data import DataLoader\n",
    "import torch.nn as nn\n",
    "import torch.optim as optim\n",
    "\n",
    "train_loader = DataLoader(dataset=train_ds, batch_size=BATCH_SIZE, shuffle=True)\n",
    "val_loader = DataLoader(dataset=val_ds, batch_size=1)"
   ]
  },
  {
   "cell_type": "code",
   "execution_count": 70,
   "id": "abb3796f",
   "metadata": {
    "execution": {
     "iopub.execute_input": "2022-06-20T19:39:43.481634Z",
     "iopub.status.busy": "2022-06-20T19:39:43.480961Z",
     "iopub.status.idle": "2022-06-20T19:39:43.489712Z",
     "shell.execute_reply": "2022-06-20T19:39:43.488993Z"
    },
    "papermill": {
     "duration": 0.03491,
     "end_time": "2022-06-20T19:39:43.491609",
     "exception": false,
     "start_time": "2022-06-20T19:39:43.456699",
     "status": "completed"
    },
    "tags": []
   },
   "outputs": [],
   "source": [
    "class MulticlassClassification(nn.Module):\n",
    "    def __init__(self, num_feature, num_class):\n",
    "        super(MulticlassClassification, self).__init__()\n",
    "        \n",
    "        self.layer_1 = nn.Linear(num_feature, 512)\n",
    "        self.layer_2 = nn.Linear(512, 128)\n",
    "        self.layer_3 = nn.Linear(128, 64)\n",
    "        self.layer_out = nn.Linear(64, num_class) \n",
    "        \n",
    "        self.relu = nn.ReLU()\n",
    "        self.dropout = nn.Dropout(p=0.5)\n",
    "        self.batchnorm1 = nn.BatchNorm1d(512)\n",
    "        self.batchnorm2 = nn.BatchNorm1d(128)\n",
    "        self.batchnorm3 = nn.BatchNorm1d(64)\n",
    "        \n",
    "    def forward(self, x):\n",
    "        x = self.layer_1(x)\n",
    "        x = self.batchnorm1(x)\n",
    "        x = self.relu(x)\n",
    "        \n",
    "        x = self.layer_2(x)\n",
    "        x = self.batchnorm2(x)\n",
    "        x = self.relu(x)\n",
    "        x = self.dropout(x)\n",
    "        \n",
    "        x = self.layer_3(x)\n",
    "        x = self.batchnorm3(x)\n",
    "        x = self.relu(x)\n",
    "        x = self.dropout(x)\n",
    "        \n",
    "        x = self.layer_out(x)\n",
    "        \n",
    "        return x"
   ]
  },
  {
   "cell_type": "code",
   "execution_count": 71,
   "id": "f2e5c8ab",
   "metadata": {
    "execution": {
     "iopub.execute_input": "2022-06-20T19:39:43.539431Z",
     "iopub.status.busy": "2022-06-20T19:39:43.539125Z",
     "iopub.status.idle": "2022-06-20T19:39:43.544132Z",
     "shell.execute_reply": "2022-06-20T19:39:43.543339Z"
    },
    "papermill": {
     "duration": 0.030682,
     "end_time": "2022-06-20T19:39:43.545766",
     "exception": false,
     "start_time": "2022-06-20T19:39:43.515084",
     "status": "completed"
    },
    "tags": []
   },
   "outputs": [],
   "source": [
    "def multi_class_acc(y_pred, y_test):\n",
    "    y_pred_softmax = torch.log_softmax(y_pred, dim = 1)\n",
    "    _, y_pred_tags = torch.max(y_pred_softmax, dim = 1)    \n",
    "    \n",
    "    correct_pred = (y_pred_tags == y_test).float()\n",
    "    acc = correct_pred.sum() / len(correct_pred)\n",
    "    \n",
    "    acc = torch.round(acc * 100)\n",
    "    \n",
    "    return acc"
   ]
  },
  {
   "cell_type": "code",
   "execution_count": 72,
   "id": "5627a8d1",
   "metadata": {
    "execution": {
     "iopub.execute_input": "2022-06-20T19:39:43.593130Z",
     "iopub.status.busy": "2022-06-20T19:39:43.592548Z",
     "iopub.status.idle": "2022-06-20T19:39:43.596515Z",
     "shell.execute_reply": "2022-06-20T19:39:43.595804Z"
    },
    "papermill": {
     "duration": 0.029284,
     "end_time": "2022-06-20T19:39:43.598201",
     "exception": false,
     "start_time": "2022-06-20T19:39:43.568917",
     "status": "completed"
    },
    "tags": []
   },
   "outputs": [],
   "source": [
    "accuracy_stats = {\n",
    "    'train': [],\n",
    "    \"val\": []\n",
    "}\n",
    "loss_stats = {\n",
    "    'train': [],\n",
    "    \"val\": []\n",
    "}"
   ]
  },
  {
   "cell_type": "code",
   "execution_count": 73,
   "id": "817ebc5c",
   "metadata": {
    "execution": {
     "iopub.execute_input": "2022-06-20T19:39:43.646477Z",
     "iopub.status.busy": "2022-06-20T19:39:43.645831Z",
     "iopub.status.idle": "2022-06-20T19:39:43.665223Z",
     "shell.execute_reply": "2022-06-20T19:39:43.664243Z"
    },
    "papermill": {
     "duration": 0.046928,
     "end_time": "2022-06-20T19:39:43.667788",
     "exception": false,
     "start_time": "2022-06-20T19:39:43.620860",
     "status": "completed"
    },
    "tags": []
   },
   "outputs": [
    {
     "name": "stdout",
     "output_type": "stream",
     "text": [
      "MulticlassClassification(\n",
      "  (layer_1): Linear(in_features=1638, out_features=512, bias=True)\n",
      "  (layer_2): Linear(in_features=512, out_features=128, bias=True)\n",
      "  (layer_3): Linear(in_features=128, out_features=64, bias=True)\n",
      "  (layer_out): Linear(in_features=64, out_features=5, bias=True)\n",
      "  (relu): ReLU()\n",
      "  (dropout): Dropout(p=0.5, inplace=False)\n",
      "  (batchnorm1): BatchNorm1d(512, eps=1e-05, momentum=0.1, affine=True, track_running_stats=True)\n",
      "  (batchnorm2): BatchNorm1d(128, eps=1e-05, momentum=0.1, affine=True, track_running_stats=True)\n",
      "  (batchnorm3): BatchNorm1d(64, eps=1e-05, momentum=0.1, affine=True, track_running_stats=True)\n",
      ")\n"
     ]
    }
   ],
   "source": [
    "model = MulticlassClassification(num_feature=NUM_FEATURES, num_class=NUM_CLASSES)\n",
    "model.to(device)\n",
    "\n",
    "criterion = nn.CrossEntropyLoss()\n",
    "optimizer = optim.Adam(model.parameters(), lr=LEARNING_RATE)\n",
    "print(model)"
   ]
  },
  {
   "cell_type": "markdown",
   "id": "d2bc33ed",
   "metadata": {
    "papermill": {
     "duration": 0.023536,
     "end_time": "2022-06-20T19:39:43.715140",
     "exception": false,
     "start_time": "2022-06-20T19:39:43.691604",
     "status": "completed"
    },
    "tags": []
   },
   "source": [
    "### Train Model"
   ]
  },
  {
   "cell_type": "code",
   "execution_count": 74,
   "id": "cee95198",
   "metadata": {
    "execution": {
     "iopub.execute_input": "2022-06-20T19:39:43.762289Z",
     "iopub.status.busy": "2022-06-20T19:39:43.761944Z",
     "iopub.status.idle": "2022-06-20T19:42:04.481895Z",
     "shell.execute_reply": "2022-06-20T19:42:04.481135Z"
    },
    "papermill": {
     "duration": 140.772224,
     "end_time": "2022-06-20T19:42:04.510277",
     "exception": false,
     "start_time": "2022-06-20T19:39:43.738053",
     "status": "completed"
    },
    "tags": []
   },
   "outputs": [
    {
     "name": "stdout",
     "output_type": "stream",
     "text": [
      "begin training ...\n"
     ]
    },
    {
     "name": "stderr",
     "output_type": "stream",
     "text": [
      "  0%|          | 1/300 [00:11<58:12, 11.68s/it]"
     ]
    },
    {
     "name": "stdout",
     "output_type": "stream",
     "text": [
      "Epoch 001: | Train Loss: 1.34159 | Val Loss: 1.22915 | Train Acc: 42.030| Val Acc: 47.526\n"
     ]
    },
    {
     "name": "stderr",
     "output_type": "stream",
     "text": [
      "  1%|          | 2/300 [00:23<58:24, 11.76s/it]"
     ]
    },
    {
     "name": "stdout",
     "output_type": "stream",
     "text": [
      "Epoch 002: | Train Loss: 1.21382 | Val Loss: 1.15704 | Train Acc: 49.315| Val Acc: 51.241\n"
     ]
    },
    {
     "name": "stderr",
     "output_type": "stream",
     "text": [
      "  1%|          | 3/300 [00:35<58:59, 11.92s/it]"
     ]
    },
    {
     "name": "stdout",
     "output_type": "stream",
     "text": [
      "Epoch 003: | Train Loss: 1.11170 | Val Loss: 1.07525 | Train Acc: 54.405| Val Acc: 54.818\n"
     ]
    },
    {
     "name": "stderr",
     "output_type": "stream",
     "text": [
      "  1%|▏         | 4/300 [00:47<58:08, 11.78s/it]"
     ]
    },
    {
     "name": "stdout",
     "output_type": "stream",
     "text": [
      "Epoch 004: | Train Loss: 0.99511 | Val Loss: 1.01413 | Train Acc: 59.321| Val Acc: 57.711\n"
     ]
    },
    {
     "name": "stderr",
     "output_type": "stream",
     "text": [
      "  2%|▏         | 5/300 [00:58<57:42, 11.74s/it]"
     ]
    },
    {
     "name": "stdout",
     "output_type": "stream",
     "text": [
      "Epoch 005: | Train Loss: 0.89508 | Val Loss: 0.98420 | Train Acc: 63.991| Val Acc: 59.397\n"
     ]
    },
    {
     "name": "stderr",
     "output_type": "stream",
     "text": [
      "  2%|▏         | 6/300 [01:10<57:49, 11.80s/it]"
     ]
    },
    {
     "name": "stdout",
     "output_type": "stream",
     "text": [
      "Epoch 006: | Train Loss: 0.79861 | Val Loss: 0.97190 | Train Acc: 68.394| Val Acc: 60.548\n"
     ]
    },
    {
     "name": "stderr",
     "output_type": "stream",
     "text": [
      "  2%|▏         | 7/300 [01:22<57:09, 11.71s/it]"
     ]
    },
    {
     "name": "stdout",
     "output_type": "stream",
     "text": [
      "Epoch 007: | Train Loss: 0.71755 | Val Loss: 0.96792 | Train Acc: 72.103| Val Acc: 62.481\n"
     ]
    },
    {
     "name": "stderr",
     "output_type": "stream",
     "text": [
      "  3%|▎         | 8/300 [01:34<57:10, 11.75s/it]"
     ]
    },
    {
     "name": "stdout",
     "output_type": "stream",
     "text": [
      "Epoch 008: | Train Loss: 0.63999 | Val Loss: 1.01688 | Train Acc: 75.217| Val Acc: 62.303\n"
     ]
    },
    {
     "name": "stderr",
     "output_type": "stream",
     "text": [
      "  3%|▎         | 9/300 [01:45<56:30, 11.65s/it]"
     ]
    },
    {
     "name": "stdout",
     "output_type": "stream",
     "text": [
      "Epoch 009: | Train Loss: 0.58313 | Val Loss: 1.07669 | Train Acc: 78.018| Val Acc: 61.947\n"
     ]
    },
    {
     "name": "stderr",
     "output_type": "stream",
     "text": [
      "  3%|▎         | 10/300 [01:57<56:03, 11.60s/it]"
     ]
    },
    {
     "name": "stdout",
     "output_type": "stream",
     "text": [
      "Epoch 010: | Train Loss: 0.54518 | Val Loss: 1.06625 | Train Acc: 79.733| Val Acc: 62.111\n"
     ]
    },
    {
     "name": "stderr",
     "output_type": "stream",
     "text": [
      "  4%|▎         | 11/300 [02:08<56:19, 11.69s/it]"
     ]
    },
    {
     "name": "stdout",
     "output_type": "stream",
     "text": [
      "Epoch 011: | Train Loss: 0.49636 | Val Loss: 1.08844 | Train Acc: 81.599| Val Acc: 62.934\n"
     ]
    },
    {
     "name": "stderr",
     "output_type": "stream",
     "text": [
      "  4%|▎         | 11/300 [02:20<1:01:36, 12.79s/it]"
     ]
    },
    {
     "name": "stdout",
     "output_type": "stream",
     "text": [
      "Epoch 012: | Train Loss: 0.45516 | Val Loss: 1.14569 | Train Acc: 83.518| Val Acc: 62.426\n",
      "Early stopping!\n"
     ]
    },
    {
     "name": "stderr",
     "output_type": "stream",
     "text": [
      "\n"
     ]
    }
   ],
   "source": [
    "from tqdm import tqdm\n",
    "\n",
    "print(\"begin training ...\")\n",
    "lowest_val_loss = float('inf')\n",
    "trigger_count = 0\n",
    "early_stopping_patience = 5  # stop training if val loss stops decreasing for these many epochs in a row\n",
    "\n",
    "for e in tqdm(range(1, EPOCHS+1)):\n",
    "    # TRAINING\n",
    "    train_epoch_loss = 0\n",
    "    train_epoch_acc = 0\n",
    "    \n",
    "    model.train()\n",
    "    for X_train_batch, y_train_batch in train_loader:\n",
    "        X_train_batch, y_train_batch = X_train_batch.to(device), y_train_batch.to(device)\n",
    "        optimizer.zero_grad()\n",
    "        \n",
    "        y_train_pred = model(X_train_batch)\n",
    "        \n",
    "        train_loss = criterion(y_train_pred, y_train_batch)\n",
    "        train_acc = multi_class_acc(y_train_pred, y_train_batch)\n",
    "        \n",
    "        train_loss.backward()\n",
    "        optimizer.step()\n",
    "        \n",
    "        train_epoch_loss += train_loss.item()\n",
    "        train_epoch_acc += train_acc.item()\n",
    "        \n",
    "    # VALIDATION    \n",
    "    with torch.no_grad():\n",
    "        val_epoch_loss = 0\n",
    "        val_epoch_acc = 0\n",
    "        \n",
    "        model.eval()\n",
    "        for X_val_batch, y_val_batch in val_loader:\n",
    "            X_val_batch, y_val_batch = X_val_batch.to(device), y_val_batch.to(device)\n",
    "            \n",
    "            y_val_pred = model(X_val_batch)\n",
    "                        \n",
    "            val_loss = criterion(y_val_pred, y_val_batch)\n",
    "            val_acc = multi_class_acc(y_val_pred, y_val_batch)\n",
    "            \n",
    "            val_epoch_loss += val_loss.item()\n",
    "            val_epoch_acc += val_acc.item()\n",
    "\n",
    "    loss_stats['train'].append(train_epoch_loss/len(train_loader))\n",
    "    loss_stats['val'].append(val_epoch_loss/len(val_loader))\n",
    "    accuracy_stats['train'].append(train_epoch_acc/len(train_loader))\n",
    "    accuracy_stats['val'].append(val_epoch_acc/len(val_loader))\n",
    "    \n",
    "    print(f'Epoch {e+0:03}: | Train Loss: {train_epoch_loss/len(train_loader):.5f} | Val Loss: {val_epoch_loss/len(val_loader):.5f} | Train Acc: {train_epoch_acc/len(train_loader):.3f}| Val Acc: {val_epoch_acc/len(val_loader):.3f}')\n",
    "    \n",
    "    # early stopping code\n",
    "    current_val_loss = val_epoch_loss/len(val_loader)\n",
    "    if current_val_loss < lowest_val_loss:\n",
    "        trigger_count = 0\n",
    "        lowest_val_loss = current_val_loss\n",
    "        # overwrite model\n",
    "        torch.save(model, os.path.join(MODEL_OUTPUT_DIR, 'model.pt'))\n",
    "    else:\n",
    "        trigger_count += 1\n",
    "        if trigger_count == early_stopping_patience:\n",
    "            # stop training\n",
    "            print('Early stopping!')\n",
    "            break"
   ]
  },
  {
   "cell_type": "markdown",
   "id": "e5b6579f",
   "metadata": {
    "papermill": {
     "duration": 0.024395,
     "end_time": "2022-06-20T19:42:04.561107",
     "exception": false,
     "start_time": "2022-06-20T19:42:04.536712",
     "status": "completed"
    },
    "tags": []
   },
   "source": [
    "### Make Predictions on Test Data"
   ]
  },
  {
   "cell_type": "code",
   "execution_count": 75,
   "id": "78f7dbc3",
   "metadata": {
    "execution": {
     "iopub.execute_input": "2022-06-20T19:42:04.612100Z",
     "iopub.status.busy": "2022-06-20T19:42:04.611324Z",
     "iopub.status.idle": "2022-06-20T19:42:04.619688Z",
     "shell.execute_reply": "2022-06-20T19:42:04.618968Z"
    },
    "papermill": {
     "duration": 0.035559,
     "end_time": "2022-06-20T19:42:04.621331",
     "exception": false,
     "start_time": "2022-06-20T19:42:04.585772",
     "status": "completed"
    },
    "tags": []
   },
   "outputs": [
    {
     "data": {
      "text/plain": [
       "array([[ 3.53872686e+00,  7.80702550e-01, -2.15776971e+00, ...,\n",
       "         7.89009261e-08, -6.25709495e-08, -6.05090177e-08],\n",
       "       [ 5.48576727e-01, -6.49467174e-01, -4.49106462e+00, ...,\n",
       "         1.28850419e-06, -1.92967033e-06,  1.22951121e-06],\n",
       "       [-2.02128934e+00,  3.47129296e+00, -4.01482024e+00, ...,\n",
       "        -1.04833453e-06, -1.59681268e-07,  3.87858167e-08],\n",
       "       ...,\n",
       "       [ 2.88613829e+00,  1.63427611e+01,  8.92587167e+00, ...,\n",
       "        -2.58923327e-07,  1.68084077e-07,  2.45080465e-06],\n",
       "       [ 1.38133575e+01, -5.37211658e+00, -2.36574985e-01, ...,\n",
       "         2.74567795e-06, -1.28885734e-07,  2.78832407e-06],\n",
       "       [-5.17718101e+00, -3.65483383e+00, -9.90775469e+00, ...,\n",
       "         1.77134871e-06, -5.93156708e-07,  8.16428843e-07]])"
      ]
     },
     "execution_count": 75,
     "metadata": {},
     "output_type": "execute_result"
    }
   ],
   "source": [
    "X_test_features"
   ]
  },
  {
   "cell_type": "code",
   "execution_count": 76,
   "id": "1d296fc6",
   "metadata": {
    "execution": {
     "iopub.execute_input": "2022-06-20T19:42:04.673341Z",
     "iopub.status.busy": "2022-06-20T19:42:04.673008Z",
     "iopub.status.idle": "2022-06-20T19:42:04.686792Z",
     "shell.execute_reply": "2022-06-20T19:42:04.685921Z"
    },
    "papermill": {
     "duration": 0.041728,
     "end_time": "2022-06-20T19:42:04.688612",
     "exception": false,
     "start_time": "2022-06-20T19:42:04.646884",
     "status": "completed"
    },
    "tags": []
   },
   "outputs": [
    {
     "data": {
      "text/plain": [
       "MulticlassClassification(\n",
       "  (layer_1): Linear(in_features=1638, out_features=512, bias=True)\n",
       "  (layer_2): Linear(in_features=512, out_features=128, bias=True)\n",
       "  (layer_3): Linear(in_features=128, out_features=64, bias=True)\n",
       "  (layer_out): Linear(in_features=64, out_features=5, bias=True)\n",
       "  (relu): ReLU()\n",
       "  (dropout): Dropout(p=0.5, inplace=False)\n",
       "  (batchnorm1): BatchNorm1d(512, eps=1e-05, momentum=0.1, affine=True, track_running_stats=True)\n",
       "  (batchnorm2): BatchNorm1d(128, eps=1e-05, momentum=0.1, affine=True, track_running_stats=True)\n",
       "  (batchnorm3): BatchNorm1d(64, eps=1e-05, momentum=0.1, affine=True, track_running_stats=True)\n",
       ")"
      ]
     },
     "execution_count": 76,
     "metadata": {},
     "output_type": "execute_result"
    }
   ],
   "source": [
    "model = torch.load(os.path.join(MODEL_OUTPUT_DIR, 'model.pt'))\n",
    "model.eval()"
   ]
  },
  {
   "cell_type": "code",
   "execution_count": 77,
   "id": "625370bd",
   "metadata": {
    "execution": {
     "iopub.execute_input": "2022-06-20T19:42:04.740869Z",
     "iopub.status.busy": "2022-06-20T19:42:04.740538Z",
     "iopub.status.idle": "2022-06-20T19:42:04.774853Z",
     "shell.execute_reply": "2022-06-20T19:42:04.773789Z"
    },
    "papermill": {
     "duration": 0.062508,
     "end_time": "2022-06-20T19:42:04.776620",
     "exception": false,
     "start_time": "2022-06-20T19:42:04.714112",
     "status": "completed"
    },
    "tags": []
   },
   "outputs": [
    {
     "name": "stderr",
     "output_type": "stream",
     "text": [
      "/opt/conda/lib/python3.7/site-packages/ipykernel_launcher.py:3: UserWarning: Creating a tensor from a list of numpy.ndarrays is extremely slow. Please consider converting the list to a single numpy.ndarray with numpy.array() before converting to a tensor. (Triggered internally at  /usr/local/src/pytorch/torch/csrc/utils/tensor_new.cpp:207.)\n",
      "  This is separate from the ipykernel package so we can avoid doing imports until\n"
     ]
    }
   ],
   "source": [
    "test_predictions = []\n",
    "for test_feature in X_test_features:\n",
    "    test_feature_tensor = torch.tensor([test_feature], dtype=torch.float32).to(device)\n",
    "    y_pred = model(test_feature_tensor)\n",
    "    y_pred_softmax = torch.log_softmax(y_pred, dim = 1)\n",
    "    _, y_pred_tag = torch.max(y_pred_softmax, dim = 1)    \n",
    "    test_predictions.append(y_pred_tag[0].item())"
   ]
  },
  {
   "cell_type": "code",
   "execution_count": 78,
   "id": "6552c905",
   "metadata": {
    "execution": {
     "iopub.execute_input": "2022-06-20T19:42:04.828334Z",
     "iopub.status.busy": "2022-06-20T19:42:04.828068Z",
     "iopub.status.idle": "2022-06-20T19:42:04.836104Z",
     "shell.execute_reply": "2022-06-20T19:42:04.835427Z"
    },
    "papermill": {
     "duration": 0.0353,
     "end_time": "2022-06-20T19:42:04.837755",
     "exception": false,
     "start_time": "2022-06-20T19:42:04.802455",
     "status": "completed"
    },
    "tags": []
   },
   "outputs": [],
   "source": [
    "submission_df = pd.DataFrame()\n",
    "submission_df['id'] = test_df['id']\n",
    "submission_df['score'] = test_predictions\n",
    "\n",
    "submission_df.to_csv(os.path.join(DATA_OUTPUT_DIR, 'submission.csv'), index=False)"
   ]
  }
 ],
 "metadata": {
  "kernelspec": {
   "display_name": "Python 3",
   "language": "python",
   "name": "python3"
  },
  "language_info": {
   "codemirror_mode": {
    "name": "ipython",
    "version": 3
   },
   "file_extension": ".py",
   "mimetype": "text/x-python",
   "name": "python",
   "nbconvert_exporter": "python",
   "pygments_lexer": "ipython3",
   "version": "3.7.12"
  },
  "papermill": {
   "default_parameters": {},
   "duration": 4331.836099,
   "end_time": "2022-06-20T19:42:07.588897",
   "environment_variables": {},
   "exception": null,
   "input_path": "__notebook__.ipynb",
   "output_path": "__notebook__.ipynb",
   "parameters": {},
   "start_time": "2022-06-20T18:29:55.752798",
   "version": "2.3.4"
  },
  "widgets": {
   "application/vnd.jupyter.widget-state+json": {
    "state": {
     "02076d9f44ea4ffa9bfb4e1aa9087a4f": {
      "model_module": "@jupyter-widgets/controls",
      "model_module_version": "1.5.0",
      "model_name": "HBoxModel",
      "state": {
       "_dom_classes": [],
       "_model_module": "@jupyter-widgets/controls",
       "_model_module_version": "1.5.0",
       "_model_name": "HBoxModel",
       "_view_count": null,
       "_view_module": "@jupyter-widgets/controls",
       "_view_module_version": "1.5.0",
       "_view_name": "HBoxView",
       "box_style": "",
       "children": [
        "IPY_MODEL_4b910f5c575e4547a9636ba7ec8367d4",
        "IPY_MODEL_956ea831f6144eac8840e34500ed4b25",
        "IPY_MODEL_4029ffd756f347108fd141a40b8cb965"
       ],
       "layout": "IPY_MODEL_8aaf453cae6b4d1ba4dab91c25cf1354"
      }
     },
     "03314ae883d94a0ca47ace2e5ae4c019": {
      "model_module": "@jupyter-widgets/base",
      "model_module_version": "1.2.0",
      "model_name": "LayoutModel",
      "state": {
       "_model_module": "@jupyter-widgets/base",
       "_model_module_version": "1.2.0",
       "_model_name": "LayoutModel",
       "_view_count": null,
       "_view_module": "@jupyter-widgets/base",
       "_view_module_version": "1.2.0",
       "_view_name": "LayoutView",
       "align_content": null,
       "align_items": null,
       "align_self": null,
       "border": null,
       "bottom": null,
       "display": null,
       "flex": null,
       "flex_flow": null,
       "grid_area": null,
       "grid_auto_columns": null,
       "grid_auto_flow": null,
       "grid_auto_rows": null,
       "grid_column": null,
       "grid_gap": null,
       "grid_row": null,
       "grid_template_areas": null,
       "grid_template_columns": null,
       "grid_template_rows": null,
       "height": null,
       "justify_content": null,
       "justify_items": null,
       "left": null,
       "margin": null,
       "max_height": null,
       "max_width": null,
       "min_height": null,
       "min_width": null,
       "object_fit": null,
       "object_position": null,
       "order": null,
       "overflow": null,
       "overflow_x": null,
       "overflow_y": null,
       "padding": null,
       "right": null,
       "top": null,
       "visibility": null,
       "width": null
      }
     },
     "04b4088e55824806a90826b1c6b2485b": {
      "model_module": "@jupyter-widgets/controls",
      "model_module_version": "1.5.0",
      "model_name": "HBoxModel",
      "state": {
       "_dom_classes": [],
       "_model_module": "@jupyter-widgets/controls",
       "_model_module_version": "1.5.0",
       "_model_name": "HBoxModel",
       "_view_count": null,
       "_view_module": "@jupyter-widgets/controls",
       "_view_module_version": "1.5.0",
       "_view_name": "HBoxView",
       "box_style": "",
       "children": [
        "IPY_MODEL_e5a6a66c9e784d58bcbf4533b61e2b8c",
        "IPY_MODEL_51c4b920cc16464d90838bd7d956dadf",
        "IPY_MODEL_e226e9bb323f451c965e1aa64d432359"
       ],
       "layout": "IPY_MODEL_2e25e414266145acbc29d0887619a13e"
      }
     },
     "0b18b879fe7447f98ccb1d4de4601720": {
      "model_module": "@jupyter-widgets/controls",
      "model_module_version": "1.5.0",
      "model_name": "HBoxModel",
      "state": {
       "_dom_classes": [],
       "_model_module": "@jupyter-widgets/controls",
       "_model_module_version": "1.5.0",
       "_model_name": "HBoxModel",
       "_view_count": null,
       "_view_module": "@jupyter-widgets/controls",
       "_view_module_version": "1.5.0",
       "_view_name": "HBoxView",
       "box_style": "",
       "children": [
        "IPY_MODEL_9addd01bd63442a8a73da6e796e2a6f1",
        "IPY_MODEL_8c75cb8becb74603a77cdcd8eab01ff7",
        "IPY_MODEL_d291025eec3d4d5eac6ab03d33b4e260"
       ],
       "layout": "IPY_MODEL_677ceaff3bbc4ebe961c03776a43530e"
      }
     },
     "0d230172ebca47cb9cdb26d1a283b29f": {
      "model_module": "@jupyter-widgets/base",
      "model_module_version": "1.2.0",
      "model_name": "LayoutModel",
      "state": {
       "_model_module": "@jupyter-widgets/base",
       "_model_module_version": "1.2.0",
       "_model_name": "LayoutModel",
       "_view_count": null,
       "_view_module": "@jupyter-widgets/base",
       "_view_module_version": "1.2.0",
       "_view_name": "LayoutView",
       "align_content": null,
       "align_items": null,
       "align_self": null,
       "border": null,
       "bottom": null,
       "display": null,
       "flex": null,
       "flex_flow": null,
       "grid_area": null,
       "grid_auto_columns": null,
       "grid_auto_flow": null,
       "grid_auto_rows": null,
       "grid_column": null,
       "grid_gap": null,
       "grid_row": null,
       "grid_template_areas": null,
       "grid_template_columns": null,
       "grid_template_rows": null,
       "height": null,
       "justify_content": null,
       "justify_items": null,
       "left": null,
       "margin": null,
       "max_height": null,
       "max_width": null,
       "min_height": null,
       "min_width": null,
       "object_fit": null,
       "object_position": null,
       "order": null,
       "overflow": null,
       "overflow_x": null,
       "overflow_y": null,
       "padding": null,
       "right": null,
       "top": null,
       "visibility": null,
       "width": null
      }
     },
     "0dcaf8165a394b2095814b705ebe2d76": {
      "model_module": "@jupyter-widgets/controls",
      "model_module_version": "1.5.0",
      "model_name": "FloatProgressModel",
      "state": {
       "_dom_classes": [],
       "_model_module": "@jupyter-widgets/controls",
       "_model_module_version": "1.5.0",
       "_model_name": "FloatProgressModel",
       "_view_count": null,
       "_view_module": "@jupyter-widgets/controls",
       "_view_module_version": "1.5.0",
       "_view_name": "ProgressView",
       "bar_style": "success",
       "description": "",
       "description_tooltip": null,
       "layout": "IPY_MODEL_a9a08db5dc02424da083edcbb666807c",
       "max": 912.0,
       "min": 0.0,
       "orientation": "horizontal",
       "style": "IPY_MODEL_e8a034d161b4495d8270723ebf66a88e",
       "value": 912.0
      }
     },
     "0eaa4180f64249e18bf83025156934dc": {
      "model_module": "@jupyter-widgets/controls",
      "model_module_version": "1.5.0",
      "model_name": "DescriptionStyleModel",
      "state": {
       "_model_module": "@jupyter-widgets/controls",
       "_model_module_version": "1.5.0",
       "_model_name": "DescriptionStyleModel",
       "_view_count": null,
       "_view_module": "@jupyter-widgets/base",
       "_view_module_version": "1.2.0",
       "_view_name": "StyleView",
       "description_width": ""
      }
     },
     "12a0fbeb80e24462a3966b1558d5a074": {
      "model_module": "@jupyter-widgets/base",
      "model_module_version": "1.2.0",
      "model_name": "LayoutModel",
      "state": {
       "_model_module": "@jupyter-widgets/base",
       "_model_module_version": "1.2.0",
       "_model_name": "LayoutModel",
       "_view_count": null,
       "_view_module": "@jupyter-widgets/base",
       "_view_module_version": "1.2.0",
       "_view_name": "LayoutView",
       "align_content": null,
       "align_items": null,
       "align_self": null,
       "border": null,
       "bottom": null,
       "display": null,
       "flex": null,
       "flex_flow": null,
       "grid_area": null,
       "grid_auto_columns": null,
       "grid_auto_flow": null,
       "grid_auto_rows": null,
       "grid_column": null,
       "grid_gap": null,
       "grid_row": null,
       "grid_template_areas": null,
       "grid_template_columns": null,
       "grid_template_rows": null,
       "height": null,
       "justify_content": null,
       "justify_items": null,
       "left": null,
       "margin": null,
       "max_height": null,
       "max_width": null,
       "min_height": null,
       "min_width": null,
       "object_fit": null,
       "object_position": null,
       "order": null,
       "overflow": null,
       "overflow_x": null,
       "overflow_y": null,
       "padding": null,
       "right": null,
       "top": null,
       "visibility": null,
       "width": null
      }
     },
     "18a3ed31d47c485bb2a2a23a15314d01": {
      "model_module": "@jupyter-widgets/controls",
      "model_module_version": "1.5.0",
      "model_name": "HTMLModel",
      "state": {
       "_dom_classes": [],
       "_model_module": "@jupyter-widgets/controls",
       "_model_module_version": "1.5.0",
       "_model_name": "HTMLModel",
       "_view_count": null,
       "_view_module": "@jupyter-widgets/controls",
       "_view_module_version": "1.5.0",
       "_view_name": "HTMLView",
       "description": "",
       "description_tooltip": null,
       "layout": "IPY_MODEL_e6b36769624d49c386a720e7992eb7db",
       "placeholder": "​",
       "style": "IPY_MODEL_8b6bec27c7874b1ca32f726310804cce",
       "value": " 2/2 [00:00&lt;00:00, 24.29it/s]"
      }
     },
     "215f32532d894bf3aad6dab2e128ce89": {
      "model_module": "@jupyter-widgets/base",
      "model_module_version": "1.2.0",
      "model_name": "LayoutModel",
      "state": {
       "_model_module": "@jupyter-widgets/base",
       "_model_module_version": "1.2.0",
       "_model_name": "LayoutModel",
       "_view_count": null,
       "_view_module": "@jupyter-widgets/base",
       "_view_module_version": "1.2.0",
       "_view_name": "LayoutView",
       "align_content": null,
       "align_items": null,
       "align_self": null,
       "border": null,
       "bottom": null,
       "display": null,
       "flex": null,
       "flex_flow": null,
       "grid_area": null,
       "grid_auto_columns": null,
       "grid_auto_flow": null,
       "grid_auto_rows": null,
       "grid_column": null,
       "grid_gap": null,
       "grid_row": null,
       "grid_template_areas": null,
       "grid_template_columns": null,
       "grid_template_rows": null,
       "height": null,
       "justify_content": null,
       "justify_items": null,
       "left": null,
       "margin": null,
       "max_height": null,
       "max_width": null,
       "min_height": null,
       "min_width": null,
       "object_fit": null,
       "object_position": null,
       "order": null,
       "overflow": null,
       "overflow_x": null,
       "overflow_y": null,
       "padding": null,
       "right": null,
       "top": null,
       "visibility": null,
       "width": null
      }
     },
     "25e6fab888ec4394aee6c54742d4c4b0": {
      "model_module": "@jupyter-widgets/controls",
      "model_module_version": "1.5.0",
      "model_name": "HTMLModel",
      "state": {
       "_dom_classes": [],
       "_model_module": "@jupyter-widgets/controls",
       "_model_module_version": "1.5.0",
       "_model_name": "HTMLModel",
       "_view_count": null,
       "_view_module": "@jupyter-widgets/controls",
       "_view_module_version": "1.5.0",
       "_view_name": "HTMLView",
       "description": "",
       "description_tooltip": null,
       "layout": "IPY_MODEL_93ee77d01a6a41218b7e09db8fa6a7ee",
       "placeholder": "​",
       "style": "IPY_MODEL_ee01c09609014f98a2ad607a9e5459ad",
       "value": " 912/912 [00:12&lt;00:00, 119.36it/s]"
      }
     },
     "29d7326ca77d4badb4a8933d6f341bb8": {
      "model_module": "@jupyter-widgets/base",
      "model_module_version": "1.2.0",
      "model_name": "LayoutModel",
      "state": {
       "_model_module": "@jupyter-widgets/base",
       "_model_module_version": "1.2.0",
       "_model_name": "LayoutModel",
       "_view_count": null,
       "_view_module": "@jupyter-widgets/base",
       "_view_module_version": "1.2.0",
       "_view_name": "LayoutView",
       "align_content": null,
       "align_items": null,
       "align_self": null,
       "border": null,
       "bottom": null,
       "display": null,
       "flex": null,
       "flex_flow": null,
       "grid_area": null,
       "grid_auto_columns": null,
       "grid_auto_flow": null,
       "grid_auto_rows": null,
       "grid_column": null,
       "grid_gap": null,
       "grid_row": null,
       "grid_template_areas": null,
       "grid_template_columns": null,
       "grid_template_rows": null,
       "height": null,
       "justify_content": null,
       "justify_items": null,
       "left": null,
       "margin": null,
       "max_height": null,
       "max_width": null,
       "min_height": null,
       "min_width": null,
       "object_fit": null,
       "object_position": null,
       "order": null,
       "overflow": null,
       "overflow_x": null,
       "overflow_y": null,
       "padding": null,
       "right": null,
       "top": null,
       "visibility": null,
       "width": null
      }
     },
     "2b0cff7790224d3895b113e59f6a07d1": {
      "model_module": "@jupyter-widgets/controls",
      "model_module_version": "1.5.0",
      "model_name": "ProgressStyleModel",
      "state": {
       "_model_module": "@jupyter-widgets/controls",
       "_model_module_version": "1.5.0",
       "_model_name": "ProgressStyleModel",
       "_view_count": null,
       "_view_module": "@jupyter-widgets/base",
       "_view_module_version": "1.2.0",
       "_view_name": "StyleView",
       "bar_color": null,
       "description_width": ""
      }
     },
     "2c60fd55062744b4ba091d8c6507d309": {
      "model_module": "@jupyter-widgets/base",
      "model_module_version": "1.2.0",
      "model_name": "LayoutModel",
      "state": {
       "_model_module": "@jupyter-widgets/base",
       "_model_module_version": "1.2.0",
       "_model_name": "LayoutModel",
       "_view_count": null,
       "_view_module": "@jupyter-widgets/base",
       "_view_module_version": "1.2.0",
       "_view_name": "LayoutView",
       "align_content": null,
       "align_items": null,
       "align_self": null,
       "border": null,
       "bottom": null,
       "display": null,
       "flex": null,
       "flex_flow": null,
       "grid_area": null,
       "grid_auto_columns": null,
       "grid_auto_flow": null,
       "grid_auto_rows": null,
       "grid_column": null,
       "grid_gap": null,
       "grid_row": null,
       "grid_template_areas": null,
       "grid_template_columns": null,
       "grid_template_rows": null,
       "height": null,
       "justify_content": null,
       "justify_items": null,
       "left": null,
       "margin": null,
       "max_height": null,
       "max_width": null,
       "min_height": null,
       "min_width": null,
       "object_fit": null,
       "object_position": null,
       "order": null,
       "overflow": null,
       "overflow_x": null,
       "overflow_y": null,
       "padding": null,
       "right": null,
       "top": null,
       "visibility": null,
       "width": null
      }
     },
     "2cc5dc05a59d41f3a902c4e8260bbd1f": {
      "model_module": "@jupyter-widgets/controls",
      "model_module_version": "1.5.0",
      "model_name": "HBoxModel",
      "state": {
       "_dom_classes": [],
       "_model_module": "@jupyter-widgets/controls",
       "_model_module_version": "1.5.0",
       "_model_name": "HBoxModel",
       "_view_count": null,
       "_view_module": "@jupyter-widgets/controls",
       "_view_module_version": "1.5.0",
       "_view_name": "HBoxView",
       "box_style": "",
       "children": [
        "IPY_MODEL_ba610f8dcda4496eb02ff7b6907d53fc",
        "IPY_MODEL_4a14d270e0ac4dabb0e0739fd46b397f",
        "IPY_MODEL_25e6fab888ec4394aee6c54742d4c4b0"
       ],
       "layout": "IPY_MODEL_9ce055fe192a4c87869c30cd3c774209"
      }
     },
     "2e25e414266145acbc29d0887619a13e": {
      "model_module": "@jupyter-widgets/base",
      "model_module_version": "1.2.0",
      "model_name": "LayoutModel",
      "state": {
       "_model_module": "@jupyter-widgets/base",
       "_model_module_version": "1.2.0",
       "_model_name": "LayoutModel",
       "_view_count": null,
       "_view_module": "@jupyter-widgets/base",
       "_view_module_version": "1.2.0",
       "_view_name": "LayoutView",
       "align_content": null,
       "align_items": null,
       "align_self": null,
       "border": null,
       "bottom": null,
       "display": null,
       "flex": null,
       "flex_flow": null,
       "grid_area": null,
       "grid_auto_columns": null,
       "grid_auto_flow": null,
       "grid_auto_rows": null,
       "grid_column": null,
       "grid_gap": null,
       "grid_row": null,
       "grid_template_areas": null,
       "grid_template_columns": null,
       "grid_template_rows": null,
       "height": null,
       "justify_content": null,
       "justify_items": null,
       "left": null,
       "margin": null,
       "max_height": null,
       "max_width": null,
       "min_height": null,
       "min_width": null,
       "object_fit": null,
       "object_position": null,
       "order": null,
       "overflow": null,
       "overflow_x": null,
       "overflow_y": null,
       "padding": null,
       "right": null,
       "top": null,
       "visibility": null,
       "width": null
      }
     },
     "316ed739e5f84c66a08dd797b5d8a274": {
      "model_module": "@jupyter-widgets/controls",
      "model_module_version": "1.5.0",
      "model_name": "FloatProgressModel",
      "state": {
       "_dom_classes": [],
       "_model_module": "@jupyter-widgets/controls",
       "_model_module_version": "1.5.0",
       "_model_name": "FloatProgressModel",
       "_view_count": null,
       "_view_module": "@jupyter-widgets/controls",
       "_view_module_version": "1.5.0",
       "_view_name": "ProgressView",
       "bar_style": "success",
       "description": "",
       "description_tooltip": null,
       "layout": "IPY_MODEL_98c8867a1a6a4a0f9de9d50d4698f61c",
       "max": 2.0,
       "min": 0.0,
       "orientation": "horizontal",
       "style": "IPY_MODEL_43a4328901b74e56894841dcae915572",
       "value": 2.0
      }
     },
     "33b909c5e8844942938ca54a1187b15e": {
      "model_module": "@jupyter-widgets/controls",
      "model_module_version": "1.5.0",
      "model_name": "HBoxModel",
      "state": {
       "_dom_classes": [],
       "_model_module": "@jupyter-widgets/controls",
       "_model_module_version": "1.5.0",
       "_model_name": "HBoxModel",
       "_view_count": null,
       "_view_module": "@jupyter-widgets/controls",
       "_view_module_version": "1.5.0",
       "_view_name": "HBoxView",
       "box_style": "",
       "children": [
        "IPY_MODEL_b2b8ddd1942440bb8774dd3fb107636c",
        "IPY_MODEL_b2ddbcd88fd948388c9b8d5bbacc598b",
        "IPY_MODEL_18a3ed31d47c485bb2a2a23a15314d01"
       ],
       "layout": "IPY_MODEL_3c98f3eb34f24410983d0325ae4db9ce"
      }
     },
     "34bed55189e54afd807202f3bf0098e7": {
      "model_module": "@jupyter-widgets/controls",
      "model_module_version": "1.5.0",
      "model_name": "DescriptionStyleModel",
      "state": {
       "_model_module": "@jupyter-widgets/controls",
       "_model_module_version": "1.5.0",
       "_model_name": "DescriptionStyleModel",
       "_view_count": null,
       "_view_module": "@jupyter-widgets/base",
       "_view_module_version": "1.2.0",
       "_view_name": "StyleView",
       "description_width": ""
      }
     },
     "3593b6d6c2384d7cb4ea6470157b6107": {
      "model_module": "@jupyter-widgets/controls",
      "model_module_version": "1.5.0",
      "model_name": "DescriptionStyleModel",
      "state": {
       "_model_module": "@jupyter-widgets/controls",
       "_model_module_version": "1.5.0",
       "_model_name": "DescriptionStyleModel",
       "_view_count": null,
       "_view_module": "@jupyter-widgets/base",
       "_view_module_version": "1.2.0",
       "_view_name": "StyleView",
       "description_width": ""
      }
     },
     "363c09a7c1144b6db81302cb19344a74": {
      "model_module": "@jupyter-widgets/base",
      "model_module_version": "1.2.0",
      "model_name": "LayoutModel",
      "state": {
       "_model_module": "@jupyter-widgets/base",
       "_model_module_version": "1.2.0",
       "_model_name": "LayoutModel",
       "_view_count": null,
       "_view_module": "@jupyter-widgets/base",
       "_view_module_version": "1.2.0",
       "_view_name": "LayoutView",
       "align_content": null,
       "align_items": null,
       "align_self": null,
       "border": null,
       "bottom": null,
       "display": null,
       "flex": null,
       "flex_flow": null,
       "grid_area": null,
       "grid_auto_columns": null,
       "grid_auto_flow": null,
       "grid_auto_rows": null,
       "grid_column": null,
       "grid_gap": null,
       "grid_row": null,
       "grid_template_areas": null,
       "grid_template_columns": null,
       "grid_template_rows": null,
       "height": null,
       "justify_content": null,
       "justify_items": null,
       "left": null,
       "margin": null,
       "max_height": null,
       "max_width": null,
       "min_height": null,
       "min_width": null,
       "object_fit": null,
       "object_position": null,
       "order": null,
       "overflow": null,
       "overflow_x": null,
       "overflow_y": null,
       "padding": null,
       "right": null,
       "top": null,
       "visibility": null,
       "width": null
      }
     },
     "369def0bb24d457db293a67b3de6d755": {
      "model_module": "@jupyter-widgets/controls",
      "model_module_version": "1.5.0",
      "model_name": "DescriptionStyleModel",
      "state": {
       "_model_module": "@jupyter-widgets/controls",
       "_model_module_version": "1.5.0",
       "_model_name": "DescriptionStyleModel",
       "_view_count": null,
       "_view_module": "@jupyter-widgets/base",
       "_view_module_version": "1.2.0",
       "_view_name": "StyleView",
       "description_width": ""
      }
     },
     "3c98f3eb34f24410983d0325ae4db9ce": {
      "model_module": "@jupyter-widgets/base",
      "model_module_version": "1.2.0",
      "model_name": "LayoutModel",
      "state": {
       "_model_module": "@jupyter-widgets/base",
       "_model_module_version": "1.2.0",
       "_model_name": "LayoutModel",
       "_view_count": null,
       "_view_module": "@jupyter-widgets/base",
       "_view_module_version": "1.2.0",
       "_view_name": "LayoutView",
       "align_content": null,
       "align_items": null,
       "align_self": null,
       "border": null,
       "bottom": null,
       "display": null,
       "flex": null,
       "flex_flow": null,
       "grid_area": null,
       "grid_auto_columns": null,
       "grid_auto_flow": null,
       "grid_auto_rows": null,
       "grid_column": null,
       "grid_gap": null,
       "grid_row": null,
       "grid_template_areas": null,
       "grid_template_columns": null,
       "grid_template_rows": null,
       "height": null,
       "justify_content": null,
       "justify_items": null,
       "left": null,
       "margin": null,
       "max_height": null,
       "max_width": null,
       "min_height": null,
       "min_width": null,
       "object_fit": null,
       "object_position": null,
       "order": null,
       "overflow": null,
       "overflow_x": null,
       "overflow_y": null,
       "padding": null,
       "right": null,
       "top": null,
       "visibility": null,
       "width": null
      }
     },
     "3e9e3ada7a7d413c9fcd483f52f3c909": {
      "model_module": "@jupyter-widgets/controls",
      "model_module_version": "1.5.0",
      "model_name": "HBoxModel",
      "state": {
       "_dom_classes": [],
       "_model_module": "@jupyter-widgets/controls",
       "_model_module_version": "1.5.0",
       "_model_name": "HBoxModel",
       "_view_count": null,
       "_view_module": "@jupyter-widgets/controls",
       "_view_module_version": "1.5.0",
       "_view_name": "HBoxView",
       "box_style": "",
       "children": [
        "IPY_MODEL_43c5be6739c4401093b53a52c6ff1be8",
        "IPY_MODEL_0dcaf8165a394b2095814b705ebe2d76",
        "IPY_MODEL_7894866d3a784afab6bf6191fa76a419"
       ],
       "layout": "IPY_MODEL_fd577dd145a34602bd1fb1c10ea5878a"
      }
     },
     "4029ffd756f347108fd141a40b8cb965": {
      "model_module": "@jupyter-widgets/controls",
      "model_module_version": "1.5.0",
      "model_name": "HTMLModel",
      "state": {
       "_dom_classes": [],
       "_model_module": "@jupyter-widgets/controls",
       "_model_module_version": "1.5.0",
       "_model_name": "HTMLModel",
       "_view_count": null,
       "_view_module": "@jupyter-widgets/controls",
       "_view_module_version": "1.5.0",
       "_view_name": "HTMLView",
       "description": "",
       "description_tooltip": null,
       "layout": "IPY_MODEL_9f9579b5ff8e44b99332601471d39832",
       "placeholder": "​",
       "style": "IPY_MODEL_a0e9684be168403e987a908eec7a3480",
       "value": " 2/2 [00:00&lt;00:00, 22.30it/s]"
      }
     },
     "432d85f959e9409d9e37e7bf8cc0fe25": {
      "model_module": "@jupyter-widgets/controls",
      "model_module_version": "1.5.0",
      "model_name": "DescriptionStyleModel",
      "state": {
       "_model_module": "@jupyter-widgets/controls",
       "_model_module_version": "1.5.0",
       "_model_name": "DescriptionStyleModel",
       "_view_count": null,
       "_view_module": "@jupyter-widgets/base",
       "_view_module_version": "1.2.0",
       "_view_name": "StyleView",
       "description_width": ""
      }
     },
     "434149fc2ef34c32a0bcb8cefaa0998f": {
      "model_module": "@jupyter-widgets/base",
      "model_module_version": "1.2.0",
      "model_name": "LayoutModel",
      "state": {
       "_model_module": "@jupyter-widgets/base",
       "_model_module_version": "1.2.0",
       "_model_name": "LayoutModel",
       "_view_count": null,
       "_view_module": "@jupyter-widgets/base",
       "_view_module_version": "1.2.0",
       "_view_name": "LayoutView",
       "align_content": null,
       "align_items": null,
       "align_self": null,
       "border": null,
       "bottom": null,
       "display": null,
       "flex": null,
       "flex_flow": null,
       "grid_area": null,
       "grid_auto_columns": null,
       "grid_auto_flow": null,
       "grid_auto_rows": null,
       "grid_column": null,
       "grid_gap": null,
       "grid_row": null,
       "grid_template_areas": null,
       "grid_template_columns": null,
       "grid_template_rows": null,
       "height": null,
       "justify_content": null,
       "justify_items": null,
       "left": null,
       "margin": null,
       "max_height": null,
       "max_width": null,
       "min_height": null,
       "min_width": null,
       "object_fit": null,
       "object_position": null,
       "order": null,
       "overflow": null,
       "overflow_x": null,
       "overflow_y": null,
       "padding": null,
       "right": null,
       "top": null,
       "visibility": null,
       "width": null
      }
     },
     "438637f2685845a792defe30622fcc79": {
      "model_module": "@jupyter-widgets/controls",
      "model_module_version": "1.5.0",
      "model_name": "ProgressStyleModel",
      "state": {
       "_model_module": "@jupyter-widgets/controls",
       "_model_module_version": "1.5.0",
       "_model_name": "ProgressStyleModel",
       "_view_count": null,
       "_view_module": "@jupyter-widgets/base",
       "_view_module_version": "1.2.0",
       "_view_name": "StyleView",
       "bar_color": null,
       "description_width": ""
      }
     },
     "43a4328901b74e56894841dcae915572": {
      "model_module": "@jupyter-widgets/controls",
      "model_module_version": "1.5.0",
      "model_name": "ProgressStyleModel",
      "state": {
       "_model_module": "@jupyter-widgets/controls",
       "_model_module_version": "1.5.0",
       "_model_name": "ProgressStyleModel",
       "_view_count": null,
       "_view_module": "@jupyter-widgets/base",
       "_view_module_version": "1.2.0",
       "_view_name": "StyleView",
       "bar_color": null,
       "description_width": ""
      }
     },
     "43c5be6739c4401093b53a52c6ff1be8": {
      "model_module": "@jupyter-widgets/controls",
      "model_module_version": "1.5.0",
      "model_name": "HTMLModel",
      "state": {
       "_dom_classes": [],
       "_model_module": "@jupyter-widgets/controls",
       "_model_module_version": "1.5.0",
       "_model_name": "HTMLModel",
       "_view_count": null,
       "_view_module": "@jupyter-widgets/controls",
       "_view_module_version": "1.5.0",
       "_view_name": "HTMLView",
       "description": "",
       "description_tooltip": null,
       "layout": "IPY_MODEL_215f32532d894bf3aad6dab2e128ce89",
       "placeholder": "​",
       "style": "IPY_MODEL_369def0bb24d457db293a67b3de6d755",
       "value": "Batches: 100%"
      }
     },
     "4a14d270e0ac4dabb0e0739fd46b397f": {
      "model_module": "@jupyter-widgets/controls",
      "model_module_version": "1.5.0",
      "model_name": "FloatProgressModel",
      "state": {
       "_dom_classes": [],
       "_model_module": "@jupyter-widgets/controls",
       "_model_module_version": "1.5.0",
       "_model_name": "FloatProgressModel",
       "_view_count": null,
       "_view_module": "@jupyter-widgets/controls",
       "_view_module_version": "1.5.0",
       "_view_name": "ProgressView",
       "bar_style": "success",
       "description": "",
       "description_tooltip": null,
       "layout": "IPY_MODEL_53fe751d567546168486b44b62f947e5",
       "max": 912.0,
       "min": 0.0,
       "orientation": "horizontal",
       "style": "IPY_MODEL_438637f2685845a792defe30622fcc79",
       "value": 912.0
      }
     },
     "4b910f5c575e4547a9636ba7ec8367d4": {
      "model_module": "@jupyter-widgets/controls",
      "model_module_version": "1.5.0",
      "model_name": "HTMLModel",
      "state": {
       "_dom_classes": [],
       "_model_module": "@jupyter-widgets/controls",
       "_model_module_version": "1.5.0",
       "_model_name": "HTMLModel",
       "_view_count": null,
       "_view_module": "@jupyter-widgets/controls",
       "_view_module_version": "1.5.0",
       "_view_name": "HTMLView",
       "description": "",
       "description_tooltip": null,
       "layout": "IPY_MODEL_f811a7f8c883429e933a0c5bea5afaec",
       "placeholder": "​",
       "style": "IPY_MODEL_6e2f3be1bd19423ea0ff7d0e84dcc9aa",
       "value": "Batches: 100%"
      }
     },
     "5106e975e85d43b7a78d7a214c67f4f4": {
      "model_module": "@jupyter-widgets/controls",
      "model_module_version": "1.5.0",
      "model_name": "ProgressStyleModel",
      "state": {
       "_model_module": "@jupyter-widgets/controls",
       "_model_module_version": "1.5.0",
       "_model_name": "ProgressStyleModel",
       "_view_count": null,
       "_view_module": "@jupyter-widgets/base",
       "_view_module_version": "1.2.0",
       "_view_name": "StyleView",
       "bar_color": null,
       "description_width": ""
      }
     },
     "51c4b920cc16464d90838bd7d956dadf": {
      "model_module": "@jupyter-widgets/controls",
      "model_module_version": "1.5.0",
      "model_name": "FloatProgressModel",
      "state": {
       "_dom_classes": [],
       "_model_module": "@jupyter-widgets/controls",
       "_model_module_version": "1.5.0",
       "_model_name": "FloatProgressModel",
       "_view_count": null,
       "_view_module": "@jupyter-widgets/controls",
       "_view_module_version": "1.5.0",
       "_view_name": "ProgressView",
       "bar_style": "success",
       "description": "",
       "description_tooltip": null,
       "layout": "IPY_MODEL_ca2c615fcbd244aa90924f58283dbc52",
       "max": 228.0,
       "min": 0.0,
       "orientation": "horizontal",
       "style": "IPY_MODEL_b17690c8b4b2486cbf1c5b1f5dd86485",
       "value": 228.0
      }
     },
     "53fe751d567546168486b44b62f947e5": {
      "model_module": "@jupyter-widgets/base",
      "model_module_version": "1.2.0",
      "model_name": "LayoutModel",
      "state": {
       "_model_module": "@jupyter-widgets/base",
       "_model_module_version": "1.2.0",
       "_model_name": "LayoutModel",
       "_view_count": null,
       "_view_module": "@jupyter-widgets/base",
       "_view_module_version": "1.2.0",
       "_view_name": "LayoutView",
       "align_content": null,
       "align_items": null,
       "align_self": null,
       "border": null,
       "bottom": null,
       "display": null,
       "flex": null,
       "flex_flow": null,
       "grid_area": null,
       "grid_auto_columns": null,
       "grid_auto_flow": null,
       "grid_auto_rows": null,
       "grid_column": null,
       "grid_gap": null,
       "grid_row": null,
       "grid_template_areas": null,
       "grid_template_columns": null,
       "grid_template_rows": null,
       "height": null,
       "justify_content": null,
       "justify_items": null,
       "left": null,
       "margin": null,
       "max_height": null,
       "max_width": null,
       "min_height": null,
       "min_width": null,
       "object_fit": null,
       "object_position": null,
       "order": null,
       "overflow": null,
       "overflow_x": null,
       "overflow_y": null,
       "padding": null,
       "right": null,
       "top": null,
       "visibility": null,
       "width": null
      }
     },
     "585584fc6168483c8efae9316c60ffde": {
      "model_module": "@jupyter-widgets/base",
      "model_module_version": "1.2.0",
      "model_name": "LayoutModel",
      "state": {
       "_model_module": "@jupyter-widgets/base",
       "_model_module_version": "1.2.0",
       "_model_name": "LayoutModel",
       "_view_count": null,
       "_view_module": "@jupyter-widgets/base",
       "_view_module_version": "1.2.0",
       "_view_name": "LayoutView",
       "align_content": null,
       "align_items": null,
       "align_self": null,
       "border": null,
       "bottom": null,
       "display": null,
       "flex": null,
       "flex_flow": null,
       "grid_area": null,
       "grid_auto_columns": null,
       "grid_auto_flow": null,
       "grid_auto_rows": null,
       "grid_column": null,
       "grid_gap": null,
       "grid_row": null,
       "grid_template_areas": null,
       "grid_template_columns": null,
       "grid_template_rows": null,
       "height": null,
       "justify_content": null,
       "justify_items": null,
       "left": null,
       "margin": null,
       "max_height": null,
       "max_width": null,
       "min_height": null,
       "min_width": null,
       "object_fit": null,
       "object_position": null,
       "order": null,
       "overflow": null,
       "overflow_x": null,
       "overflow_y": null,
       "padding": null,
       "right": null,
       "top": null,
       "visibility": null,
       "width": null
      }
     },
     "59a2df9084df4422b0adb8391da1406b": {
      "model_module": "@jupyter-widgets/base",
      "model_module_version": "1.2.0",
      "model_name": "LayoutModel",
      "state": {
       "_model_module": "@jupyter-widgets/base",
       "_model_module_version": "1.2.0",
       "_model_name": "LayoutModel",
       "_view_count": null,
       "_view_module": "@jupyter-widgets/base",
       "_view_module_version": "1.2.0",
       "_view_name": "LayoutView",
       "align_content": null,
       "align_items": null,
       "align_self": null,
       "border": null,
       "bottom": null,
       "display": null,
       "flex": null,
       "flex_flow": null,
       "grid_area": null,
       "grid_auto_columns": null,
       "grid_auto_flow": null,
       "grid_auto_rows": null,
       "grid_column": null,
       "grid_gap": null,
       "grid_row": null,
       "grid_template_areas": null,
       "grid_template_columns": null,
       "grid_template_rows": null,
       "height": null,
       "justify_content": null,
       "justify_items": null,
       "left": null,
       "margin": null,
       "max_height": null,
       "max_width": null,
       "min_height": null,
       "min_width": null,
       "object_fit": null,
       "object_position": null,
       "order": null,
       "overflow": null,
       "overflow_x": null,
       "overflow_y": null,
       "padding": null,
       "right": null,
       "top": null,
       "visibility": null,
       "width": null
      }
     },
     "5a655bf8edf74c899d129ef72692db02": {
      "model_module": "@jupyter-widgets/controls",
      "model_module_version": "1.5.0",
      "model_name": "ProgressStyleModel",
      "state": {
       "_model_module": "@jupyter-widgets/controls",
       "_model_module_version": "1.5.0",
       "_model_name": "ProgressStyleModel",
       "_view_count": null,
       "_view_module": "@jupyter-widgets/base",
       "_view_module_version": "1.2.0",
       "_view_name": "StyleView",
       "bar_color": null,
       "description_width": ""
      }
     },
     "5d719cc311294675a441e6e277fe899f": {
      "model_module": "@jupyter-widgets/base",
      "model_module_version": "1.2.0",
      "model_name": "LayoutModel",
      "state": {
       "_model_module": "@jupyter-widgets/base",
       "_model_module_version": "1.2.0",
       "_model_name": "LayoutModel",
       "_view_count": null,
       "_view_module": "@jupyter-widgets/base",
       "_view_module_version": "1.2.0",
       "_view_name": "LayoutView",
       "align_content": null,
       "align_items": null,
       "align_self": null,
       "border": null,
       "bottom": null,
       "display": null,
       "flex": null,
       "flex_flow": null,
       "grid_area": null,
       "grid_auto_columns": null,
       "grid_auto_flow": null,
       "grid_auto_rows": null,
       "grid_column": null,
       "grid_gap": null,
       "grid_row": null,
       "grid_template_areas": null,
       "grid_template_columns": null,
       "grid_template_rows": null,
       "height": null,
       "justify_content": null,
       "justify_items": null,
       "left": null,
       "margin": null,
       "max_height": null,
       "max_width": null,
       "min_height": null,
       "min_width": null,
       "object_fit": null,
       "object_position": null,
       "order": null,
       "overflow": null,
       "overflow_x": null,
       "overflow_y": null,
       "padding": null,
       "right": null,
       "top": null,
       "visibility": null,
       "width": null
      }
     },
     "5f9a7aa949d543b58f348cfb4617469d": {
      "model_module": "@jupyter-widgets/controls",
      "model_module_version": "1.5.0",
      "model_name": "HTMLModel",
      "state": {
       "_dom_classes": [],
       "_model_module": "@jupyter-widgets/controls",
       "_model_module_version": "1.5.0",
       "_model_name": "HTMLModel",
       "_view_count": null,
       "_view_module": "@jupyter-widgets/controls",
       "_view_module_version": "1.5.0",
       "_view_name": "HTMLView",
       "description": "",
       "description_tooltip": null,
       "layout": "IPY_MODEL_29d7326ca77d4badb4a8933d6f341bb8",
       "placeholder": "​",
       "style": "IPY_MODEL_432d85f959e9409d9e37e7bf8cc0fe25",
       "value": " 912/912 [00:10&lt;00:00, 114.68it/s]"
      }
     },
     "6385833902f54af18283e42cd07b53d7": {
      "model_module": "@jupyter-widgets/controls",
      "model_module_version": "1.5.0",
      "model_name": "FloatProgressModel",
      "state": {
       "_dom_classes": [],
       "_model_module": "@jupyter-widgets/controls",
       "_model_module_version": "1.5.0",
       "_model_name": "FloatProgressModel",
       "_view_count": null,
       "_view_module": "@jupyter-widgets/controls",
       "_view_module_version": "1.5.0",
       "_view_name": "ProgressView",
       "bar_style": "success",
       "description": "",
       "description_tooltip": null,
       "layout": "IPY_MODEL_d586623326f546cba646edbd0320567c",
       "max": 228.0,
       "min": 0.0,
       "orientation": "horizontal",
       "style": "IPY_MODEL_87a4cb11624346878e86d0b3881b6bac",
       "value": 228.0
      }
     },
     "665681c81b114a3da9b43c81b4b1926c": {
      "model_module": "@jupyter-widgets/controls",
      "model_module_version": "1.5.0",
      "model_name": "FloatProgressModel",
      "state": {
       "_dom_classes": [],
       "_model_module": "@jupyter-widgets/controls",
       "_model_module_version": "1.5.0",
       "_model_name": "FloatProgressModel",
       "_view_count": null,
       "_view_module": "@jupyter-widgets/controls",
       "_view_module_version": "1.5.0",
       "_view_name": "ProgressView",
       "bar_style": "success",
       "description": "",
       "description_tooltip": null,
       "layout": "IPY_MODEL_bf9a3c06ce894935835ce0b664933532",
       "max": 912.0,
       "min": 0.0,
       "orientation": "horizontal",
       "style": "IPY_MODEL_5106e975e85d43b7a78d7a214c67f4f4",
       "value": 912.0
      }
     },
     "67199f10029c4ed39c5e2b40e03a2bd8": {
      "model_module": "@jupyter-widgets/controls",
      "model_module_version": "1.5.0",
      "model_name": "DescriptionStyleModel",
      "state": {
       "_model_module": "@jupyter-widgets/controls",
       "_model_module_version": "1.5.0",
       "_model_name": "DescriptionStyleModel",
       "_view_count": null,
       "_view_module": "@jupyter-widgets/base",
       "_view_module_version": "1.2.0",
       "_view_name": "StyleView",
       "description_width": ""
      }
     },
     "677ceaff3bbc4ebe961c03776a43530e": {
      "model_module": "@jupyter-widgets/base",
      "model_module_version": "1.2.0",
      "model_name": "LayoutModel",
      "state": {
       "_model_module": "@jupyter-widgets/base",
       "_model_module_version": "1.2.0",
       "_model_name": "LayoutModel",
       "_view_count": null,
       "_view_module": "@jupyter-widgets/base",
       "_view_module_version": "1.2.0",
       "_view_name": "LayoutView",
       "align_content": null,
       "align_items": null,
       "align_self": null,
       "border": null,
       "bottom": null,
       "display": null,
       "flex": null,
       "flex_flow": null,
       "grid_area": null,
       "grid_auto_columns": null,
       "grid_auto_flow": null,
       "grid_auto_rows": null,
       "grid_column": null,
       "grid_gap": null,
       "grid_row": null,
       "grid_template_areas": null,
       "grid_template_columns": null,
       "grid_template_rows": null,
       "height": null,
       "justify_content": null,
       "justify_items": null,
       "left": null,
       "margin": null,
       "max_height": null,
       "max_width": null,
       "min_height": null,
       "min_width": null,
       "object_fit": null,
       "object_position": null,
       "order": null,
       "overflow": null,
       "overflow_x": null,
       "overflow_y": null,
       "padding": null,
       "right": null,
       "top": null,
       "visibility": null,
       "width": null
      }
     },
     "6d12b485d497422e8254a1aaa7a7d6d8": {
      "model_module": "@jupyter-widgets/controls",
      "model_module_version": "1.5.0",
      "model_name": "HBoxModel",
      "state": {
       "_dom_classes": [],
       "_model_module": "@jupyter-widgets/controls",
       "_model_module_version": "1.5.0",
       "_model_name": "HBoxModel",
       "_view_count": null,
       "_view_module": "@jupyter-widgets/controls",
       "_view_module_version": "1.5.0",
       "_view_name": "HBoxView",
       "box_style": "",
       "children": [
        "IPY_MODEL_fea7a99ff0834337983cea2d06779950",
        "IPY_MODEL_665681c81b114a3da9b43c81b4b1926c",
        "IPY_MODEL_5f9a7aa949d543b58f348cfb4617469d"
       ],
       "layout": "IPY_MODEL_2c60fd55062744b4ba091d8c6507d309"
      }
     },
     "6e2f3be1bd19423ea0ff7d0e84dcc9aa": {
      "model_module": "@jupyter-widgets/controls",
      "model_module_version": "1.5.0",
      "model_name": "DescriptionStyleModel",
      "state": {
       "_model_module": "@jupyter-widgets/controls",
       "_model_module_version": "1.5.0",
       "_model_name": "DescriptionStyleModel",
       "_view_count": null,
       "_view_module": "@jupyter-widgets/base",
       "_view_module_version": "1.2.0",
       "_view_name": "StyleView",
       "description_width": ""
      }
     },
     "6e8f8e45dec74d71a53ddab3ae1f2cee": {
      "model_module": "@jupyter-widgets/base",
      "model_module_version": "1.2.0",
      "model_name": "LayoutModel",
      "state": {
       "_model_module": "@jupyter-widgets/base",
       "_model_module_version": "1.2.0",
       "_model_name": "LayoutModel",
       "_view_count": null,
       "_view_module": "@jupyter-widgets/base",
       "_view_module_version": "1.2.0",
       "_view_name": "LayoutView",
       "align_content": null,
       "align_items": null,
       "align_self": null,
       "border": null,
       "bottom": null,
       "display": null,
       "flex": null,
       "flex_flow": null,
       "grid_area": null,
       "grid_auto_columns": null,
       "grid_auto_flow": null,
       "grid_auto_rows": null,
       "grid_column": null,
       "grid_gap": null,
       "grid_row": null,
       "grid_template_areas": null,
       "grid_template_columns": null,
       "grid_template_rows": null,
       "height": null,
       "justify_content": null,
       "justify_items": null,
       "left": null,
       "margin": null,
       "max_height": null,
       "max_width": null,
       "min_height": null,
       "min_width": null,
       "object_fit": null,
       "object_position": null,
       "order": null,
       "overflow": null,
       "overflow_x": null,
       "overflow_y": null,
       "padding": null,
       "right": null,
       "top": null,
       "visibility": null,
       "width": null
      }
     },
     "7204b09b034a4fa993c7c5b1998f8a4c": {
      "model_module": "@jupyter-widgets/base",
      "model_module_version": "1.2.0",
      "model_name": "LayoutModel",
      "state": {
       "_model_module": "@jupyter-widgets/base",
       "_model_module_version": "1.2.0",
       "_model_name": "LayoutModel",
       "_view_count": null,
       "_view_module": "@jupyter-widgets/base",
       "_view_module_version": "1.2.0",
       "_view_name": "LayoutView",
       "align_content": null,
       "align_items": null,
       "align_self": null,
       "border": null,
       "bottom": null,
       "display": null,
       "flex": null,
       "flex_flow": null,
       "grid_area": null,
       "grid_auto_columns": null,
       "grid_auto_flow": null,
       "grid_auto_rows": null,
       "grid_column": null,
       "grid_gap": null,
       "grid_row": null,
       "grid_template_areas": null,
       "grid_template_columns": null,
       "grid_template_rows": null,
       "height": null,
       "justify_content": null,
       "justify_items": null,
       "left": null,
       "margin": null,
       "max_height": null,
       "max_width": null,
       "min_height": null,
       "min_width": null,
       "object_fit": null,
       "object_position": null,
       "order": null,
       "overflow": null,
       "overflow_x": null,
       "overflow_y": null,
       "padding": null,
       "right": null,
       "top": null,
       "visibility": null,
       "width": null
      }
     },
     "73eccc36aefb42aebea2614387b44857": {
      "model_module": "@jupyter-widgets/base",
      "model_module_version": "1.2.0",
      "model_name": "LayoutModel",
      "state": {
       "_model_module": "@jupyter-widgets/base",
       "_model_module_version": "1.2.0",
       "_model_name": "LayoutModel",
       "_view_count": null,
       "_view_module": "@jupyter-widgets/base",
       "_view_module_version": "1.2.0",
       "_view_name": "LayoutView",
       "align_content": null,
       "align_items": null,
       "align_self": null,
       "border": null,
       "bottom": null,
       "display": null,
       "flex": null,
       "flex_flow": null,
       "grid_area": null,
       "grid_auto_columns": null,
       "grid_auto_flow": null,
       "grid_auto_rows": null,
       "grid_column": null,
       "grid_gap": null,
       "grid_row": null,
       "grid_template_areas": null,
       "grid_template_columns": null,
       "grid_template_rows": null,
       "height": null,
       "justify_content": null,
       "justify_items": null,
       "left": null,
       "margin": null,
       "max_height": null,
       "max_width": null,
       "min_height": null,
       "min_width": null,
       "object_fit": null,
       "object_position": null,
       "order": null,
       "overflow": null,
       "overflow_x": null,
       "overflow_y": null,
       "padding": null,
       "right": null,
       "top": null,
       "visibility": null,
       "width": null
      }
     },
     "745b7a8b2b154a72a71df0d6226332ec": {
      "model_module": "@jupyter-widgets/controls",
      "model_module_version": "1.5.0",
      "model_name": "DescriptionStyleModel",
      "state": {
       "_model_module": "@jupyter-widgets/controls",
       "_model_module_version": "1.5.0",
       "_model_name": "DescriptionStyleModel",
       "_view_count": null,
       "_view_module": "@jupyter-widgets/base",
       "_view_module_version": "1.2.0",
       "_view_name": "StyleView",
       "description_width": ""
      }
     },
     "7894866d3a784afab6bf6191fa76a419": {
      "model_module": "@jupyter-widgets/controls",
      "model_module_version": "1.5.0",
      "model_name": "HTMLModel",
      "state": {
       "_dom_classes": [],
       "_model_module": "@jupyter-widgets/controls",
       "_model_module_version": "1.5.0",
       "_model_name": "HTMLModel",
       "_view_count": null,
       "_view_module": "@jupyter-widgets/controls",
       "_view_module_version": "1.5.0",
       "_view_name": "HTMLView",
       "description": "",
       "description_tooltip": null,
       "layout": "IPY_MODEL_e8ba491c7b95448ca1cb26e46e7a2437",
       "placeholder": "​",
       "style": "IPY_MODEL_9f8007e86dc444a79dc00a89f0373c4e",
       "value": " 912/912 [00:10&lt;00:00, 105.52it/s]"
      }
     },
     "8159cb98815545449211c6c217d2ad04": {
      "model_module": "@jupyter-widgets/base",
      "model_module_version": "1.2.0",
      "model_name": "LayoutModel",
      "state": {
       "_model_module": "@jupyter-widgets/base",
       "_model_module_version": "1.2.0",
       "_model_name": "LayoutModel",
       "_view_count": null,
       "_view_module": "@jupyter-widgets/base",
       "_view_module_version": "1.2.0",
       "_view_name": "LayoutView",
       "align_content": null,
       "align_items": null,
       "align_self": null,
       "border": null,
       "bottom": null,
       "display": null,
       "flex": null,
       "flex_flow": null,
       "grid_area": null,
       "grid_auto_columns": null,
       "grid_auto_flow": null,
       "grid_auto_rows": null,
       "grid_column": null,
       "grid_gap": null,
       "grid_row": null,
       "grid_template_areas": null,
       "grid_template_columns": null,
       "grid_template_rows": null,
       "height": null,
       "justify_content": null,
       "justify_items": null,
       "left": null,
       "margin": null,
       "max_height": null,
       "max_width": null,
       "min_height": null,
       "min_width": null,
       "object_fit": null,
       "object_position": null,
       "order": null,
       "overflow": null,
       "overflow_x": null,
       "overflow_y": null,
       "padding": null,
       "right": null,
       "top": null,
       "visibility": null,
       "width": null
      }
     },
     "859d3f7199c5413bb6261f06172ff636": {
      "model_module": "@jupyter-widgets/controls",
      "model_module_version": "1.5.0",
      "model_name": "DescriptionStyleModel",
      "state": {
       "_model_module": "@jupyter-widgets/controls",
       "_model_module_version": "1.5.0",
       "_model_name": "DescriptionStyleModel",
       "_view_count": null,
       "_view_module": "@jupyter-widgets/base",
       "_view_module_version": "1.2.0",
       "_view_name": "StyleView",
       "description_width": ""
      }
     },
     "87a4cb11624346878e86d0b3881b6bac": {
      "model_module": "@jupyter-widgets/controls",
      "model_module_version": "1.5.0",
      "model_name": "ProgressStyleModel",
      "state": {
       "_model_module": "@jupyter-widgets/controls",
       "_model_module_version": "1.5.0",
       "_model_name": "ProgressStyleModel",
       "_view_count": null,
       "_view_module": "@jupyter-widgets/base",
       "_view_module_version": "1.2.0",
       "_view_name": "StyleView",
       "bar_color": null,
       "description_width": ""
      }
     },
     "8aaf453cae6b4d1ba4dab91c25cf1354": {
      "model_module": "@jupyter-widgets/base",
      "model_module_version": "1.2.0",
      "model_name": "LayoutModel",
      "state": {
       "_model_module": "@jupyter-widgets/base",
       "_model_module_version": "1.2.0",
       "_model_name": "LayoutModel",
       "_view_count": null,
       "_view_module": "@jupyter-widgets/base",
       "_view_module_version": "1.2.0",
       "_view_name": "LayoutView",
       "align_content": null,
       "align_items": null,
       "align_self": null,
       "border": null,
       "bottom": null,
       "display": null,
       "flex": null,
       "flex_flow": null,
       "grid_area": null,
       "grid_auto_columns": null,
       "grid_auto_flow": null,
       "grid_auto_rows": null,
       "grid_column": null,
       "grid_gap": null,
       "grid_row": null,
       "grid_template_areas": null,
       "grid_template_columns": null,
       "grid_template_rows": null,
       "height": null,
       "justify_content": null,
       "justify_items": null,
       "left": null,
       "margin": null,
       "max_height": null,
       "max_width": null,
       "min_height": null,
       "min_width": null,
       "object_fit": null,
       "object_position": null,
       "order": null,
       "overflow": null,
       "overflow_x": null,
       "overflow_y": null,
       "padding": null,
       "right": null,
       "top": null,
       "visibility": null,
       "width": null
      }
     },
     "8b6bec27c7874b1ca32f726310804cce": {
      "model_module": "@jupyter-widgets/controls",
      "model_module_version": "1.5.0",
      "model_name": "DescriptionStyleModel",
      "state": {
       "_model_module": "@jupyter-widgets/controls",
       "_model_module_version": "1.5.0",
       "_model_name": "DescriptionStyleModel",
       "_view_count": null,
       "_view_module": "@jupyter-widgets/base",
       "_view_module_version": "1.2.0",
       "_view_name": "StyleView",
       "description_width": ""
      }
     },
     "8c75cb8becb74603a77cdcd8eab01ff7": {
      "model_module": "@jupyter-widgets/controls",
      "model_module_version": "1.5.0",
      "model_name": "FloatProgressModel",
      "state": {
       "_dom_classes": [],
       "_model_module": "@jupyter-widgets/controls",
       "_model_module_version": "1.5.0",
       "_model_name": "FloatProgressModel",
       "_view_count": null,
       "_view_module": "@jupyter-widgets/controls",
       "_view_module_version": "1.5.0",
       "_view_name": "ProgressView",
       "bar_style": "success",
       "description": "",
       "description_tooltip": null,
       "layout": "IPY_MODEL_6e8f8e45dec74d71a53ddab3ae1f2cee",
       "max": 228.0,
       "min": 0.0,
       "orientation": "horizontal",
       "style": "IPY_MODEL_fa0459946a464bc1b5f7851de05f1d3c",
       "value": 228.0
      }
     },
     "9066f37c84d447e5aaf01610a31c5f15": {
      "model_module": "@jupyter-widgets/controls",
      "model_module_version": "1.5.0",
      "model_name": "HTMLModel",
      "state": {
       "_dom_classes": [],
       "_model_module": "@jupyter-widgets/controls",
       "_model_module_version": "1.5.0",
       "_model_name": "HTMLModel",
       "_view_count": null,
       "_view_module": "@jupyter-widgets/controls",
       "_view_module_version": "1.5.0",
       "_view_name": "HTMLView",
       "description": "",
       "description_tooltip": null,
       "layout": "IPY_MODEL_59a2df9084df4422b0adb8391da1406b",
       "placeholder": "​",
       "style": "IPY_MODEL_3593b6d6c2384d7cb4ea6470157b6107",
       "value": " 228/228 [00:03&lt;00:00, 107.27it/s]"
      }
     },
     "9398db8d3c9b425bbdb5a00a1d7eadf8": {
      "model_module": "@jupyter-widgets/controls",
      "model_module_version": "1.5.0",
      "model_name": "HTMLModel",
      "state": {
       "_dom_classes": [],
       "_model_module": "@jupyter-widgets/controls",
       "_model_module_version": "1.5.0",
       "_model_name": "HTMLModel",
       "_view_count": null,
       "_view_module": "@jupyter-widgets/controls",
       "_view_module_version": "1.5.0",
       "_view_name": "HTMLView",
       "description": "",
       "description_tooltip": null,
       "layout": "IPY_MODEL_8159cb98815545449211c6c217d2ad04",
       "placeholder": "​",
       "style": "IPY_MODEL_e5df56d5f6ed4df8af5efba5bad1c696",
       "value": "Batches: 100%"
      }
     },
     "93ee77d01a6a41218b7e09db8fa6a7ee": {
      "model_module": "@jupyter-widgets/base",
      "model_module_version": "1.2.0",
      "model_name": "LayoutModel",
      "state": {
       "_model_module": "@jupyter-widgets/base",
       "_model_module_version": "1.2.0",
       "_model_name": "LayoutModel",
       "_view_count": null,
       "_view_module": "@jupyter-widgets/base",
       "_view_module_version": "1.2.0",
       "_view_name": "LayoutView",
       "align_content": null,
       "align_items": null,
       "align_self": null,
       "border": null,
       "bottom": null,
       "display": null,
       "flex": null,
       "flex_flow": null,
       "grid_area": null,
       "grid_auto_columns": null,
       "grid_auto_flow": null,
       "grid_auto_rows": null,
       "grid_column": null,
       "grid_gap": null,
       "grid_row": null,
       "grid_template_areas": null,
       "grid_template_columns": null,
       "grid_template_rows": null,
       "height": null,
       "justify_content": null,
       "justify_items": null,
       "left": null,
       "margin": null,
       "max_height": null,
       "max_width": null,
       "min_height": null,
       "min_width": null,
       "object_fit": null,
       "object_position": null,
       "order": null,
       "overflow": null,
       "overflow_x": null,
       "overflow_y": null,
       "padding": null,
       "right": null,
       "top": null,
       "visibility": null,
       "width": null
      }
     },
     "948cf0c0f7be40c1aadae79279c3522a": {
      "model_module": "@jupyter-widgets/base",
      "model_module_version": "1.2.0",
      "model_name": "LayoutModel",
      "state": {
       "_model_module": "@jupyter-widgets/base",
       "_model_module_version": "1.2.0",
       "_model_name": "LayoutModel",
       "_view_count": null,
       "_view_module": "@jupyter-widgets/base",
       "_view_module_version": "1.2.0",
       "_view_name": "LayoutView",
       "align_content": null,
       "align_items": null,
       "align_self": null,
       "border": null,
       "bottom": null,
       "display": null,
       "flex": null,
       "flex_flow": null,
       "grid_area": null,
       "grid_auto_columns": null,
       "grid_auto_flow": null,
       "grid_auto_rows": null,
       "grid_column": null,
       "grid_gap": null,
       "grid_row": null,
       "grid_template_areas": null,
       "grid_template_columns": null,
       "grid_template_rows": null,
       "height": null,
       "justify_content": null,
       "justify_items": null,
       "left": null,
       "margin": null,
       "max_height": null,
       "max_width": null,
       "min_height": null,
       "min_width": null,
       "object_fit": null,
       "object_position": null,
       "order": null,
       "overflow": null,
       "overflow_x": null,
       "overflow_y": null,
       "padding": null,
       "right": null,
       "top": null,
       "visibility": null,
       "width": null
      }
     },
     "956ea831f6144eac8840e34500ed4b25": {
      "model_module": "@jupyter-widgets/controls",
      "model_module_version": "1.5.0",
      "model_name": "FloatProgressModel",
      "state": {
       "_dom_classes": [],
       "_model_module": "@jupyter-widgets/controls",
       "_model_module_version": "1.5.0",
       "_model_name": "FloatProgressModel",
       "_view_count": null,
       "_view_module": "@jupyter-widgets/controls",
       "_view_module_version": "1.5.0",
       "_view_name": "ProgressView",
       "bar_style": "success",
       "description": "",
       "description_tooltip": null,
       "layout": "IPY_MODEL_12a0fbeb80e24462a3966b1558d5a074",
       "max": 2.0,
       "min": 0.0,
       "orientation": "horizontal",
       "style": "IPY_MODEL_5a655bf8edf74c899d129ef72692db02",
       "value": 2.0
      }
     },
     "98c8867a1a6a4a0f9de9d50d4698f61c": {
      "model_module": "@jupyter-widgets/base",
      "model_module_version": "1.2.0",
      "model_name": "LayoutModel",
      "state": {
       "_model_module": "@jupyter-widgets/base",
       "_model_module_version": "1.2.0",
       "_model_name": "LayoutModel",
       "_view_count": null,
       "_view_module": "@jupyter-widgets/base",
       "_view_module_version": "1.2.0",
       "_view_name": "LayoutView",
       "align_content": null,
       "align_items": null,
       "align_self": null,
       "border": null,
       "bottom": null,
       "display": null,
       "flex": null,
       "flex_flow": null,
       "grid_area": null,
       "grid_auto_columns": null,
       "grid_auto_flow": null,
       "grid_auto_rows": null,
       "grid_column": null,
       "grid_gap": null,
       "grid_row": null,
       "grid_template_areas": null,
       "grid_template_columns": null,
       "grid_template_rows": null,
       "height": null,
       "justify_content": null,
       "justify_items": null,
       "left": null,
       "margin": null,
       "max_height": null,
       "max_width": null,
       "min_height": null,
       "min_width": null,
       "object_fit": null,
       "object_position": null,
       "order": null,
       "overflow": null,
       "overflow_x": null,
       "overflow_y": null,
       "padding": null,
       "right": null,
       "top": null,
       "visibility": null,
       "width": null
      }
     },
     "98d398f30ed142488607741cebced7cd": {
      "model_module": "@jupyter-widgets/controls",
      "model_module_version": "1.5.0",
      "model_name": "HTMLModel",
      "state": {
       "_dom_classes": [],
       "_model_module": "@jupyter-widgets/controls",
       "_model_module_version": "1.5.0",
       "_model_name": "HTMLModel",
       "_view_count": null,
       "_view_module": "@jupyter-widgets/controls",
       "_view_module_version": "1.5.0",
       "_view_name": "HTMLView",
       "description": "",
       "description_tooltip": null,
       "layout": "IPY_MODEL_585584fc6168483c8efae9316c60ffde",
       "placeholder": "​",
       "style": "IPY_MODEL_ef13381742f54a94a21a1ff56d77c006",
       "value": "Batches: 100%"
      }
     },
     "9addd01bd63442a8a73da6e796e2a6f1": {
      "model_module": "@jupyter-widgets/controls",
      "model_module_version": "1.5.0",
      "model_name": "HTMLModel",
      "state": {
       "_dom_classes": [],
       "_model_module": "@jupyter-widgets/controls",
       "_model_module_version": "1.5.0",
       "_model_name": "HTMLModel",
       "_view_count": null,
       "_view_module": "@jupyter-widgets/controls",
       "_view_module_version": "1.5.0",
       "_view_name": "HTMLView",
       "description": "",
       "description_tooltip": null,
       "layout": "IPY_MODEL_363c09a7c1144b6db81302cb19344a74",
       "placeholder": "​",
       "style": "IPY_MODEL_34bed55189e54afd807202f3bf0098e7",
       "value": "Batches: 100%"
      }
     },
     "9ce055fe192a4c87869c30cd3c774209": {
      "model_module": "@jupyter-widgets/base",
      "model_module_version": "1.2.0",
      "model_name": "LayoutModel",
      "state": {
       "_model_module": "@jupyter-widgets/base",
       "_model_module_version": "1.2.0",
       "_model_name": "LayoutModel",
       "_view_count": null,
       "_view_module": "@jupyter-widgets/base",
       "_view_module_version": "1.2.0",
       "_view_name": "LayoutView",
       "align_content": null,
       "align_items": null,
       "align_self": null,
       "border": null,
       "bottom": null,
       "display": null,
       "flex": null,
       "flex_flow": null,
       "grid_area": null,
       "grid_auto_columns": null,
       "grid_auto_flow": null,
       "grid_auto_rows": null,
       "grid_column": null,
       "grid_gap": null,
       "grid_row": null,
       "grid_template_areas": null,
       "grid_template_columns": null,
       "grid_template_rows": null,
       "height": null,
       "justify_content": null,
       "justify_items": null,
       "left": null,
       "margin": null,
       "max_height": null,
       "max_width": null,
       "min_height": null,
       "min_width": null,
       "object_fit": null,
       "object_position": null,
       "order": null,
       "overflow": null,
       "overflow_x": null,
       "overflow_y": null,
       "padding": null,
       "right": null,
       "top": null,
       "visibility": null,
       "width": null
      }
     },
     "9f8007e86dc444a79dc00a89f0373c4e": {
      "model_module": "@jupyter-widgets/controls",
      "model_module_version": "1.5.0",
      "model_name": "DescriptionStyleModel",
      "state": {
       "_model_module": "@jupyter-widgets/controls",
       "_model_module_version": "1.5.0",
       "_model_name": "DescriptionStyleModel",
       "_view_count": null,
       "_view_module": "@jupyter-widgets/base",
       "_view_module_version": "1.2.0",
       "_view_name": "StyleView",
       "description_width": ""
      }
     },
     "9f9579b5ff8e44b99332601471d39832": {
      "model_module": "@jupyter-widgets/base",
      "model_module_version": "1.2.0",
      "model_name": "LayoutModel",
      "state": {
       "_model_module": "@jupyter-widgets/base",
       "_model_module_version": "1.2.0",
       "_model_name": "LayoutModel",
       "_view_count": null,
       "_view_module": "@jupyter-widgets/base",
       "_view_module_version": "1.2.0",
       "_view_name": "LayoutView",
       "align_content": null,
       "align_items": null,
       "align_self": null,
       "border": null,
       "bottom": null,
       "display": null,
       "flex": null,
       "flex_flow": null,
       "grid_area": null,
       "grid_auto_columns": null,
       "grid_auto_flow": null,
       "grid_auto_rows": null,
       "grid_column": null,
       "grid_gap": null,
       "grid_row": null,
       "grid_template_areas": null,
       "grid_template_columns": null,
       "grid_template_rows": null,
       "height": null,
       "justify_content": null,
       "justify_items": null,
       "left": null,
       "margin": null,
       "max_height": null,
       "max_width": null,
       "min_height": null,
       "min_width": null,
       "object_fit": null,
       "object_position": null,
       "order": null,
       "overflow": null,
       "overflow_x": null,
       "overflow_y": null,
       "padding": null,
       "right": null,
       "top": null,
       "visibility": null,
       "width": null
      }
     },
     "a0e9684be168403e987a908eec7a3480": {
      "model_module": "@jupyter-widgets/controls",
      "model_module_version": "1.5.0",
      "model_name": "DescriptionStyleModel",
      "state": {
       "_model_module": "@jupyter-widgets/controls",
       "_model_module_version": "1.5.0",
       "_model_name": "DescriptionStyleModel",
       "_view_count": null,
       "_view_module": "@jupyter-widgets/base",
       "_view_module_version": "1.2.0",
       "_view_name": "StyleView",
       "description_width": ""
      }
     },
     "a6b5c15c314541bd84dab8b9e1769da4": {
      "model_module": "@jupyter-widgets/base",
      "model_module_version": "1.2.0",
      "model_name": "LayoutModel",
      "state": {
       "_model_module": "@jupyter-widgets/base",
       "_model_module_version": "1.2.0",
       "_model_name": "LayoutModel",
       "_view_count": null,
       "_view_module": "@jupyter-widgets/base",
       "_view_module_version": "1.2.0",
       "_view_name": "LayoutView",
       "align_content": null,
       "align_items": null,
       "align_self": null,
       "border": null,
       "bottom": null,
       "display": null,
       "flex": null,
       "flex_flow": null,
       "grid_area": null,
       "grid_auto_columns": null,
       "grid_auto_flow": null,
       "grid_auto_rows": null,
       "grid_column": null,
       "grid_gap": null,
       "grid_row": null,
       "grid_template_areas": null,
       "grid_template_columns": null,
       "grid_template_rows": null,
       "height": null,
       "justify_content": null,
       "justify_items": null,
       "left": null,
       "margin": null,
       "max_height": null,
       "max_width": null,
       "min_height": null,
       "min_width": null,
       "object_fit": null,
       "object_position": null,
       "order": null,
       "overflow": null,
       "overflow_x": null,
       "overflow_y": null,
       "padding": null,
       "right": null,
       "top": null,
       "visibility": null,
       "width": null
      }
     },
     "a9a08db5dc02424da083edcbb666807c": {
      "model_module": "@jupyter-widgets/base",
      "model_module_version": "1.2.0",
      "model_name": "LayoutModel",
      "state": {
       "_model_module": "@jupyter-widgets/base",
       "_model_module_version": "1.2.0",
       "_model_name": "LayoutModel",
       "_view_count": null,
       "_view_module": "@jupyter-widgets/base",
       "_view_module_version": "1.2.0",
       "_view_name": "LayoutView",
       "align_content": null,
       "align_items": null,
       "align_self": null,
       "border": null,
       "bottom": null,
       "display": null,
       "flex": null,
       "flex_flow": null,
       "grid_area": null,
       "grid_auto_columns": null,
       "grid_auto_flow": null,
       "grid_auto_rows": null,
       "grid_column": null,
       "grid_gap": null,
       "grid_row": null,
       "grid_template_areas": null,
       "grid_template_columns": null,
       "grid_template_rows": null,
       "height": null,
       "justify_content": null,
       "justify_items": null,
       "left": null,
       "margin": null,
       "max_height": null,
       "max_width": null,
       "min_height": null,
       "min_width": null,
       "object_fit": null,
       "object_position": null,
       "order": null,
       "overflow": null,
       "overflow_x": null,
       "overflow_y": null,
       "padding": null,
       "right": null,
       "top": null,
       "visibility": null,
       "width": null
      }
     },
     "b17690c8b4b2486cbf1c5b1f5dd86485": {
      "model_module": "@jupyter-widgets/controls",
      "model_module_version": "1.5.0",
      "model_name": "ProgressStyleModel",
      "state": {
       "_model_module": "@jupyter-widgets/controls",
       "_model_module_version": "1.5.0",
       "_model_name": "ProgressStyleModel",
       "_view_count": null,
       "_view_module": "@jupyter-widgets/base",
       "_view_module_version": "1.2.0",
       "_view_name": "StyleView",
       "bar_color": null,
       "description_width": ""
      }
     },
     "b2b8ddd1942440bb8774dd3fb107636c": {
      "model_module": "@jupyter-widgets/controls",
      "model_module_version": "1.5.0",
      "model_name": "HTMLModel",
      "state": {
       "_dom_classes": [],
       "_model_module": "@jupyter-widgets/controls",
       "_model_module_version": "1.5.0",
       "_model_name": "HTMLModel",
       "_view_count": null,
       "_view_module": "@jupyter-widgets/controls",
       "_view_module_version": "1.5.0",
       "_view_name": "HTMLView",
       "description": "",
       "description_tooltip": null,
       "layout": "IPY_MODEL_fc94160e6d6a408c91148db50aa8140b",
       "placeholder": "​",
       "style": "IPY_MODEL_b30602895d20492ea79d3d2fc63a41f0",
       "value": "Batches: 100%"
      }
     },
     "b2ddbcd88fd948388c9b8d5bbacc598b": {
      "model_module": "@jupyter-widgets/controls",
      "model_module_version": "1.5.0",
      "model_name": "FloatProgressModel",
      "state": {
       "_dom_classes": [],
       "_model_module": "@jupyter-widgets/controls",
       "_model_module_version": "1.5.0",
       "_model_name": "FloatProgressModel",
       "_view_count": null,
       "_view_module": "@jupyter-widgets/controls",
       "_view_module_version": "1.5.0",
       "_view_name": "ProgressView",
       "bar_style": "success",
       "description": "",
       "description_tooltip": null,
       "layout": "IPY_MODEL_5d719cc311294675a441e6e277fe899f",
       "max": 2.0,
       "min": 0.0,
       "orientation": "horizontal",
       "style": "IPY_MODEL_2b0cff7790224d3895b113e59f6a07d1",
       "value": 2.0
      }
     },
     "b30602895d20492ea79d3d2fc63a41f0": {
      "model_module": "@jupyter-widgets/controls",
      "model_module_version": "1.5.0",
      "model_name": "DescriptionStyleModel",
      "state": {
       "_model_module": "@jupyter-widgets/controls",
       "_model_module_version": "1.5.0",
       "_model_name": "DescriptionStyleModel",
       "_view_count": null,
       "_view_module": "@jupyter-widgets/base",
       "_view_module_version": "1.2.0",
       "_view_name": "StyleView",
       "description_width": ""
      }
     },
     "b77a1130e0d14fbda75b6095b5aa89b3": {
      "model_module": "@jupyter-widgets/controls",
      "model_module_version": "1.5.0",
      "model_name": "HBoxModel",
      "state": {
       "_dom_classes": [],
       "_model_module": "@jupyter-widgets/controls",
       "_model_module_version": "1.5.0",
       "_model_name": "HBoxModel",
       "_view_count": null,
       "_view_module": "@jupyter-widgets/controls",
       "_view_module_version": "1.5.0",
       "_view_name": "HBoxView",
       "box_style": "",
       "children": [
        "IPY_MODEL_98d398f30ed142488607741cebced7cd",
        "IPY_MODEL_316ed739e5f84c66a08dd797b5d8a274",
        "IPY_MODEL_b978dac6ca2943d785034bc559bec5d5"
       ],
       "layout": "IPY_MODEL_434149fc2ef34c32a0bcb8cefaa0998f"
      }
     },
     "b978dac6ca2943d785034bc559bec5d5": {
      "model_module": "@jupyter-widgets/controls",
      "model_module_version": "1.5.0",
      "model_name": "HTMLModel",
      "state": {
       "_dom_classes": [],
       "_model_module": "@jupyter-widgets/controls",
       "_model_module_version": "1.5.0",
       "_model_name": "HTMLModel",
       "_view_count": null,
       "_view_module": "@jupyter-widgets/controls",
       "_view_module_version": "1.5.0",
       "_view_name": "HTMLView",
       "description": "",
       "description_tooltip": null,
       "layout": "IPY_MODEL_0d230172ebca47cb9cdb26d1a283b29f",
       "placeholder": "​",
       "style": "IPY_MODEL_745b7a8b2b154a72a71df0d6226332ec",
       "value": " 2/2 [00:00&lt;00:00, 24.65it/s]"
      }
     },
     "ba610f8dcda4496eb02ff7b6907d53fc": {
      "model_module": "@jupyter-widgets/controls",
      "model_module_version": "1.5.0",
      "model_name": "HTMLModel",
      "state": {
       "_dom_classes": [],
       "_model_module": "@jupyter-widgets/controls",
       "_model_module_version": "1.5.0",
       "_model_name": "HTMLModel",
       "_view_count": null,
       "_view_module": "@jupyter-widgets/controls",
       "_view_module_version": "1.5.0",
       "_view_name": "HTMLView",
       "description": "",
       "description_tooltip": null,
       "layout": "IPY_MODEL_7204b09b034a4fa993c7c5b1998f8a4c",
       "placeholder": "​",
       "style": "IPY_MODEL_0eaa4180f64249e18bf83025156934dc",
       "value": "Batches: 100%"
      }
     },
     "bf9a3c06ce894935835ce0b664933532": {
      "model_module": "@jupyter-widgets/base",
      "model_module_version": "1.2.0",
      "model_name": "LayoutModel",
      "state": {
       "_model_module": "@jupyter-widgets/base",
       "_model_module_version": "1.2.0",
       "_model_name": "LayoutModel",
       "_view_count": null,
       "_view_module": "@jupyter-widgets/base",
       "_view_module_version": "1.2.0",
       "_view_name": "LayoutView",
       "align_content": null,
       "align_items": null,
       "align_self": null,
       "border": null,
       "bottom": null,
       "display": null,
       "flex": null,
       "flex_flow": null,
       "grid_area": null,
       "grid_auto_columns": null,
       "grid_auto_flow": null,
       "grid_auto_rows": null,
       "grid_column": null,
       "grid_gap": null,
       "grid_row": null,
       "grid_template_areas": null,
       "grid_template_columns": null,
       "grid_template_rows": null,
       "height": null,
       "justify_content": null,
       "justify_items": null,
       "left": null,
       "margin": null,
       "max_height": null,
       "max_width": null,
       "min_height": null,
       "min_width": null,
       "object_fit": null,
       "object_position": null,
       "order": null,
       "overflow": null,
       "overflow_x": null,
       "overflow_y": null,
       "padding": null,
       "right": null,
       "top": null,
       "visibility": null,
       "width": null
      }
     },
     "ca2c615fcbd244aa90924f58283dbc52": {
      "model_module": "@jupyter-widgets/base",
      "model_module_version": "1.2.0",
      "model_name": "LayoutModel",
      "state": {
       "_model_module": "@jupyter-widgets/base",
       "_model_module_version": "1.2.0",
       "_model_name": "LayoutModel",
       "_view_count": null,
       "_view_module": "@jupyter-widgets/base",
       "_view_module_version": "1.2.0",
       "_view_name": "LayoutView",
       "align_content": null,
       "align_items": null,
       "align_self": null,
       "border": null,
       "bottom": null,
       "display": null,
       "flex": null,
       "flex_flow": null,
       "grid_area": null,
       "grid_auto_columns": null,
       "grid_auto_flow": null,
       "grid_auto_rows": null,
       "grid_column": null,
       "grid_gap": null,
       "grid_row": null,
       "grid_template_areas": null,
       "grid_template_columns": null,
       "grid_template_rows": null,
       "height": null,
       "justify_content": null,
       "justify_items": null,
       "left": null,
       "margin": null,
       "max_height": null,
       "max_width": null,
       "min_height": null,
       "min_width": null,
       "object_fit": null,
       "object_position": null,
       "order": null,
       "overflow": null,
       "overflow_x": null,
       "overflow_y": null,
       "padding": null,
       "right": null,
       "top": null,
       "visibility": null,
       "width": null
      }
     },
     "cbc36b6b304747febc91b8463260d059": {
      "model_module": "@jupyter-widgets/base",
      "model_module_version": "1.2.0",
      "model_name": "LayoutModel",
      "state": {
       "_model_module": "@jupyter-widgets/base",
       "_model_module_version": "1.2.0",
       "_model_name": "LayoutModel",
       "_view_count": null,
       "_view_module": "@jupyter-widgets/base",
       "_view_module_version": "1.2.0",
       "_view_name": "LayoutView",
       "align_content": null,
       "align_items": null,
       "align_self": null,
       "border": null,
       "bottom": null,
       "display": null,
       "flex": null,
       "flex_flow": null,
       "grid_area": null,
       "grid_auto_columns": null,
       "grid_auto_flow": null,
       "grid_auto_rows": null,
       "grid_column": null,
       "grid_gap": null,
       "grid_row": null,
       "grid_template_areas": null,
       "grid_template_columns": null,
       "grid_template_rows": null,
       "height": null,
       "justify_content": null,
       "justify_items": null,
       "left": null,
       "margin": null,
       "max_height": null,
       "max_width": null,
       "min_height": null,
       "min_width": null,
       "object_fit": null,
       "object_position": null,
       "order": null,
       "overflow": null,
       "overflow_x": null,
       "overflow_y": null,
       "padding": null,
       "right": null,
       "top": null,
       "visibility": null,
       "width": null
      }
     },
     "d291025eec3d4d5eac6ab03d33b4e260": {
      "model_module": "@jupyter-widgets/controls",
      "model_module_version": "1.5.0",
      "model_name": "HTMLModel",
      "state": {
       "_dom_classes": [],
       "_model_module": "@jupyter-widgets/controls",
       "_model_module_version": "1.5.0",
       "_model_name": "HTMLModel",
       "_view_count": null,
       "_view_module": "@jupyter-widgets/controls",
       "_view_module_version": "1.5.0",
       "_view_name": "HTMLView",
       "description": "",
       "description_tooltip": null,
       "layout": "IPY_MODEL_948cf0c0f7be40c1aadae79279c3522a",
       "placeholder": "​",
       "style": "IPY_MODEL_dffb791f22b24823a63f3203657e3586",
       "value": " 228/228 [00:02&lt;00:00, 107.51it/s]"
      }
     },
     "d443d79df2b6407daef7512550075b7e": {
      "model_module": "@jupyter-widgets/controls",
      "model_module_version": "1.5.0",
      "model_name": "HBoxModel",
      "state": {
       "_dom_classes": [],
       "_model_module": "@jupyter-widgets/controls",
       "_model_module_version": "1.5.0",
       "_model_name": "HBoxModel",
       "_view_count": null,
       "_view_module": "@jupyter-widgets/controls",
       "_view_module_version": "1.5.0",
       "_view_name": "HBoxView",
       "box_style": "",
       "children": [
        "IPY_MODEL_9398db8d3c9b425bbdb5a00a1d7eadf8",
        "IPY_MODEL_6385833902f54af18283e42cd07b53d7",
        "IPY_MODEL_9066f37c84d447e5aaf01610a31c5f15"
       ],
       "layout": "IPY_MODEL_cbc36b6b304747febc91b8463260d059"
      }
     },
     "d586623326f546cba646edbd0320567c": {
      "model_module": "@jupyter-widgets/base",
      "model_module_version": "1.2.0",
      "model_name": "LayoutModel",
      "state": {
       "_model_module": "@jupyter-widgets/base",
       "_model_module_version": "1.2.0",
       "_model_name": "LayoutModel",
       "_view_count": null,
       "_view_module": "@jupyter-widgets/base",
       "_view_module_version": "1.2.0",
       "_view_name": "LayoutView",
       "align_content": null,
       "align_items": null,
       "align_self": null,
       "border": null,
       "bottom": null,
       "display": null,
       "flex": null,
       "flex_flow": null,
       "grid_area": null,
       "grid_auto_columns": null,
       "grid_auto_flow": null,
       "grid_auto_rows": null,
       "grid_column": null,
       "grid_gap": null,
       "grid_row": null,
       "grid_template_areas": null,
       "grid_template_columns": null,
       "grid_template_rows": null,
       "height": null,
       "justify_content": null,
       "justify_items": null,
       "left": null,
       "margin": null,
       "max_height": null,
       "max_width": null,
       "min_height": null,
       "min_width": null,
       "object_fit": null,
       "object_position": null,
       "order": null,
       "overflow": null,
       "overflow_x": null,
       "overflow_y": null,
       "padding": null,
       "right": null,
       "top": null,
       "visibility": null,
       "width": null
      }
     },
     "dffb791f22b24823a63f3203657e3586": {
      "model_module": "@jupyter-widgets/controls",
      "model_module_version": "1.5.0",
      "model_name": "DescriptionStyleModel",
      "state": {
       "_model_module": "@jupyter-widgets/controls",
       "_model_module_version": "1.5.0",
       "_model_name": "DescriptionStyleModel",
       "_view_count": null,
       "_view_module": "@jupyter-widgets/base",
       "_view_module_version": "1.2.0",
       "_view_name": "StyleView",
       "description_width": ""
      }
     },
     "e226e9bb323f451c965e1aa64d432359": {
      "model_module": "@jupyter-widgets/controls",
      "model_module_version": "1.5.0",
      "model_name": "HTMLModel",
      "state": {
       "_dom_classes": [],
       "_model_module": "@jupyter-widgets/controls",
       "_model_module_version": "1.5.0",
       "_model_name": "HTMLModel",
       "_view_count": null,
       "_view_module": "@jupyter-widgets/controls",
       "_view_module_version": "1.5.0",
       "_view_name": "HTMLView",
       "description": "",
       "description_tooltip": null,
       "layout": "IPY_MODEL_73eccc36aefb42aebea2614387b44857",
       "placeholder": "​",
       "style": "IPY_MODEL_fbcdad54f7cc41e89c5740f0e18d40e2",
       "value": " 228/228 [00:02&lt;00:00, 101.48it/s]"
      }
     },
     "e5a6a66c9e784d58bcbf4533b61e2b8c": {
      "model_module": "@jupyter-widgets/controls",
      "model_module_version": "1.5.0",
      "model_name": "HTMLModel",
      "state": {
       "_dom_classes": [],
       "_model_module": "@jupyter-widgets/controls",
       "_model_module_version": "1.5.0",
       "_model_name": "HTMLModel",
       "_view_count": null,
       "_view_module": "@jupyter-widgets/controls",
       "_view_module_version": "1.5.0",
       "_view_name": "HTMLView",
       "description": "",
       "description_tooltip": null,
       "layout": "IPY_MODEL_a6b5c15c314541bd84dab8b9e1769da4",
       "placeholder": "​",
       "style": "IPY_MODEL_67199f10029c4ed39c5e2b40e03a2bd8",
       "value": "Batches: 100%"
      }
     },
     "e5df56d5f6ed4df8af5efba5bad1c696": {
      "model_module": "@jupyter-widgets/controls",
      "model_module_version": "1.5.0",
      "model_name": "DescriptionStyleModel",
      "state": {
       "_model_module": "@jupyter-widgets/controls",
       "_model_module_version": "1.5.0",
       "_model_name": "DescriptionStyleModel",
       "_view_count": null,
       "_view_module": "@jupyter-widgets/base",
       "_view_module_version": "1.2.0",
       "_view_name": "StyleView",
       "description_width": ""
      }
     },
     "e6b36769624d49c386a720e7992eb7db": {
      "model_module": "@jupyter-widgets/base",
      "model_module_version": "1.2.0",
      "model_name": "LayoutModel",
      "state": {
       "_model_module": "@jupyter-widgets/base",
       "_model_module_version": "1.2.0",
       "_model_name": "LayoutModel",
       "_view_count": null,
       "_view_module": "@jupyter-widgets/base",
       "_view_module_version": "1.2.0",
       "_view_name": "LayoutView",
       "align_content": null,
       "align_items": null,
       "align_self": null,
       "border": null,
       "bottom": null,
       "display": null,
       "flex": null,
       "flex_flow": null,
       "grid_area": null,
       "grid_auto_columns": null,
       "grid_auto_flow": null,
       "grid_auto_rows": null,
       "grid_column": null,
       "grid_gap": null,
       "grid_row": null,
       "grid_template_areas": null,
       "grid_template_columns": null,
       "grid_template_rows": null,
       "height": null,
       "justify_content": null,
       "justify_items": null,
       "left": null,
       "margin": null,
       "max_height": null,
       "max_width": null,
       "min_height": null,
       "min_width": null,
       "object_fit": null,
       "object_position": null,
       "order": null,
       "overflow": null,
       "overflow_x": null,
       "overflow_y": null,
       "padding": null,
       "right": null,
       "top": null,
       "visibility": null,
       "width": null
      }
     },
     "e8a034d161b4495d8270723ebf66a88e": {
      "model_module": "@jupyter-widgets/controls",
      "model_module_version": "1.5.0",
      "model_name": "ProgressStyleModel",
      "state": {
       "_model_module": "@jupyter-widgets/controls",
       "_model_module_version": "1.5.0",
       "_model_name": "ProgressStyleModel",
       "_view_count": null,
       "_view_module": "@jupyter-widgets/base",
       "_view_module_version": "1.2.0",
       "_view_name": "StyleView",
       "bar_color": null,
       "description_width": ""
      }
     },
     "e8ba491c7b95448ca1cb26e46e7a2437": {
      "model_module": "@jupyter-widgets/base",
      "model_module_version": "1.2.0",
      "model_name": "LayoutModel",
      "state": {
       "_model_module": "@jupyter-widgets/base",
       "_model_module_version": "1.2.0",
       "_model_name": "LayoutModel",
       "_view_count": null,
       "_view_module": "@jupyter-widgets/base",
       "_view_module_version": "1.2.0",
       "_view_name": "LayoutView",
       "align_content": null,
       "align_items": null,
       "align_self": null,
       "border": null,
       "bottom": null,
       "display": null,
       "flex": null,
       "flex_flow": null,
       "grid_area": null,
       "grid_auto_columns": null,
       "grid_auto_flow": null,
       "grid_auto_rows": null,
       "grid_column": null,
       "grid_gap": null,
       "grid_row": null,
       "grid_template_areas": null,
       "grid_template_columns": null,
       "grid_template_rows": null,
       "height": null,
       "justify_content": null,
       "justify_items": null,
       "left": null,
       "margin": null,
       "max_height": null,
       "max_width": null,
       "min_height": null,
       "min_width": null,
       "object_fit": null,
       "object_position": null,
       "order": null,
       "overflow": null,
       "overflow_x": null,
       "overflow_y": null,
       "padding": null,
       "right": null,
       "top": null,
       "visibility": null,
       "width": null
      }
     },
     "ee01c09609014f98a2ad607a9e5459ad": {
      "model_module": "@jupyter-widgets/controls",
      "model_module_version": "1.5.0",
      "model_name": "DescriptionStyleModel",
      "state": {
       "_model_module": "@jupyter-widgets/controls",
       "_model_module_version": "1.5.0",
       "_model_name": "DescriptionStyleModel",
       "_view_count": null,
       "_view_module": "@jupyter-widgets/base",
       "_view_module_version": "1.2.0",
       "_view_name": "StyleView",
       "description_width": ""
      }
     },
     "ef13381742f54a94a21a1ff56d77c006": {
      "model_module": "@jupyter-widgets/controls",
      "model_module_version": "1.5.0",
      "model_name": "DescriptionStyleModel",
      "state": {
       "_model_module": "@jupyter-widgets/controls",
       "_model_module_version": "1.5.0",
       "_model_name": "DescriptionStyleModel",
       "_view_count": null,
       "_view_module": "@jupyter-widgets/base",
       "_view_module_version": "1.2.0",
       "_view_name": "StyleView",
       "description_width": ""
      }
     },
     "f811a7f8c883429e933a0c5bea5afaec": {
      "model_module": "@jupyter-widgets/base",
      "model_module_version": "1.2.0",
      "model_name": "LayoutModel",
      "state": {
       "_model_module": "@jupyter-widgets/base",
       "_model_module_version": "1.2.0",
       "_model_name": "LayoutModel",
       "_view_count": null,
       "_view_module": "@jupyter-widgets/base",
       "_view_module_version": "1.2.0",
       "_view_name": "LayoutView",
       "align_content": null,
       "align_items": null,
       "align_self": null,
       "border": null,
       "bottom": null,
       "display": null,
       "flex": null,
       "flex_flow": null,
       "grid_area": null,
       "grid_auto_columns": null,
       "grid_auto_flow": null,
       "grid_auto_rows": null,
       "grid_column": null,
       "grid_gap": null,
       "grid_row": null,
       "grid_template_areas": null,
       "grid_template_columns": null,
       "grid_template_rows": null,
       "height": null,
       "justify_content": null,
       "justify_items": null,
       "left": null,
       "margin": null,
       "max_height": null,
       "max_width": null,
       "min_height": null,
       "min_width": null,
       "object_fit": null,
       "object_position": null,
       "order": null,
       "overflow": null,
       "overflow_x": null,
       "overflow_y": null,
       "padding": null,
       "right": null,
       "top": null,
       "visibility": null,
       "width": null
      }
     },
     "fa0459946a464bc1b5f7851de05f1d3c": {
      "model_module": "@jupyter-widgets/controls",
      "model_module_version": "1.5.0",
      "model_name": "ProgressStyleModel",
      "state": {
       "_model_module": "@jupyter-widgets/controls",
       "_model_module_version": "1.5.0",
       "_model_name": "ProgressStyleModel",
       "_view_count": null,
       "_view_module": "@jupyter-widgets/base",
       "_view_module_version": "1.2.0",
       "_view_name": "StyleView",
       "bar_color": null,
       "description_width": ""
      }
     },
     "fbcdad54f7cc41e89c5740f0e18d40e2": {
      "model_module": "@jupyter-widgets/controls",
      "model_module_version": "1.5.0",
      "model_name": "DescriptionStyleModel",
      "state": {
       "_model_module": "@jupyter-widgets/controls",
       "_model_module_version": "1.5.0",
       "_model_name": "DescriptionStyleModel",
       "_view_count": null,
       "_view_module": "@jupyter-widgets/base",
       "_view_module_version": "1.2.0",
       "_view_name": "StyleView",
       "description_width": ""
      }
     },
     "fc94160e6d6a408c91148db50aa8140b": {
      "model_module": "@jupyter-widgets/base",
      "model_module_version": "1.2.0",
      "model_name": "LayoutModel",
      "state": {
       "_model_module": "@jupyter-widgets/base",
       "_model_module_version": "1.2.0",
       "_model_name": "LayoutModel",
       "_view_count": null,
       "_view_module": "@jupyter-widgets/base",
       "_view_module_version": "1.2.0",
       "_view_name": "LayoutView",
       "align_content": null,
       "align_items": null,
       "align_self": null,
       "border": null,
       "bottom": null,
       "display": null,
       "flex": null,
       "flex_flow": null,
       "grid_area": null,
       "grid_auto_columns": null,
       "grid_auto_flow": null,
       "grid_auto_rows": null,
       "grid_column": null,
       "grid_gap": null,
       "grid_row": null,
       "grid_template_areas": null,
       "grid_template_columns": null,
       "grid_template_rows": null,
       "height": null,
       "justify_content": null,
       "justify_items": null,
       "left": null,
       "margin": null,
       "max_height": null,
       "max_width": null,
       "min_height": null,
       "min_width": null,
       "object_fit": null,
       "object_position": null,
       "order": null,
       "overflow": null,
       "overflow_x": null,
       "overflow_y": null,
       "padding": null,
       "right": null,
       "top": null,
       "visibility": null,
       "width": null
      }
     },
     "fd577dd145a34602bd1fb1c10ea5878a": {
      "model_module": "@jupyter-widgets/base",
      "model_module_version": "1.2.0",
      "model_name": "LayoutModel",
      "state": {
       "_model_module": "@jupyter-widgets/base",
       "_model_module_version": "1.2.0",
       "_model_name": "LayoutModel",
       "_view_count": null,
       "_view_module": "@jupyter-widgets/base",
       "_view_module_version": "1.2.0",
       "_view_name": "LayoutView",
       "align_content": null,
       "align_items": null,
       "align_self": null,
       "border": null,
       "bottom": null,
       "display": null,
       "flex": null,
       "flex_flow": null,
       "grid_area": null,
       "grid_auto_columns": null,
       "grid_auto_flow": null,
       "grid_auto_rows": null,
       "grid_column": null,
       "grid_gap": null,
       "grid_row": null,
       "grid_template_areas": null,
       "grid_template_columns": null,
       "grid_template_rows": null,
       "height": null,
       "justify_content": null,
       "justify_items": null,
       "left": null,
       "margin": null,
       "max_height": null,
       "max_width": null,
       "min_height": null,
       "min_width": null,
       "object_fit": null,
       "object_position": null,
       "order": null,
       "overflow": null,
       "overflow_x": null,
       "overflow_y": null,
       "padding": null,
       "right": null,
       "top": null,
       "visibility": null,
       "width": null
      }
     },
     "fea7a99ff0834337983cea2d06779950": {
      "model_module": "@jupyter-widgets/controls",
      "model_module_version": "1.5.0",
      "model_name": "HTMLModel",
      "state": {
       "_dom_classes": [],
       "_model_module": "@jupyter-widgets/controls",
       "_model_module_version": "1.5.0",
       "_model_name": "HTMLModel",
       "_view_count": null,
       "_view_module": "@jupyter-widgets/controls",
       "_view_module_version": "1.5.0",
       "_view_name": "HTMLView",
       "description": "",
       "description_tooltip": null,
       "layout": "IPY_MODEL_03314ae883d94a0ca47ace2e5ae4c019",
       "placeholder": "​",
       "style": "IPY_MODEL_859d3f7199c5413bb6261f06172ff636",
       "value": "Batches: 100%"
      }
     }
    },
    "version_major": 2,
    "version_minor": 0
   }
  }
 },
 "nbformat": 4,
 "nbformat_minor": 5
}
